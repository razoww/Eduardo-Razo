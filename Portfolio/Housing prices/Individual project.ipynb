{
 "cells": [
  {
   "cell_type": "markdown",
   "metadata": {},
   "source": [
    "# Housing Prices - Eastern Europe\n",
    "## Eduardo Razo"
   ]
  },
  {
   "cell_type": "markdown",
   "metadata": {},
   "source": [
    "#### Import librearies"
   ]
  },
  {
   "cell_type": "code",
   "execution_count": 1,
   "metadata": {},
   "outputs": [],
   "source": [
    "import numpy as np\n",
    "import pandas as pd\n",
    "from datetime import datetime\n",
    "import matplotlib.pyplot as plt\n",
    "import seaborn as sns\n",
    "from bokeh.models import ColumnDataSource\n",
    "from bokeh.plotting import figure, output_file, show\n",
    "from bokeh.models.ranges import Range1d\n",
    "from bokeh.models import LinearAxis\n",
    "from bokeh.models.tools import HoverTool"
   ]
  },
  {
   "cell_type": "markdown",
   "metadata": {},
   "source": [
    "#### Data preparation"
   ]
  },
  {
   "cell_type": "markdown",
   "metadata": {},
   "source": [
    "###### Housing Prices"
   ]
  },
  {
   "cell_type": "code",
   "execution_count": 2,
   "metadata": {},
   "outputs": [
    {
     "data": {
      "text/html": [
       "<div>\n",
       "<style scoped>\n",
       "    .dataframe tbody tr th:only-of-type {\n",
       "        vertical-align: middle;\n",
       "    }\n",
       "\n",
       "    .dataframe tbody tr th {\n",
       "        vertical-align: top;\n",
       "    }\n",
       "\n",
       "    .dataframe thead th {\n",
       "        text-align: right;\n",
       "    }\n",
       "</style>\n",
       "<table border=\"1\" class=\"dataframe\">\n",
       "  <thead>\n",
       "    <tr style=\"text-align: right;\">\n",
       "      <th></th>\n",
       "      <th>TIME</th>\n",
       "      <th>GEO</th>\n",
       "      <th>PURCHASE</th>\n",
       "      <th>UNIT</th>\n",
       "      <th>Value</th>\n",
       "      <th>Flag and Footnotes</th>\n",
       "    </tr>\n",
       "  </thead>\n",
       "  <tbody>\n",
       "    <tr>\n",
       "      <td>0</td>\n",
       "      <td>2005</td>\n",
       "      <td>Bulgaria</td>\n",
       "      <td>Total</td>\n",
       "      <td>Annual average index</td>\n",
       "      <td>80.09</td>\n",
       "      <td>e</td>\n",
       "    </tr>\n",
       "    <tr>\n",
       "      <td>1</td>\n",
       "      <td>2005</td>\n",
       "      <td>Bulgaria</td>\n",
       "      <td>Total</td>\n",
       "      <td>Annual average rate of change</td>\n",
       "      <td>:</td>\n",
       "      <td>NaN</td>\n",
       "    </tr>\n",
       "    <tr>\n",
       "      <td>2</td>\n",
       "      <td>2005</td>\n",
       "      <td>Bulgaria</td>\n",
       "      <td>Purchases of new dwellings</td>\n",
       "      <td>Annual average index</td>\n",
       "      <td>67.21</td>\n",
       "      <td>e</td>\n",
       "    </tr>\n",
       "    <tr>\n",
       "      <td>3</td>\n",
       "      <td>2005</td>\n",
       "      <td>Bulgaria</td>\n",
       "      <td>Purchases of new dwellings</td>\n",
       "      <td>Annual average rate of change</td>\n",
       "      <td>:</td>\n",
       "      <td>NaN</td>\n",
       "    </tr>\n",
       "    <tr>\n",
       "      <td>4</td>\n",
       "      <td>2005</td>\n",
       "      <td>Bulgaria</td>\n",
       "      <td>Purchases of existing dwellings</td>\n",
       "      <td>Annual average index</td>\n",
       "      <td>82.95</td>\n",
       "      <td>NaN</td>\n",
       "    </tr>\n",
       "  </tbody>\n",
       "</table>\n",
       "</div>"
      ],
      "text/plain": [
       "   TIME       GEO                         PURCHASE  \\\n",
       "0  2005  Bulgaria                            Total   \n",
       "1  2005  Bulgaria                            Total   \n",
       "2  2005  Bulgaria       Purchases of new dwellings   \n",
       "3  2005  Bulgaria       Purchases of new dwellings   \n",
       "4  2005  Bulgaria  Purchases of existing dwellings   \n",
       "\n",
       "                            UNIT  Value Flag and Footnotes  \n",
       "0           Annual average index  80.09                  e  \n",
       "1  Annual average rate of change      :                NaN  \n",
       "2           Annual average index  67.21                  e  \n",
       "3  Annual average rate of change      :                NaN  \n",
       "4           Annual average index  82.95                NaN  "
      ]
     },
     "execution_count": 2,
     "metadata": {},
     "output_type": "execute_result"
    }
   ],
   "source": [
    "# Housing price index\n",
    "prices = pd.read_csv(\"C:/Users/razow/Desktop/IESEG Subjects/7 Financial Programming/Individual project/Datasets/Housing prices.csv\")\n",
    "prices.head()"
   ]
  },
  {
   "cell_type": "code",
   "execution_count": 3,
   "metadata": {},
   "outputs": [
    {
     "data": {
      "text/html": [
       "<div>\n",
       "<style scoped>\n",
       "    .dataframe tbody tr th:only-of-type {\n",
       "        vertical-align: middle;\n",
       "    }\n",
       "\n",
       "    .dataframe tbody tr th {\n",
       "        vertical-align: top;\n",
       "    }\n",
       "\n",
       "    .dataframe thead th {\n",
       "        text-align: right;\n",
       "    }\n",
       "</style>\n",
       "<table border=\"1\" class=\"dataframe\">\n",
       "  <thead>\n",
       "    <tr style=\"text-align: right;\">\n",
       "      <th></th>\n",
       "      <th>Year</th>\n",
       "      <th>Country</th>\n",
       "      <th>PURCHASE</th>\n",
       "      <th>UNIT</th>\n",
       "      <th>Value</th>\n",
       "    </tr>\n",
       "  </thead>\n",
       "  <tbody>\n",
       "    <tr>\n",
       "      <td>0</td>\n",
       "      <td>2005</td>\n",
       "      <td>Bulgaria</td>\n",
       "      <td>Total</td>\n",
       "      <td>Annual average index</td>\n",
       "      <td>80.09</td>\n",
       "    </tr>\n",
       "    <tr>\n",
       "      <td>1</td>\n",
       "      <td>2005</td>\n",
       "      <td>Bulgaria</td>\n",
       "      <td>Total</td>\n",
       "      <td>Annual average rate of change</td>\n",
       "      <td>0.00</td>\n",
       "    </tr>\n",
       "    <tr>\n",
       "      <td>2</td>\n",
       "      <td>2005</td>\n",
       "      <td>Bulgaria</td>\n",
       "      <td>Purchases of new dwellings</td>\n",
       "      <td>Annual average index</td>\n",
       "      <td>67.21</td>\n",
       "    </tr>\n",
       "    <tr>\n",
       "      <td>3</td>\n",
       "      <td>2005</td>\n",
       "      <td>Bulgaria</td>\n",
       "      <td>Purchases of new dwellings</td>\n",
       "      <td>Annual average rate of change</td>\n",
       "      <td>0.00</td>\n",
       "    </tr>\n",
       "    <tr>\n",
       "      <td>4</td>\n",
       "      <td>2005</td>\n",
       "      <td>Bulgaria</td>\n",
       "      <td>Purchases of existing dwellings</td>\n",
       "      <td>Annual average index</td>\n",
       "      <td>82.95</td>\n",
       "    </tr>\n",
       "  </tbody>\n",
       "</table>\n",
       "</div>"
      ],
      "text/plain": [
       "   Year   Country                         PURCHASE  \\\n",
       "0  2005  Bulgaria                            Total   \n",
       "1  2005  Bulgaria                            Total   \n",
       "2  2005  Bulgaria       Purchases of new dwellings   \n",
       "3  2005  Bulgaria       Purchases of new dwellings   \n",
       "4  2005  Bulgaria  Purchases of existing dwellings   \n",
       "\n",
       "                            UNIT  Value  \n",
       "0           Annual average index  80.09  \n",
       "1  Annual average rate of change   0.00  \n",
       "2           Annual average index  67.21  \n",
       "3  Annual average rate of change   0.00  \n",
       "4           Annual average index  82.95  "
      ]
     },
     "execution_count": 3,
     "metadata": {},
     "output_type": "execute_result"
    }
   ],
   "source": [
    "## Renaming columns\n",
    "prices.rename(columns={'TIME':'Year', 'GEO':'Country'}, inplace=True)\n",
    "\n",
    "## Dropping columns\n",
    "prices1 = prices.drop('Flag and Footnotes', axis=1)\n",
    "\n",
    "## Replacing \":\" with \"0\"\n",
    "prices1['Value'].replace(':', '0', True)\n",
    "\n",
    "## Converting \"Value\" column to float \n",
    "prices1['Value'] = prices1['Value'].astype(float)\n",
    "\n",
    "prices1.head()"
   ]
  },
  {
   "cell_type": "code",
   "execution_count": 4,
   "metadata": {},
   "outputs": [
    {
     "name": "stderr",
     "output_type": "stream",
     "text": [
      "C:\\Users\\razow\\Anaconda3\\lib\\site-packages\\pandas\\core\\indexing.py:494: SettingWithCopyWarning: \n",
      "A value is trying to be set on a copy of a slice from a DataFrame.\n",
      "Try using .loc[row_indexer,col_indexer] = value instead\n",
      "\n",
      "See the caveats in the documentation: http://pandas.pydata.org/pandas-docs/stable/user_guide/indexing.html#returning-a-view-versus-a-copy\n",
      "  self.obj[item] = s\n",
      "C:\\Users\\razow\\Anaconda3\\lib\\site-packages\\pandas\\core\\frame.py:4223: SettingWithCopyWarning: \n",
      "A value is trying to be set on a copy of a slice from a DataFrame\n",
      "\n",
      "See the caveats in the documentation: http://pandas.pydata.org/pandas-docs/stable/user_guide/indexing.html#returning-a-view-versus-a-copy\n",
      "  return super().rename(**kwargs)\n"
     ]
    },
    {
     "data": {
      "text/html": [
       "<div>\n",
       "<style scoped>\n",
       "    .dataframe tbody tr th:only-of-type {\n",
       "        vertical-align: middle;\n",
       "    }\n",
       "\n",
       "    .dataframe tbody tr th {\n",
       "        vertical-align: top;\n",
       "    }\n",
       "\n",
       "    .dataframe thead th {\n",
       "        text-align: right;\n",
       "    }\n",
       "</style>\n",
       "<table border=\"1\" class=\"dataframe\">\n",
       "  <thead>\n",
       "    <tr style=\"text-align: right;\">\n",
       "      <th></th>\n",
       "      <th>Year</th>\n",
       "      <th>Country</th>\n",
       "      <th>Value Housing</th>\n",
       "    </tr>\n",
       "  </thead>\n",
       "  <tbody>\n",
       "    <tr>\n",
       "      <td>0</td>\n",
       "      <td>2005</td>\n",
       "      <td>Bulgaria</td>\n",
       "      <td>80.09</td>\n",
       "    </tr>\n",
       "    <tr>\n",
       "      <td>30</td>\n",
       "      <td>2006</td>\n",
       "      <td>Bulgaria</td>\n",
       "      <td>91.86</td>\n",
       "    </tr>\n",
       "    <tr>\n",
       "      <td>60</td>\n",
       "      <td>2007</td>\n",
       "      <td>Bulgaria</td>\n",
       "      <td>118.42</td>\n",
       "    </tr>\n",
       "    <tr>\n",
       "      <td>90</td>\n",
       "      <td>2008</td>\n",
       "      <td>Bulgaria</td>\n",
       "      <td>147.97</td>\n",
       "    </tr>\n",
       "    <tr>\n",
       "      <td>120</td>\n",
       "      <td>2009</td>\n",
       "      <td>Bulgaria</td>\n",
       "      <td>117.79</td>\n",
       "    </tr>\n",
       "  </tbody>\n",
       "</table>\n",
       "</div>"
      ],
      "text/plain": [
       "     Year   Country  Value Housing\n",
       "0    2005  Bulgaria          80.09\n",
       "30   2006  Bulgaria          91.86\n",
       "60   2007  Bulgaria         118.42\n",
       "90   2008  Bulgaria         147.97\n",
       "120  2009  Bulgaria         117.79"
      ]
     },
     "execution_count": 4,
     "metadata": {},
     "output_type": "execute_result"
    }
   ],
   "source": [
    "## Subsetting per \"Country\" and \"Year\" \n",
    "prices2 = prices1.loc[(prices1.UNIT == 'Annual average index') & (prices1.PURCHASE == 'Total')]\n",
    "\n",
    "## Replacing 0´s in \"Value\" column\n",
    "prices2.iloc[1,4] = 104.48\n",
    "prices2.iloc[2,4] = 94.25\n",
    "prices2.iloc[3,4] = 98.91\n",
    "prices2.iloc[8,4] = 98.91\n",
    "\n",
    "## Renaming columns\n",
    "prices2.rename(columns={'Value':'Value Housing'}, inplace=True)\n",
    "\n",
    "## Dropping columns\n",
    "prices2 = prices2.drop({'PURCHASE', 'UNIT'}, axis=1)\n",
    "\n",
    "## Sorting\n",
    "prices2 = prices2.sort_values(by=['Country', 'Year'])\n",
    "\n",
    "prices2.head()"
   ]
  },
  {
   "cell_type": "code",
   "execution_count": 5,
   "metadata": {},
   "outputs": [],
   "source": [
    "#prices2.to_csv(r'C:/Users/razow\\Desktop/IESEG Subjects/7 Financial Programming/Individual project/Datasets/Final datasets/Prices.csv')"
   ]
  },
  {
   "cell_type": "markdown",
   "metadata": {},
   "source": [
    "###### Interest Rates"
   ]
  },
  {
   "cell_type": "code",
   "execution_count": 6,
   "metadata": {},
   "outputs": [
    {
     "data": {
      "text/html": [
       "<div>\n",
       "<style scoped>\n",
       "    .dataframe tbody tr th:only-of-type {\n",
       "        vertical-align: middle;\n",
       "    }\n",
       "\n",
       "    .dataframe tbody tr th {\n",
       "        vertical-align: top;\n",
       "    }\n",
       "\n",
       "    .dataframe thead th {\n",
       "        text-align: right;\n",
       "    }\n",
       "</style>\n",
       "<table border=\"1\" class=\"dataframe\">\n",
       "  <thead>\n",
       "    <tr style=\"text-align: right;\">\n",
       "      <th></th>\n",
       "      <th>SUBJECT</th>\n",
       "      <th>Subject</th>\n",
       "      <th>LOCATION</th>\n",
       "      <th>Country</th>\n",
       "      <th>FREQUENCY</th>\n",
       "      <th>Frequency</th>\n",
       "      <th>TIME</th>\n",
       "      <th>Time</th>\n",
       "      <th>Unit Code</th>\n",
       "      <th>Unit</th>\n",
       "      <th>PowerCode Code</th>\n",
       "      <th>PowerCode</th>\n",
       "      <th>Reference Period Code</th>\n",
       "      <th>Reference Period</th>\n",
       "      <th>Value</th>\n",
       "      <th>Flag Codes</th>\n",
       "      <th>Flags</th>\n",
       "    </tr>\n",
       "  </thead>\n",
       "  <tbody>\n",
       "    <tr>\n",
       "      <td>0</td>\n",
       "      <td>IRLT</td>\n",
       "      <td>Long-term interest rates, Per cent per annum</td>\n",
       "      <td>BUL</td>\n",
       "      <td>Bulgaria</td>\n",
       "      <td>A</td>\n",
       "      <td>Annual</td>\n",
       "      <td>2005</td>\n",
       "      <td>2005</td>\n",
       "      <td>PC</td>\n",
       "      <td>Percentage</td>\n",
       "      <td>0</td>\n",
       "      <td>Units</td>\n",
       "      <td>NaN</td>\n",
       "      <td>NaN</td>\n",
       "      <td>0.0</td>\n",
       "      <td>NaN</td>\n",
       "      <td>NaN</td>\n",
       "    </tr>\n",
       "    <tr>\n",
       "      <td>1</td>\n",
       "      <td>IRLT</td>\n",
       "      <td>Long-term interest rates, Per cent per annum</td>\n",
       "      <td>BUL</td>\n",
       "      <td>Bulgaria</td>\n",
       "      <td>A</td>\n",
       "      <td>Annual</td>\n",
       "      <td>2006</td>\n",
       "      <td>2006</td>\n",
       "      <td>PC</td>\n",
       "      <td>Percentage</td>\n",
       "      <td>0</td>\n",
       "      <td>Units</td>\n",
       "      <td>NaN</td>\n",
       "      <td>NaN</td>\n",
       "      <td>0.0</td>\n",
       "      <td>NaN</td>\n",
       "      <td>NaN</td>\n",
       "    </tr>\n",
       "  </tbody>\n",
       "</table>\n",
       "</div>"
      ],
      "text/plain": [
       "  SUBJECT                                       Subject LOCATION   Country  \\\n",
       "0    IRLT  Long-term interest rates, Per cent per annum      BUL  Bulgaria   \n",
       "1    IRLT  Long-term interest rates, Per cent per annum      BUL  Bulgaria   \n",
       "\n",
       "  FREQUENCY Frequency  TIME  Time Unit Code        Unit  PowerCode Code  \\\n",
       "0         A    Annual  2005  2005        PC  Percentage               0   \n",
       "1         A    Annual  2006  2006        PC  Percentage               0   \n",
       "\n",
       "  PowerCode  Reference Period Code  Reference Period  Value  Flag Codes  Flags  \n",
       "0     Units                    NaN               NaN    0.0         NaN    NaN  \n",
       "1     Units                    NaN               NaN    0.0         NaN    NaN  "
      ]
     },
     "execution_count": 6,
     "metadata": {},
     "output_type": "execute_result"
    }
   ],
   "source": [
    "# Interest Rates\n",
    "Int_Rates = pd.read_csv(\"C:/Users/razow/Desktop/IESEG Subjects/7 Financial Programming/Individual project/Datasets/Interest rates.csv\")\n",
    "Int_Rates.head(2)"
   ]
  },
  {
   "cell_type": "code",
   "execution_count": 7,
   "metadata": {},
   "outputs": [
    {
     "data": {
      "text/html": [
       "<div>\n",
       "<style scoped>\n",
       "    .dataframe tbody tr th:only-of-type {\n",
       "        vertical-align: middle;\n",
       "    }\n",
       "\n",
       "    .dataframe tbody tr th {\n",
       "        vertical-align: top;\n",
       "    }\n",
       "\n",
       "    .dataframe thead th {\n",
       "        text-align: right;\n",
       "    }\n",
       "</style>\n",
       "<table border=\"1\" class=\"dataframe\">\n",
       "  <thead>\n",
       "    <tr style=\"text-align: right;\">\n",
       "      <th></th>\n",
       "      <th>Country</th>\n",
       "      <th>Year</th>\n",
       "      <th>Value IntRate</th>\n",
       "    </tr>\n",
       "  </thead>\n",
       "  <tbody>\n",
       "    <tr>\n",
       "      <td>0</td>\n",
       "      <td>Bulgaria</td>\n",
       "      <td>2005</td>\n",
       "      <td>0.0</td>\n",
       "    </tr>\n",
       "    <tr>\n",
       "      <td>1</td>\n",
       "      <td>Bulgaria</td>\n",
       "      <td>2006</td>\n",
       "      <td>0.0</td>\n",
       "    </tr>\n",
       "    <tr>\n",
       "      <td>2</td>\n",
       "      <td>Bulgaria</td>\n",
       "      <td>2007</td>\n",
       "      <td>0.0</td>\n",
       "    </tr>\n",
       "    <tr>\n",
       "      <td>3</td>\n",
       "      <td>Bulgaria</td>\n",
       "      <td>2008</td>\n",
       "      <td>0.0</td>\n",
       "    </tr>\n",
       "    <tr>\n",
       "      <td>4</td>\n",
       "      <td>Bulgaria</td>\n",
       "      <td>2009</td>\n",
       "      <td>0.0</td>\n",
       "    </tr>\n",
       "  </tbody>\n",
       "</table>\n",
       "</div>"
      ],
      "text/plain": [
       "    Country  Year  Value IntRate\n",
       "0  Bulgaria  2005            0.0\n",
       "1  Bulgaria  2006            0.0\n",
       "2  Bulgaria  2007            0.0\n",
       "3  Bulgaria  2008            0.0\n",
       "4  Bulgaria  2009            0.0"
      ]
     },
     "execution_count": 7,
     "metadata": {},
     "output_type": "execute_result"
    }
   ],
   "source": [
    "## Dropping columns\n",
    "Int_Rates1 = Int_Rates.drop({'SUBJECT', 'Subject', 'LOCATION', 'FREQUENCY', 'Frequency', 'TIME', 'Unit Code', 'Unit', \n",
    "                             'PowerCode Code', 'PowerCode', 'Reference Period Code', 'Reference Period', 'Flag Codes',\n",
    "                             'Flags'}, axis=1)\n",
    "\n",
    "## Renaming columns\n",
    "Int_Rates1.rename(columns={'Time':'Year', 'Value':'Value IntRate'}, inplace=True)\n",
    "\n",
    "## Sorting\n",
    "Int_Rates1 = Int_Rates1.sort_values(by=['Country', 'Year'])\n",
    "\n",
    "Int_Rates1.head()"
   ]
  },
  {
   "cell_type": "code",
   "execution_count": 8,
   "metadata": {},
   "outputs": [],
   "source": [
    "#Int_Rates1.to_csv(r'C:/Users/razow/Desktop/IESEG Subjects/7 Financial Programming/Individual project/Datasets/Final datasets/IntRates.csv')"
   ]
  },
  {
   "cell_type": "markdown",
   "metadata": {},
   "source": [
    "###### GDP Per Capita"
   ]
  },
  {
   "cell_type": "code",
   "execution_count": 9,
   "metadata": {},
   "outputs": [
    {
     "data": {
      "text/html": [
       "<div>\n",
       "<style scoped>\n",
       "    .dataframe tbody tr th:only-of-type {\n",
       "        vertical-align: middle;\n",
       "    }\n",
       "\n",
       "    .dataframe tbody tr th {\n",
       "        vertical-align: top;\n",
       "    }\n",
       "\n",
       "    .dataframe thead th {\n",
       "        text-align: right;\n",
       "    }\n",
       "</style>\n",
       "<table border=\"1\" class=\"dataframe\">\n",
       "  <thead>\n",
       "    <tr style=\"text-align: right;\">\n",
       "      <th></th>\n",
       "      <th>freq;na_item;ppp_cat;geo\\TIME_PERIOD</th>\n",
       "      <th>2005</th>\n",
       "      <th>2006</th>\n",
       "      <th>2007</th>\n",
       "      <th>2008</th>\n",
       "      <th>2009</th>\n",
       "      <th>2010</th>\n",
       "      <th>2011</th>\n",
       "      <th>2012</th>\n",
       "      <th>2013</th>\n",
       "      <th>2014</th>\n",
       "      <th>2015</th>\n",
       "      <th>2016</th>\n",
       "      <th>2017</th>\n",
       "      <th>2018</th>\n",
       "    </tr>\n",
       "  </thead>\n",
       "  <tbody>\n",
       "    <tr>\n",
       "      <td>0</td>\n",
       "      <td>A;VI_PPS_EU28_HAB;GDP;BG</td>\n",
       "      <td>40</td>\n",
       "      <td>40</td>\n",
       "      <td>40</td>\n",
       "      <td>43</td>\n",
       "      <td>43</td>\n",
       "      <td>44</td>\n",
       "      <td>45</td>\n",
       "      <td>46</td>\n",
       "      <td>45</td>\n",
       "      <td>47</td>\n",
       "      <td>47</td>\n",
       "      <td>49</td>\n",
       "      <td>50</td>\n",
       "      <td>51</td>\n",
       "    </tr>\n",
       "    <tr>\n",
       "      <td>1</td>\n",
       "      <td>A;VI_PPS_EU28_HAB;GDP;HU</td>\n",
       "      <td>60</td>\n",
       "      <td>60</td>\n",
       "      <td>60</td>\n",
       "      <td>63</td>\n",
       "      <td>64</td>\n",
       "      <td>65</td>\n",
       "      <td>66</td>\n",
       "      <td>66</td>\n",
       "      <td>67</td>\n",
       "      <td>68</td>\n",
       "      <td>69</td>\n",
       "      <td>68</td>\n",
       "      <td>68</td>\n",
       "      <td>71</td>\n",
       "    </tr>\n",
       "    <tr>\n",
       "      <td>2</td>\n",
       "      <td>A;VI_PPS_EU28_HAB;GDP;LT</td>\n",
       "      <td>60</td>\n",
       "      <td>60</td>\n",
       "      <td>60</td>\n",
       "      <td>63</td>\n",
       "      <td>56</td>\n",
       "      <td>60</td>\n",
       "      <td>66</td>\n",
       "      <td>70</td>\n",
       "      <td>73</td>\n",
       "      <td>75</td>\n",
       "      <td>74</td>\n",
       "      <td>75</td>\n",
       "      <td>78</td>\n",
       "      <td>80</td>\n",
       "    </tr>\n",
       "    <tr>\n",
       "      <td>3</td>\n",
       "      <td>A;VI_PPS_EU28_HAB;GDP;LV</td>\n",
       "      <td>57</td>\n",
       "      <td>57</td>\n",
       "      <td>57</td>\n",
       "      <td>59</td>\n",
       "      <td>52</td>\n",
       "      <td>53</td>\n",
       "      <td>57</td>\n",
       "      <td>60</td>\n",
       "      <td>62</td>\n",
       "      <td>63</td>\n",
       "      <td>64</td>\n",
       "      <td>64</td>\n",
       "      <td>66</td>\n",
       "      <td>69</td>\n",
       "    </tr>\n",
       "    <tr>\n",
       "      <td>4</td>\n",
       "      <td>A;VI_PPS_EU28_HAB;GDP;PL</td>\n",
       "      <td>53</td>\n",
       "      <td>53</td>\n",
       "      <td>53</td>\n",
       "      <td>55</td>\n",
       "      <td>59</td>\n",
       "      <td>62</td>\n",
       "      <td>65</td>\n",
       "      <td>67</td>\n",
       "      <td>67</td>\n",
       "      <td>67</td>\n",
       "      <td>68</td>\n",
       "      <td>68</td>\n",
       "      <td>69</td>\n",
       "      <td>70</td>\n",
       "    </tr>\n",
       "  </tbody>\n",
       "</table>\n",
       "</div>"
      ],
      "text/plain": [
       "  freq;na_item;ppp_cat;geo\\TIME_PERIOD  2005  2006  2007  2008  2009  2010  \\\n",
       "0             A;VI_PPS_EU28_HAB;GDP;BG    40    40    40    43    43    44   \n",
       "1             A;VI_PPS_EU28_HAB;GDP;HU    60    60    60    63    64    65   \n",
       "2             A;VI_PPS_EU28_HAB;GDP;LT    60    60    60    63    56    60   \n",
       "3             A;VI_PPS_EU28_HAB;GDP;LV    57    57    57    59    52    53   \n",
       "4             A;VI_PPS_EU28_HAB;GDP;PL    53    53    53    55    59    62   \n",
       "\n",
       "   2011  2012  2013  2014  2015  2016  2017  2018  \n",
       "0    45    46    45    47    47    49    50    51  \n",
       "1    66    66    67    68    69    68    68    71  \n",
       "2    66    70    73    75    74    75    78    80  \n",
       "3    57    60    62    63    64    64    66    69  \n",
       "4    65    67    67    67    68    68    69    70  "
      ]
     },
     "execution_count": 9,
     "metadata": {},
     "output_type": "execute_result"
    }
   ],
   "source": [
    "# GDP\n",
    "GDP = pd.read_csv(\"C:/Users/razow/Desktop/IESEG Subjects/7 Financial Programming/Individual project/Datasets/GDP.csv\")\n",
    "GDP.head()"
   ]
  },
  {
   "cell_type": "code",
   "execution_count": 10,
   "metadata": {},
   "outputs": [
    {
     "data": {
      "text/html": [
       "<div>\n",
       "<style scoped>\n",
       "    .dataframe tbody tr th:only-of-type {\n",
       "        vertical-align: middle;\n",
       "    }\n",
       "\n",
       "    .dataframe tbody tr th {\n",
       "        vertical-align: top;\n",
       "    }\n",
       "\n",
       "    .dataframe thead th {\n",
       "        text-align: right;\n",
       "    }\n",
       "</style>\n",
       "<table border=\"1\" class=\"dataframe\">\n",
       "  <thead>\n",
       "    <tr style=\"text-align: right;\">\n",
       "      <th></th>\n",
       "      <th>Country</th>\n",
       "      <th>Year</th>\n",
       "      <th>Value GDP</th>\n",
       "    </tr>\n",
       "  </thead>\n",
       "  <tbody>\n",
       "    <tr>\n",
       "      <td>0</td>\n",
       "      <td>Bulgaria</td>\n",
       "      <td>2005</td>\n",
       "      <td>40</td>\n",
       "    </tr>\n",
       "    <tr>\n",
       "      <td>5</td>\n",
       "      <td>Bulgaria</td>\n",
       "      <td>2006</td>\n",
       "      <td>40</td>\n",
       "    </tr>\n",
       "    <tr>\n",
       "      <td>10</td>\n",
       "      <td>Bulgaria</td>\n",
       "      <td>2007</td>\n",
       "      <td>40</td>\n",
       "    </tr>\n",
       "    <tr>\n",
       "      <td>15</td>\n",
       "      <td>Bulgaria</td>\n",
       "      <td>2008</td>\n",
       "      <td>43</td>\n",
       "    </tr>\n",
       "    <tr>\n",
       "      <td>20</td>\n",
       "      <td>Bulgaria</td>\n",
       "      <td>2009</td>\n",
       "      <td>43</td>\n",
       "    </tr>\n",
       "  </tbody>\n",
       "</table>\n",
       "</div>"
      ],
      "text/plain": [
       "     Country  Year  Value GDP\n",
       "0   Bulgaria  2005         40\n",
       "5   Bulgaria  2006         40\n",
       "10  Bulgaria  2007         40\n",
       "15  Bulgaria  2008         43\n",
       "20  Bulgaria  2009         43"
      ]
     },
     "execution_count": 10,
     "metadata": {},
     "output_type": "execute_result"
    }
   ],
   "source": [
    "## Renaming columns\n",
    "GDP.rename(columns={'freq;na_item;ppp_cat;geo\\TIME_PERIOD':'Country'}, inplace=True)\n",
    "\n",
    "## Replacing country names \n",
    "GDP['Country'].replace('A;VI_PPS_EU28_HAB;GDP;BG', 'Bulgaria', True)\n",
    "GDP['Country'].replace('A;VI_PPS_EU28_HAB;GDP;HU', 'Hungary', True)\n",
    "GDP['Country'].replace('A;VI_PPS_EU28_HAB;GDP;LT', 'Lithuania', True)\n",
    "GDP['Country'].replace('A;VI_PPS_EU28_HAB;GDP;LV', 'Latvia', True)\n",
    "GDP['Country'].replace('A;VI_PPS_EU28_HAB;GDP;PL', 'Poland', True)\n",
    "\n",
    "## Melting data set\n",
    "GDP1 = GDP.melt(id_vars=['Country'],\n",
    "                    var_name=\"Year\",\n",
    "                    value_name=\"Value\")\n",
    "\n",
    "## Converting 'Value' column to integer\n",
    "GDP1['Year'] = GDP1['Year'].astype(int) \n",
    "\n",
    "## Renaming columns\n",
    "GDP1.rename(columns={'Value':'Value GDP'}, inplace=True)\n",
    "\n",
    "## Sorting\n",
    "GDP1 = GDP1.sort_values(by=['Country', 'Year'])\n",
    "\n",
    "GDP1.head()"
   ]
  },
  {
   "cell_type": "code",
   "execution_count": 11,
   "metadata": {},
   "outputs": [],
   "source": [
    "#GDP1.to_csv(r'C:/Users/razow/Desktop/IESEG Subjects/7 Financial Programming/Individual project/Datasets/Final datasets/GDP.csv')"
   ]
  },
  {
   "cell_type": "markdown",
   "metadata": {},
   "source": [
    "###### Employment"
   ]
  },
  {
   "cell_type": "code",
   "execution_count": 12,
   "metadata": {},
   "outputs": [
    {
     "data": {
      "text/html": [
       "<div>\n",
       "<style scoped>\n",
       "    .dataframe tbody tr th:only-of-type {\n",
       "        vertical-align: middle;\n",
       "    }\n",
       "\n",
       "    .dataframe tbody tr th {\n",
       "        vertical-align: top;\n",
       "    }\n",
       "\n",
       "    .dataframe thead th {\n",
       "        text-align: right;\n",
       "    }\n",
       "</style>\n",
       "<table border=\"1\" class=\"dataframe\">\n",
       "  <thead>\n",
       "    <tr style=\"text-align: right;\">\n",
       "      <th></th>\n",
       "      <th>TIME</th>\n",
       "      <th>GEO</th>\n",
       "      <th>AGE</th>\n",
       "      <th>UNIT</th>\n",
       "      <th>SEX</th>\n",
       "      <th>INDIC_EM</th>\n",
       "      <th>Value</th>\n",
       "      <th>Flag and Footnotes</th>\n",
       "    </tr>\n",
       "  </thead>\n",
       "  <tbody>\n",
       "    <tr>\n",
       "      <td>0</td>\n",
       "      <td>2005</td>\n",
       "      <td>Bulgaria</td>\n",
       "      <td>From 15 to 64 years</td>\n",
       "      <td>Thousand persons</td>\n",
       "      <td>Total</td>\n",
       "      <td>Total employment (resident population concept ...</td>\n",
       "      <td>2,947</td>\n",
       "      <td>NaN</td>\n",
       "    </tr>\n",
       "    <tr>\n",
       "      <td>1</td>\n",
       "      <td>2005</td>\n",
       "      <td>Latvia</td>\n",
       "      <td>From 15 to 64 years</td>\n",
       "      <td>Thousand persons</td>\n",
       "      <td>Total</td>\n",
       "      <td>Total employment (resident population concept ...</td>\n",
       "      <td>942</td>\n",
       "      <td>NaN</td>\n",
       "    </tr>\n",
       "    <tr>\n",
       "      <td>2</td>\n",
       "      <td>2005</td>\n",
       "      <td>Lithuania</td>\n",
       "      <td>From 15 to 64 years</td>\n",
       "      <td>Thousand persons</td>\n",
       "      <td>Total</td>\n",
       "      <td>Total employment (resident population concept ...</td>\n",
       "      <td>1,414</td>\n",
       "      <td>NaN</td>\n",
       "    </tr>\n",
       "    <tr>\n",
       "      <td>3</td>\n",
       "      <td>2005</td>\n",
       "      <td>Hungary</td>\n",
       "      <td>From 15 to 64 years</td>\n",
       "      <td>Thousand persons</td>\n",
       "      <td>Total</td>\n",
       "      <td>Total employment (resident population concept ...</td>\n",
       "      <td>3,879</td>\n",
       "      <td>NaN</td>\n",
       "    </tr>\n",
       "    <tr>\n",
       "      <td>4</td>\n",
       "      <td>2005</td>\n",
       "      <td>Poland</td>\n",
       "      <td>From 15 to 64 years</td>\n",
       "      <td>Thousand persons</td>\n",
       "      <td>Total</td>\n",
       "      <td>Total employment (resident population concept ...</td>\n",
       "      <td>13,834</td>\n",
       "      <td>NaN</td>\n",
       "    </tr>\n",
       "  </tbody>\n",
       "</table>\n",
       "</div>"
      ],
      "text/plain": [
       "   TIME        GEO                  AGE              UNIT    SEX  \\\n",
       "0  2005   Bulgaria  From 15 to 64 years  Thousand persons  Total   \n",
       "1  2005     Latvia  From 15 to 64 years  Thousand persons  Total   \n",
       "2  2005  Lithuania  From 15 to 64 years  Thousand persons  Total   \n",
       "3  2005    Hungary  From 15 to 64 years  Thousand persons  Total   \n",
       "4  2005     Poland  From 15 to 64 years  Thousand persons  Total   \n",
       "\n",
       "                                            INDIC_EM   Value  \\\n",
       "0  Total employment (resident population concept ...   2,947   \n",
       "1  Total employment (resident population concept ...     942   \n",
       "2  Total employment (resident population concept ...   1,414   \n",
       "3  Total employment (resident population concept ...   3,879   \n",
       "4  Total employment (resident population concept ...  13,834   \n",
       "\n",
       "  Flag and Footnotes  \n",
       "0                NaN  \n",
       "1                NaN  \n",
       "2                NaN  \n",
       "3                NaN  \n",
       "4                NaN  "
      ]
     },
     "execution_count": 12,
     "metadata": {},
     "output_type": "execute_result"
    }
   ],
   "source": [
    "# Employment\n",
    "Employment = pd.read_csv(\"C:/Users/razow/Desktop/IESEG Subjects/7 Financial Programming/Individual project/Datasets/Employment.csv\")\n",
    "Employment.head()"
   ]
  },
  {
   "cell_type": "code",
   "execution_count": 13,
   "metadata": {},
   "outputs": [
    {
     "data": {
      "text/html": [
       "<div>\n",
       "<style scoped>\n",
       "    .dataframe tbody tr th:only-of-type {\n",
       "        vertical-align: middle;\n",
       "    }\n",
       "\n",
       "    .dataframe tbody tr th {\n",
       "        vertical-align: top;\n",
       "    }\n",
       "\n",
       "    .dataframe thead th {\n",
       "        text-align: right;\n",
       "    }\n",
       "</style>\n",
       "<table border=\"1\" class=\"dataframe\">\n",
       "  <thead>\n",
       "    <tr style=\"text-align: right;\">\n",
       "      <th></th>\n",
       "      <th>Year</th>\n",
       "      <th>Country</th>\n",
       "      <th>Value Employ</th>\n",
       "    </tr>\n",
       "  </thead>\n",
       "  <tbody>\n",
       "    <tr>\n",
       "      <td>0</td>\n",
       "      <td>2005</td>\n",
       "      <td>Bulgaria</td>\n",
       "      <td>2947</td>\n",
       "    </tr>\n",
       "    <tr>\n",
       "      <td>5</td>\n",
       "      <td>2006</td>\n",
       "      <td>Bulgaria</td>\n",
       "      <td>3072</td>\n",
       "    </tr>\n",
       "    <tr>\n",
       "      <td>10</td>\n",
       "      <td>2007</td>\n",
       "      <td>Bulgaria</td>\n",
       "      <td>3209</td>\n",
       "    </tr>\n",
       "    <tr>\n",
       "      <td>15</td>\n",
       "      <td>2008</td>\n",
       "      <td>Bulgaria</td>\n",
       "      <td>3306</td>\n",
       "    </tr>\n",
       "    <tr>\n",
       "      <td>20</td>\n",
       "      <td>2009</td>\n",
       "      <td>Bulgaria</td>\n",
       "      <td>3205</td>\n",
       "    </tr>\n",
       "  </tbody>\n",
       "</table>\n",
       "</div>"
      ],
      "text/plain": [
       "    Year   Country  Value Employ\n",
       "0   2005  Bulgaria          2947\n",
       "5   2006  Bulgaria          3072\n",
       "10  2007  Bulgaria          3209\n",
       "15  2008  Bulgaria          3306\n",
       "20  2009  Bulgaria          3205"
      ]
     },
     "execution_count": 13,
     "metadata": {},
     "output_type": "execute_result"
    }
   ],
   "source": [
    "## Dropping columns\n",
    "Employment1 = Employment.drop({'UNIT', 'INDIC_EM', 'Flag and Footnotes', 'AGE', 'SEX'}, axis=1)\n",
    "\n",
    "## Renaming columns\n",
    "Employment1.rename(columns={'TIME':'Year', 'GEO':'Country'}, inplace=True)\n",
    "\n",
    "## Removing commas from 'Value' column\n",
    "Employment1['Value'] = Employment1['Value'].replace(',', '', regex=True)\n",
    "\n",
    "## Converting 'Value' column to integer\n",
    "Employment1['Value'] = Employment1['Value'].astype(int)\n",
    "\n",
    "## Renaming columns\n",
    "Employment1.rename(columns={'Value':'Value Employ'}, inplace=True)\n",
    "\n",
    "## Sorting\n",
    "Employment1 = Employment1.sort_values(by=['Country', 'Year'])\n",
    "\n",
    "Employment1.head()"
   ]
  },
  {
   "cell_type": "code",
   "execution_count": 14,
   "metadata": {},
   "outputs": [],
   "source": [
    "#Employment1.to_csv(r'C:/Users/razow/Desktop/IESEG Subjects/7 Financial Programming/Individual project/Datasets/Final datasets/Employ.csv')"
   ]
  },
  {
   "cell_type": "markdown",
   "metadata": {},
   "source": [
    "###### Loans"
   ]
  },
  {
   "cell_type": "code",
   "execution_count": 15,
   "metadata": {},
   "outputs": [
    {
     "data": {
      "text/html": [
       "<div>\n",
       "<style scoped>\n",
       "    .dataframe tbody tr th:only-of-type {\n",
       "        vertical-align: middle;\n",
       "    }\n",
       "\n",
       "    .dataframe tbody tr th {\n",
       "        vertical-align: top;\n",
       "    }\n",
       "\n",
       "    .dataframe thead th {\n",
       "        text-align: right;\n",
       "    }\n",
       "</style>\n",
       "<table border=\"1\" class=\"dataframe\">\n",
       "  <thead>\n",
       "    <tr style=\"text-align: right;\">\n",
       "      <th></th>\n",
       "      <th>freq;unit;co_nco;na_item;finpos;sector;geo\\TIME_PERIOD</th>\n",
       "      <th>2005</th>\n",
       "      <th>2006</th>\n",
       "      <th>2007</th>\n",
       "      <th>2008</th>\n",
       "      <th>2009</th>\n",
       "      <th>2010</th>\n",
       "      <th>2011</th>\n",
       "      <th>2012</th>\n",
       "      <th>2013</th>\n",
       "      <th>2014</th>\n",
       "      <th>2015</th>\n",
       "      <th>2016</th>\n",
       "      <th>2017</th>\n",
       "      <th>2018</th>\n",
       "    </tr>\n",
       "  </thead>\n",
       "  <tbody>\n",
       "    <tr>\n",
       "      <td>0</td>\n",
       "      <td>A;PC_GDP;NCO;F4;LIAB;S14;BG</td>\n",
       "      <td>5.9</td>\n",
       "      <td>4.2</td>\n",
       "      <td>9.5</td>\n",
       "      <td>7.6</td>\n",
       "      <td>0.0</td>\n",
       "      <td>0.1</td>\n",
       "      <td>0.1</td>\n",
       "      <td>-0.3</td>\n",
       "      <td>0.2</td>\n",
       "      <td>0.2</td>\n",
       "      <td>0.2</td>\n",
       "      <td>0.8</td>\n",
       "      <td>1.4</td>\n",
       "      <td>2.3</td>\n",
       "    </tr>\n",
       "    <tr>\n",
       "      <td>1</td>\n",
       "      <td>A;PC_GDP;NCO;F4;LIAB;S14;HU</td>\n",
       "      <td>4.6</td>\n",
       "      <td>4.9</td>\n",
       "      <td>5.7</td>\n",
       "      <td>4.9</td>\n",
       "      <td>-0.3</td>\n",
       "      <td>-1.1</td>\n",
       "      <td>-3.5</td>\n",
       "      <td>-3.3</td>\n",
       "      <td>-1.5</td>\n",
       "      <td>-1.0</td>\n",
       "      <td>-3.4</td>\n",
       "      <td>0.2</td>\n",
       "      <td>0.4</td>\n",
       "      <td>0.9</td>\n",
       "    </tr>\n",
       "    <tr>\n",
       "      <td>2</td>\n",
       "      <td>A;PC_GDP;NCO;F4;LIAB;S14;LT</td>\n",
       "      <td>5.9</td>\n",
       "      <td>8.4</td>\n",
       "      <td>9.6</td>\n",
       "      <td>4.8</td>\n",
       "      <td>-1.8</td>\n",
       "      <td>-1.8</td>\n",
       "      <td>-0.9</td>\n",
       "      <td>-0.5</td>\n",
       "      <td>0.0</td>\n",
       "      <td>0.4</td>\n",
       "      <td>1.4</td>\n",
       "      <td>1.6</td>\n",
       "      <td>1.6</td>\n",
       "      <td>1.7</td>\n",
       "    </tr>\n",
       "    <tr>\n",
       "      <td>3</td>\n",
       "      <td>A;PC_GDP;NCO;F4;LIAB;S14;LV</td>\n",
       "      <td>13.5</td>\n",
       "      <td>17.6</td>\n",
       "      <td>13.2</td>\n",
       "      <td>2.5</td>\n",
       "      <td>-4.3</td>\n",
       "      <td>-3.2</td>\n",
       "      <td>-3.0</td>\n",
       "      <td>-3.2</td>\n",
       "      <td>-1.3</td>\n",
       "      <td>-1.4</td>\n",
       "      <td>-0.7</td>\n",
       "      <td>0.1</td>\n",
       "      <td>0.5</td>\n",
       "      <td>0.3</td>\n",
       "    </tr>\n",
       "    <tr>\n",
       "      <td>4</td>\n",
       "      <td>A;PC_GDP;NCO;F4;LIAB;S14;PL</td>\n",
       "      <td>2.7</td>\n",
       "      <td>4.7</td>\n",
       "      <td>6.7</td>\n",
       "      <td>6.7</td>\n",
       "      <td>3.7</td>\n",
       "      <td>2.7</td>\n",
       "      <td>2.4</td>\n",
       "      <td>1.4</td>\n",
       "      <td>1.7</td>\n",
       "      <td>1.5</td>\n",
       "      <td>1.4</td>\n",
       "      <td>1.5</td>\n",
       "      <td>1.7</td>\n",
       "      <td>2.1</td>\n",
       "    </tr>\n",
       "  </tbody>\n",
       "</table>\n",
       "</div>"
      ],
      "text/plain": [
       "  freq;unit;co_nco;na_item;finpos;sector;geo\\TIME_PERIOD  2005  2006  2007  \\\n",
       "0                        A;PC_GDP;NCO;F4;LIAB;S14;BG       5.9   4.2   9.5   \n",
       "1                        A;PC_GDP;NCO;F4;LIAB;S14;HU       4.6   4.9   5.7   \n",
       "2                        A;PC_GDP;NCO;F4;LIAB;S14;LT       5.9   8.4   9.6   \n",
       "3                        A;PC_GDP;NCO;F4;LIAB;S14;LV      13.5  17.6  13.2   \n",
       "4                        A;PC_GDP;NCO;F4;LIAB;S14;PL       2.7   4.7   6.7   \n",
       "\n",
       "   2008  2009  2010  2011  2012  2013  2014  2015  2016  2017  2018  \n",
       "0   7.6   0.0   0.1   0.1  -0.3   0.2   0.2   0.2   0.8   1.4   2.3  \n",
       "1   4.9  -0.3  -1.1  -3.5  -3.3  -1.5  -1.0  -3.4   0.2   0.4   0.9  \n",
       "2   4.8  -1.8  -1.8  -0.9  -0.5   0.0   0.4   1.4   1.6   1.6   1.7  \n",
       "3   2.5  -4.3  -3.2  -3.0  -3.2  -1.3  -1.4  -0.7   0.1   0.5   0.3  \n",
       "4   6.7   3.7   2.7   2.4   1.4   1.7   1.5   1.4   1.5   1.7   2.1  "
      ]
     },
     "execution_count": 15,
     "metadata": {},
     "output_type": "execute_result"
    }
   ],
   "source": [
    "# Loans\n",
    "Loans = pd.read_csv(\"C:/Users/razow/Desktop/IESEG Subjects/7 Financial Programming/Individual project/Datasets/Loans.csv\")\n",
    "Loans.head()"
   ]
  },
  {
   "cell_type": "code",
   "execution_count": 16,
   "metadata": {},
   "outputs": [
    {
     "data": {
      "text/html": [
       "<div>\n",
       "<style scoped>\n",
       "    .dataframe tbody tr th:only-of-type {\n",
       "        vertical-align: middle;\n",
       "    }\n",
       "\n",
       "    .dataframe tbody tr th {\n",
       "        vertical-align: top;\n",
       "    }\n",
       "\n",
       "    .dataframe thead th {\n",
       "        text-align: right;\n",
       "    }\n",
       "</style>\n",
       "<table border=\"1\" class=\"dataframe\">\n",
       "  <thead>\n",
       "    <tr style=\"text-align: right;\">\n",
       "      <th></th>\n",
       "      <th>Country</th>\n",
       "      <th>2005</th>\n",
       "      <th>2006</th>\n",
       "      <th>2007</th>\n",
       "      <th>2008</th>\n",
       "      <th>2009</th>\n",
       "      <th>2010</th>\n",
       "      <th>2011</th>\n",
       "      <th>2012</th>\n",
       "      <th>2013</th>\n",
       "      <th>2014</th>\n",
       "      <th>2015</th>\n",
       "      <th>2016</th>\n",
       "      <th>2017</th>\n",
       "      <th>2018</th>\n",
       "    </tr>\n",
       "  </thead>\n",
       "  <tbody>\n",
       "    <tr>\n",
       "      <td>0</td>\n",
       "      <td>Bulgaria</td>\n",
       "      <td>5.9</td>\n",
       "      <td>4.2</td>\n",
       "      <td>9.5</td>\n",
       "      <td>7.6</td>\n",
       "      <td>0.0</td>\n",
       "      <td>0.1</td>\n",
       "      <td>0.1</td>\n",
       "      <td>-0.3</td>\n",
       "      <td>0.2</td>\n",
       "      <td>0.2</td>\n",
       "      <td>0.2</td>\n",
       "      <td>0.8</td>\n",
       "      <td>1.4</td>\n",
       "      <td>2.3</td>\n",
       "    </tr>\n",
       "    <tr>\n",
       "      <td>1</td>\n",
       "      <td>Hungary</td>\n",
       "      <td>4.6</td>\n",
       "      <td>4.9</td>\n",
       "      <td>5.7</td>\n",
       "      <td>4.9</td>\n",
       "      <td>-0.3</td>\n",
       "      <td>-1.1</td>\n",
       "      <td>-3.5</td>\n",
       "      <td>-3.3</td>\n",
       "      <td>-1.5</td>\n",
       "      <td>-1.0</td>\n",
       "      <td>-3.4</td>\n",
       "      <td>0.2</td>\n",
       "      <td>0.4</td>\n",
       "      <td>0.9</td>\n",
       "    </tr>\n",
       "    <tr>\n",
       "      <td>2</td>\n",
       "      <td>Lithuania</td>\n",
       "      <td>5.9</td>\n",
       "      <td>8.4</td>\n",
       "      <td>9.6</td>\n",
       "      <td>4.8</td>\n",
       "      <td>-1.8</td>\n",
       "      <td>-1.8</td>\n",
       "      <td>-0.9</td>\n",
       "      <td>-0.5</td>\n",
       "      <td>0.0</td>\n",
       "      <td>0.4</td>\n",
       "      <td>1.4</td>\n",
       "      <td>1.6</td>\n",
       "      <td>1.6</td>\n",
       "      <td>1.7</td>\n",
       "    </tr>\n",
       "    <tr>\n",
       "      <td>3</td>\n",
       "      <td>Latvia</td>\n",
       "      <td>13.5</td>\n",
       "      <td>17.6</td>\n",
       "      <td>13.2</td>\n",
       "      <td>2.5</td>\n",
       "      <td>-4.3</td>\n",
       "      <td>-3.2</td>\n",
       "      <td>-3.0</td>\n",
       "      <td>-3.2</td>\n",
       "      <td>-1.3</td>\n",
       "      <td>-1.4</td>\n",
       "      <td>-0.7</td>\n",
       "      <td>0.1</td>\n",
       "      <td>0.5</td>\n",
       "      <td>0.3</td>\n",
       "    </tr>\n",
       "    <tr>\n",
       "      <td>4</td>\n",
       "      <td>Poland</td>\n",
       "      <td>2.7</td>\n",
       "      <td>4.7</td>\n",
       "      <td>6.7</td>\n",
       "      <td>6.7</td>\n",
       "      <td>3.7</td>\n",
       "      <td>2.7</td>\n",
       "      <td>2.4</td>\n",
       "      <td>1.4</td>\n",
       "      <td>1.7</td>\n",
       "      <td>1.5</td>\n",
       "      <td>1.4</td>\n",
       "      <td>1.5</td>\n",
       "      <td>1.7</td>\n",
       "      <td>2.1</td>\n",
       "    </tr>\n",
       "  </tbody>\n",
       "</table>\n",
       "</div>"
      ],
      "text/plain": [
       "     Country  2005  2006  2007  2008  2009  2010  2011  2012  2013  2014  \\\n",
       "0   Bulgaria   5.9   4.2   9.5   7.6   0.0   0.1   0.1  -0.3   0.2   0.2   \n",
       "1    Hungary   4.6   4.9   5.7   4.9  -0.3  -1.1  -3.5  -3.3  -1.5  -1.0   \n",
       "2  Lithuania   5.9   8.4   9.6   4.8  -1.8  -1.8  -0.9  -0.5   0.0   0.4   \n",
       "3     Latvia  13.5  17.6  13.2   2.5  -4.3  -3.2  -3.0  -3.2  -1.3  -1.4   \n",
       "4     Poland   2.7   4.7   6.7   6.7   3.7   2.7   2.4   1.4   1.7   1.5   \n",
       "\n",
       "   2015  2016  2017  2018  \n",
       "0   0.2   0.8   1.4   2.3  \n",
       "1  -3.4   0.2   0.4   0.9  \n",
       "2   1.4   1.6   1.6   1.7  \n",
       "3  -0.7   0.1   0.5   0.3  \n",
       "4   1.4   1.5   1.7   2.1  "
      ]
     },
     "execution_count": 16,
     "metadata": {},
     "output_type": "execute_result"
    }
   ],
   "source": [
    "## Renaming columns\n",
    "Loans.rename(columns={'freq;unit;co_nco;na_item;finpos;sector;geo\\TIME_PERIOD':'Country'}, inplace=True)\n",
    "\n",
    "## Replacing country names \n",
    "Loans['Country'].replace('A;PC_GDP;NCO;F4;LIAB;S14;BG', 'Bulgaria', True)\n",
    "Loans['Country'].replace('A;PC_GDP;NCO;F4;LIAB;S14;HU', 'Hungary', True)\n",
    "Loans['Country'].replace('A;PC_GDP;NCO;F4;LIAB;S14;LT', 'Lithuania', True)\n",
    "Loans['Country'].replace('A;PC_GDP;NCO;F4;LIAB;S14;LV', 'Latvia', True)\n",
    "Loans['Country'].replace('A;PC_GDP;NCO;F4;LIAB;S14;PL', 'Poland', True)\n",
    "\n",
    "Loans.head()"
   ]
  },
  {
   "cell_type": "code",
   "execution_count": 17,
   "metadata": {},
   "outputs": [
    {
     "data": {
      "text/html": [
       "<div>\n",
       "<style scoped>\n",
       "    .dataframe tbody tr th:only-of-type {\n",
       "        vertical-align: middle;\n",
       "    }\n",
       "\n",
       "    .dataframe tbody tr th {\n",
       "        vertical-align: top;\n",
       "    }\n",
       "\n",
       "    .dataframe thead th {\n",
       "        text-align: right;\n",
       "    }\n",
       "</style>\n",
       "<table border=\"1\" class=\"dataframe\">\n",
       "  <thead>\n",
       "    <tr style=\"text-align: right;\">\n",
       "      <th></th>\n",
       "      <th>Country</th>\n",
       "      <th>Year</th>\n",
       "      <th>Value Loans</th>\n",
       "    </tr>\n",
       "  </thead>\n",
       "  <tbody>\n",
       "    <tr>\n",
       "      <td>0</td>\n",
       "      <td>Bulgaria</td>\n",
       "      <td>2005</td>\n",
       "      <td>5.9</td>\n",
       "    </tr>\n",
       "    <tr>\n",
       "      <td>5</td>\n",
       "      <td>Bulgaria</td>\n",
       "      <td>2006</td>\n",
       "      <td>4.2</td>\n",
       "    </tr>\n",
       "    <tr>\n",
       "      <td>10</td>\n",
       "      <td>Bulgaria</td>\n",
       "      <td>2007</td>\n",
       "      <td>9.5</td>\n",
       "    </tr>\n",
       "    <tr>\n",
       "      <td>15</td>\n",
       "      <td>Bulgaria</td>\n",
       "      <td>2008</td>\n",
       "      <td>7.6</td>\n",
       "    </tr>\n",
       "    <tr>\n",
       "      <td>20</td>\n",
       "      <td>Bulgaria</td>\n",
       "      <td>2009</td>\n",
       "      <td>0.0</td>\n",
       "    </tr>\n",
       "  </tbody>\n",
       "</table>\n",
       "</div>"
      ],
      "text/plain": [
       "     Country  Year  Value Loans\n",
       "0   Bulgaria  2005          5.9\n",
       "5   Bulgaria  2006          4.2\n",
       "10  Bulgaria  2007          9.5\n",
       "15  Bulgaria  2008          7.6\n",
       "20  Bulgaria  2009          0.0"
      ]
     },
     "execution_count": 17,
     "metadata": {},
     "output_type": "execute_result"
    }
   ],
   "source": [
    "## Melting data set\n",
    "Loans1 = Loans.melt(id_vars=['Country'],\n",
    "                    var_name=\"Year\",\n",
    "                    value_name=\"Value\")\n",
    "\n",
    "## Converting 'Value' column to integer\n",
    "Loans1['Year'] = Loans1['Year'].astype(int) \n",
    "\n",
    "## Renaming columns\n",
    "Loans1.rename(columns={'Value':'Value Loans'}, inplace=True)\n",
    "\n",
    "## Sorting\n",
    "Loans1 = Loans1.sort_values(by=['Country', 'Year'])\n",
    "\n",
    "Loans1.head()"
   ]
  },
  {
   "cell_type": "code",
   "execution_count": 18,
   "metadata": {},
   "outputs": [],
   "source": [
    "#Loans1.to_csv(r'C:/Users/razow/Desktop/IESEG Subjects/7 Financial Programming/Individual project/Datasets/Final datasets/Loans.csv')"
   ]
  },
  {
   "cell_type": "markdown",
   "metadata": {},
   "source": [
    "###### Population"
   ]
  },
  {
   "cell_type": "code",
   "execution_count": 19,
   "metadata": {},
   "outputs": [
    {
     "data": {
      "text/html": [
       "<div>\n",
       "<style scoped>\n",
       "    .dataframe tbody tr th:only-of-type {\n",
       "        vertical-align: middle;\n",
       "    }\n",
       "\n",
       "    .dataframe tbody tr th {\n",
       "        vertical-align: top;\n",
       "    }\n",
       "\n",
       "    .dataframe thead th {\n",
       "        text-align: right;\n",
       "    }\n",
       "</style>\n",
       "<table border=\"1\" class=\"dataframe\">\n",
       "  <thead>\n",
       "    <tr style=\"text-align: right;\">\n",
       "      <th></th>\n",
       "      <th>TIME</th>\n",
       "      <th>GEO</th>\n",
       "      <th>AGE</th>\n",
       "      <th>SEX</th>\n",
       "      <th>UNIT</th>\n",
       "      <th>Value</th>\n",
       "      <th>Flag and Footnotes</th>\n",
       "    </tr>\n",
       "  </thead>\n",
       "  <tbody>\n",
       "    <tr>\n",
       "      <td>0</td>\n",
       "      <td>2005</td>\n",
       "      <td>Bulgaria</td>\n",
       "      <td>Total</td>\n",
       "      <td>Total</td>\n",
       "      <td>Number</td>\n",
       "      <td>7,688,573</td>\n",
       "      <td>NaN</td>\n",
       "    </tr>\n",
       "    <tr>\n",
       "      <td>1</td>\n",
       "      <td>2005</td>\n",
       "      <td>Latvia</td>\n",
       "      <td>Total</td>\n",
       "      <td>Total</td>\n",
       "      <td>Number</td>\n",
       "      <td>2,249,724</td>\n",
       "      <td>NaN</td>\n",
       "    </tr>\n",
       "    <tr>\n",
       "      <td>2</td>\n",
       "      <td>2005</td>\n",
       "      <td>Lithuania</td>\n",
       "      <td>Total</td>\n",
       "      <td>Total</td>\n",
       "      <td>Number</td>\n",
       "      <td>3,355,220</td>\n",
       "      <td>NaN</td>\n",
       "    </tr>\n",
       "    <tr>\n",
       "      <td>3</td>\n",
       "      <td>2005</td>\n",
       "      <td>Hungary</td>\n",
       "      <td>Total</td>\n",
       "      <td>Total</td>\n",
       "      <td>Number</td>\n",
       "      <td>10,097,549</td>\n",
       "      <td>NaN</td>\n",
       "    </tr>\n",
       "    <tr>\n",
       "      <td>4</td>\n",
       "      <td>2005</td>\n",
       "      <td>Poland</td>\n",
       "      <td>Total</td>\n",
       "      <td>Total</td>\n",
       "      <td>Number</td>\n",
       "      <td>38,173,835</td>\n",
       "      <td>NaN</td>\n",
       "    </tr>\n",
       "  </tbody>\n",
       "</table>\n",
       "</div>"
      ],
      "text/plain": [
       "   TIME        GEO    AGE    SEX    UNIT       Value Flag and Footnotes\n",
       "0  2005   Bulgaria  Total  Total  Number   7,688,573                NaN\n",
       "1  2005     Latvia  Total  Total  Number   2,249,724                NaN\n",
       "2  2005  Lithuania  Total  Total  Number   3,355,220                NaN\n",
       "3  2005    Hungary  Total  Total  Number  10,097,549                NaN\n",
       "4  2005     Poland  Total  Total  Number  38,173,835                NaN"
      ]
     },
     "execution_count": 19,
     "metadata": {},
     "output_type": "execute_result"
    }
   ],
   "source": [
    "# Population\n",
    "Population = pd.read_csv(\"C:/Users/razow/Desktop/IESEG Subjects/7 Financial Programming/Individual project/Datasets/Population.csv\")\n",
    "Population.head()"
   ]
  },
  {
   "cell_type": "code",
   "execution_count": 20,
   "metadata": {},
   "outputs": [
    {
     "data": {
      "text/html": [
       "<div>\n",
       "<style scoped>\n",
       "    .dataframe tbody tr th:only-of-type {\n",
       "        vertical-align: middle;\n",
       "    }\n",
       "\n",
       "    .dataframe tbody tr th {\n",
       "        vertical-align: top;\n",
       "    }\n",
       "\n",
       "    .dataframe thead th {\n",
       "        text-align: right;\n",
       "    }\n",
       "</style>\n",
       "<table border=\"1\" class=\"dataframe\">\n",
       "  <thead>\n",
       "    <tr style=\"text-align: right;\">\n",
       "      <th></th>\n",
       "      <th>Year</th>\n",
       "      <th>Country</th>\n",
       "      <th>Value Popul</th>\n",
       "    </tr>\n",
       "  </thead>\n",
       "  <tbody>\n",
       "    <tr>\n",
       "      <td>0</td>\n",
       "      <td>2005</td>\n",
       "      <td>Bulgaria</td>\n",
       "      <td>7688573</td>\n",
       "    </tr>\n",
       "    <tr>\n",
       "      <td>5</td>\n",
       "      <td>2006</td>\n",
       "      <td>Bulgaria</td>\n",
       "      <td>7629371</td>\n",
       "    </tr>\n",
       "    <tr>\n",
       "      <td>10</td>\n",
       "      <td>2007</td>\n",
       "      <td>Bulgaria</td>\n",
       "      <td>7572673</td>\n",
       "    </tr>\n",
       "    <tr>\n",
       "      <td>15</td>\n",
       "      <td>2008</td>\n",
       "      <td>Bulgaria</td>\n",
       "      <td>7518002</td>\n",
       "    </tr>\n",
       "    <tr>\n",
       "      <td>20</td>\n",
       "      <td>2009</td>\n",
       "      <td>Bulgaria</td>\n",
       "      <td>7467119</td>\n",
       "    </tr>\n",
       "  </tbody>\n",
       "</table>\n",
       "</div>"
      ],
      "text/plain": [
       "    Year   Country  Value Popul\n",
       "0   2005  Bulgaria      7688573\n",
       "5   2006  Bulgaria      7629371\n",
       "10  2007  Bulgaria      7572673\n",
       "15  2008  Bulgaria      7518002\n",
       "20  2009  Bulgaria      7467119"
      ]
     },
     "execution_count": 20,
     "metadata": {},
     "output_type": "execute_result"
    }
   ],
   "source": [
    "## Dropping columns\n",
    "Population1 = Population.drop({'UNIT', 'Flag and Footnotes', 'SEX', 'AGE'}, axis=1)\n",
    "\n",
    "## Renaming columns\n",
    "Population1.rename(columns={'TIME':'Year', 'GEO':'Country'}, inplace=True)\n",
    "\n",
    "## Removing commas from 'Value' column\n",
    "Population1['Value'] = Population1['Value'].replace(',', '', regex=True) \n",
    "\n",
    "## Converting 'Value' column to integer\n",
    "Population1['Value'] = Population1['Value'].astype(int) \n",
    "\n",
    "## Renaming columns\n",
    "Population1.rename(columns={'Value':'Value Popul'}, inplace=True)\n",
    "\n",
    "## Sorting\n",
    "Population1 = Population1.sort_values(by=['Country', 'Year'])\n",
    "\n",
    "Population1.head()"
   ]
  },
  {
   "cell_type": "code",
   "execution_count": 21,
   "metadata": {},
   "outputs": [],
   "source": [
    "#Population1.to_csv(r'C:/Users/razow/Desktop/IESEG Subjects/7 Financial Programming/Individual project/Datasets/Final datasets/Popul.csv')"
   ]
  },
  {
   "cell_type": "code",
   "execution_count": 22,
   "metadata": {},
   "outputs": [
    {
     "data": {
      "text/html": [
       "<div>\n",
       "<style scoped>\n",
       "    .dataframe tbody tr th:only-of-type {\n",
       "        vertical-align: middle;\n",
       "    }\n",
       "\n",
       "    .dataframe tbody tr th {\n",
       "        vertical-align: top;\n",
       "    }\n",
       "\n",
       "    .dataframe thead th {\n",
       "        text-align: right;\n",
       "    }\n",
       "</style>\n",
       "<table border=\"1\" class=\"dataframe\">\n",
       "  <thead>\n",
       "    <tr style=\"text-align: right;\">\n",
       "      <th></th>\n",
       "      <th>Year</th>\n",
       "      <th>Country</th>\n",
       "      <th>Value Housing</th>\n",
       "      <th>Value IntRate</th>\n",
       "    </tr>\n",
       "  </thead>\n",
       "  <tbody>\n",
       "    <tr>\n",
       "      <td>0</td>\n",
       "      <td>2005</td>\n",
       "      <td>Bulgaria</td>\n",
       "      <td>80.09</td>\n",
       "      <td>0.0</td>\n",
       "    </tr>\n",
       "    <tr>\n",
       "      <td>1</td>\n",
       "      <td>2006</td>\n",
       "      <td>Bulgaria</td>\n",
       "      <td>91.86</td>\n",
       "      <td>0.0</td>\n",
       "    </tr>\n",
       "    <tr>\n",
       "      <td>2</td>\n",
       "      <td>2007</td>\n",
       "      <td>Bulgaria</td>\n",
       "      <td>118.42</td>\n",
       "      <td>0.0</td>\n",
       "    </tr>\n",
       "    <tr>\n",
       "      <td>3</td>\n",
       "      <td>2008</td>\n",
       "      <td>Bulgaria</td>\n",
       "      <td>147.97</td>\n",
       "      <td>0.0</td>\n",
       "    </tr>\n",
       "    <tr>\n",
       "      <td>4</td>\n",
       "      <td>2009</td>\n",
       "      <td>Bulgaria</td>\n",
       "      <td>117.79</td>\n",
       "      <td>0.0</td>\n",
       "    </tr>\n",
       "  </tbody>\n",
       "</table>\n",
       "</div>"
      ],
      "text/plain": [
       "   Year   Country  Value Housing  Value IntRate\n",
       "0  2005  Bulgaria          80.09            0.0\n",
       "1  2006  Bulgaria          91.86            0.0\n",
       "2  2007  Bulgaria         118.42            0.0\n",
       "3  2008  Bulgaria         147.97            0.0\n",
       "4  2009  Bulgaria         117.79            0.0"
      ]
     },
     "execution_count": 22,
     "metadata": {},
     "output_type": "execute_result"
    }
   ],
   "source": [
    "## Merging datasets prices2 and Int_Rates1\n",
    "\n",
    "left_table = prices2\n",
    "right_table = Int_Rates1\n",
    "\n",
    "merge1 = pd.merge(left_table,\n",
    "        right_table,\n",
    "        how= \"inner\",\n",
    "        left_on=('Country', 'Year'), right_on=('Country', 'Year'))\n",
    "\n",
    "merge1.head()"
   ]
  },
  {
   "cell_type": "code",
   "execution_count": 23,
   "metadata": {},
   "outputs": [
    {
     "data": {
      "text/html": [
       "<div>\n",
       "<style scoped>\n",
       "    .dataframe tbody tr th:only-of-type {\n",
       "        vertical-align: middle;\n",
       "    }\n",
       "\n",
       "    .dataframe tbody tr th {\n",
       "        vertical-align: top;\n",
       "    }\n",
       "\n",
       "    .dataframe thead th {\n",
       "        text-align: right;\n",
       "    }\n",
       "</style>\n",
       "<table border=\"1\" class=\"dataframe\">\n",
       "  <thead>\n",
       "    <tr style=\"text-align: right;\">\n",
       "      <th></th>\n",
       "      <th>Year</th>\n",
       "      <th>Country</th>\n",
       "      <th>Value Housing</th>\n",
       "      <th>Value IntRate</th>\n",
       "      <th>Value GDP</th>\n",
       "    </tr>\n",
       "  </thead>\n",
       "  <tbody>\n",
       "    <tr>\n",
       "      <td>0</td>\n",
       "      <td>2005</td>\n",
       "      <td>Bulgaria</td>\n",
       "      <td>80.09</td>\n",
       "      <td>0.0</td>\n",
       "      <td>40</td>\n",
       "    </tr>\n",
       "    <tr>\n",
       "      <td>1</td>\n",
       "      <td>2006</td>\n",
       "      <td>Bulgaria</td>\n",
       "      <td>91.86</td>\n",
       "      <td>0.0</td>\n",
       "      <td>40</td>\n",
       "    </tr>\n",
       "    <tr>\n",
       "      <td>2</td>\n",
       "      <td>2007</td>\n",
       "      <td>Bulgaria</td>\n",
       "      <td>118.42</td>\n",
       "      <td>0.0</td>\n",
       "      <td>40</td>\n",
       "    </tr>\n",
       "    <tr>\n",
       "      <td>3</td>\n",
       "      <td>2008</td>\n",
       "      <td>Bulgaria</td>\n",
       "      <td>147.97</td>\n",
       "      <td>0.0</td>\n",
       "      <td>43</td>\n",
       "    </tr>\n",
       "    <tr>\n",
       "      <td>4</td>\n",
       "      <td>2009</td>\n",
       "      <td>Bulgaria</td>\n",
       "      <td>117.79</td>\n",
       "      <td>0.0</td>\n",
       "      <td>43</td>\n",
       "    </tr>\n",
       "  </tbody>\n",
       "</table>\n",
       "</div>"
      ],
      "text/plain": [
       "   Year   Country  Value Housing  Value IntRate  Value GDP\n",
       "0  2005  Bulgaria          80.09            0.0         40\n",
       "1  2006  Bulgaria          91.86            0.0         40\n",
       "2  2007  Bulgaria         118.42            0.0         40\n",
       "3  2008  Bulgaria         147.97            0.0         43\n",
       "4  2009  Bulgaria         117.79            0.0         43"
      ]
     },
     "execution_count": 23,
     "metadata": {},
     "output_type": "execute_result"
    }
   ],
   "source": [
    "## Merging datasets merge1 and GDP1\n",
    "\n",
    "left_table = merge1\n",
    "right_table = GDP1\n",
    "\n",
    "merge2 = pd.merge(left_table,\n",
    "        right_table,\n",
    "        how= \"inner\",\n",
    "        left_on=('Country', 'Year'), right_on=('Country', 'Year'))\n",
    "\n",
    "merge2.head()"
   ]
  },
  {
   "cell_type": "code",
   "execution_count": 24,
   "metadata": {},
   "outputs": [
    {
     "data": {
      "text/html": [
       "<div>\n",
       "<style scoped>\n",
       "    .dataframe tbody tr th:only-of-type {\n",
       "        vertical-align: middle;\n",
       "    }\n",
       "\n",
       "    .dataframe tbody tr th {\n",
       "        vertical-align: top;\n",
       "    }\n",
       "\n",
       "    .dataframe thead th {\n",
       "        text-align: right;\n",
       "    }\n",
       "</style>\n",
       "<table border=\"1\" class=\"dataframe\">\n",
       "  <thead>\n",
       "    <tr style=\"text-align: right;\">\n",
       "      <th></th>\n",
       "      <th>Year</th>\n",
       "      <th>Country</th>\n",
       "      <th>Value Housing</th>\n",
       "      <th>Value IntRate</th>\n",
       "      <th>Value GDP</th>\n",
       "      <th>Value Employ</th>\n",
       "    </tr>\n",
       "  </thead>\n",
       "  <tbody>\n",
       "    <tr>\n",
       "      <td>0</td>\n",
       "      <td>2005</td>\n",
       "      <td>Bulgaria</td>\n",
       "      <td>80.09</td>\n",
       "      <td>0.0</td>\n",
       "      <td>40</td>\n",
       "      <td>2947</td>\n",
       "    </tr>\n",
       "    <tr>\n",
       "      <td>1</td>\n",
       "      <td>2006</td>\n",
       "      <td>Bulgaria</td>\n",
       "      <td>91.86</td>\n",
       "      <td>0.0</td>\n",
       "      <td>40</td>\n",
       "      <td>3072</td>\n",
       "    </tr>\n",
       "    <tr>\n",
       "      <td>2</td>\n",
       "      <td>2007</td>\n",
       "      <td>Bulgaria</td>\n",
       "      <td>118.42</td>\n",
       "      <td>0.0</td>\n",
       "      <td>40</td>\n",
       "      <td>3209</td>\n",
       "    </tr>\n",
       "    <tr>\n",
       "      <td>3</td>\n",
       "      <td>2008</td>\n",
       "      <td>Bulgaria</td>\n",
       "      <td>147.97</td>\n",
       "      <td>0.0</td>\n",
       "      <td>43</td>\n",
       "      <td>3306</td>\n",
       "    </tr>\n",
       "    <tr>\n",
       "      <td>4</td>\n",
       "      <td>2009</td>\n",
       "      <td>Bulgaria</td>\n",
       "      <td>117.79</td>\n",
       "      <td>0.0</td>\n",
       "      <td>43</td>\n",
       "      <td>3205</td>\n",
       "    </tr>\n",
       "  </tbody>\n",
       "</table>\n",
       "</div>"
      ],
      "text/plain": [
       "   Year   Country  Value Housing  Value IntRate  Value GDP  Value Employ\n",
       "0  2005  Bulgaria          80.09            0.0         40          2947\n",
       "1  2006  Bulgaria          91.86            0.0         40          3072\n",
       "2  2007  Bulgaria         118.42            0.0         40          3209\n",
       "3  2008  Bulgaria         147.97            0.0         43          3306\n",
       "4  2009  Bulgaria         117.79            0.0         43          3205"
      ]
     },
     "execution_count": 24,
     "metadata": {},
     "output_type": "execute_result"
    }
   ],
   "source": [
    "## Merging datasets merge2 and Employment1\n",
    "\n",
    "left_table = merge2\n",
    "right_table = Employment1\n",
    "\n",
    "merge3 = pd.merge(left_table,\n",
    "        right_table,\n",
    "        how= \"inner\",\n",
    "        left_on=('Country', 'Year'), right_on=('Country', 'Year'))\n",
    "\n",
    "merge3.head()"
   ]
  },
  {
   "cell_type": "code",
   "execution_count": 25,
   "metadata": {},
   "outputs": [
    {
     "data": {
      "text/html": [
       "<div>\n",
       "<style scoped>\n",
       "    .dataframe tbody tr th:only-of-type {\n",
       "        vertical-align: middle;\n",
       "    }\n",
       "\n",
       "    .dataframe tbody tr th {\n",
       "        vertical-align: top;\n",
       "    }\n",
       "\n",
       "    .dataframe thead th {\n",
       "        text-align: right;\n",
       "    }\n",
       "</style>\n",
       "<table border=\"1\" class=\"dataframe\">\n",
       "  <thead>\n",
       "    <tr style=\"text-align: right;\">\n",
       "      <th></th>\n",
       "      <th>Year</th>\n",
       "      <th>Country</th>\n",
       "      <th>Value Housing</th>\n",
       "      <th>Value IntRate</th>\n",
       "      <th>Value GDP</th>\n",
       "      <th>Value Employ</th>\n",
       "      <th>Value Loans</th>\n",
       "    </tr>\n",
       "  </thead>\n",
       "  <tbody>\n",
       "    <tr>\n",
       "      <td>0</td>\n",
       "      <td>2005</td>\n",
       "      <td>Bulgaria</td>\n",
       "      <td>80.09</td>\n",
       "      <td>0.0</td>\n",
       "      <td>40</td>\n",
       "      <td>2947</td>\n",
       "      <td>5.9</td>\n",
       "    </tr>\n",
       "    <tr>\n",
       "      <td>1</td>\n",
       "      <td>2006</td>\n",
       "      <td>Bulgaria</td>\n",
       "      <td>91.86</td>\n",
       "      <td>0.0</td>\n",
       "      <td>40</td>\n",
       "      <td>3072</td>\n",
       "      <td>4.2</td>\n",
       "    </tr>\n",
       "    <tr>\n",
       "      <td>2</td>\n",
       "      <td>2007</td>\n",
       "      <td>Bulgaria</td>\n",
       "      <td>118.42</td>\n",
       "      <td>0.0</td>\n",
       "      <td>40</td>\n",
       "      <td>3209</td>\n",
       "      <td>9.5</td>\n",
       "    </tr>\n",
       "    <tr>\n",
       "      <td>3</td>\n",
       "      <td>2008</td>\n",
       "      <td>Bulgaria</td>\n",
       "      <td>147.97</td>\n",
       "      <td>0.0</td>\n",
       "      <td>43</td>\n",
       "      <td>3306</td>\n",
       "      <td>7.6</td>\n",
       "    </tr>\n",
       "    <tr>\n",
       "      <td>4</td>\n",
       "      <td>2009</td>\n",
       "      <td>Bulgaria</td>\n",
       "      <td>117.79</td>\n",
       "      <td>0.0</td>\n",
       "      <td>43</td>\n",
       "      <td>3205</td>\n",
       "      <td>0.0</td>\n",
       "    </tr>\n",
       "  </tbody>\n",
       "</table>\n",
       "</div>"
      ],
      "text/plain": [
       "   Year   Country  Value Housing  Value IntRate  Value GDP  Value Employ  \\\n",
       "0  2005  Bulgaria          80.09            0.0         40          2947   \n",
       "1  2006  Bulgaria          91.86            0.0         40          3072   \n",
       "2  2007  Bulgaria         118.42            0.0         40          3209   \n",
       "3  2008  Bulgaria         147.97            0.0         43          3306   \n",
       "4  2009  Bulgaria         117.79            0.0         43          3205   \n",
       "\n",
       "   Value Loans  \n",
       "0          5.9  \n",
       "1          4.2  \n",
       "2          9.5  \n",
       "3          7.6  \n",
       "4          0.0  "
      ]
     },
     "execution_count": 25,
     "metadata": {},
     "output_type": "execute_result"
    }
   ],
   "source": [
    "## Merging datasets merge3 and Loans1\n",
    "\n",
    "left_table = merge3\n",
    "right_table = Loans1\n",
    "\n",
    "merge4 = pd.merge(left_table,\n",
    "        right_table,\n",
    "        how= \"inner\",\n",
    "        left_on=('Country', 'Year'), right_on=('Country', 'Year'))\n",
    "\n",
    "merge4.head()"
   ]
  },
  {
   "cell_type": "code",
   "execution_count": 26,
   "metadata": {},
   "outputs": [
    {
     "data": {
      "text/html": [
       "<div>\n",
       "<style scoped>\n",
       "    .dataframe tbody tr th:only-of-type {\n",
       "        vertical-align: middle;\n",
       "    }\n",
       "\n",
       "    .dataframe tbody tr th {\n",
       "        vertical-align: top;\n",
       "    }\n",
       "\n",
       "    .dataframe thead th {\n",
       "        text-align: right;\n",
       "    }\n",
       "</style>\n",
       "<table border=\"1\" class=\"dataframe\">\n",
       "  <thead>\n",
       "    <tr style=\"text-align: right;\">\n",
       "      <th></th>\n",
       "      <th>Year</th>\n",
       "      <th>Country</th>\n",
       "      <th>Value Housing</th>\n",
       "      <th>Value IntRate</th>\n",
       "      <th>Value GDP</th>\n",
       "      <th>Value Employ</th>\n",
       "      <th>Value Loans</th>\n",
       "      <th>Value Popul</th>\n",
       "    </tr>\n",
       "  </thead>\n",
       "  <tbody>\n",
       "    <tr>\n",
       "      <td>0</td>\n",
       "      <td>2005</td>\n",
       "      <td>Bulgaria</td>\n",
       "      <td>80.09</td>\n",
       "      <td>0.0</td>\n",
       "      <td>40</td>\n",
       "      <td>2947</td>\n",
       "      <td>5.9</td>\n",
       "      <td>7688573</td>\n",
       "    </tr>\n",
       "    <tr>\n",
       "      <td>1</td>\n",
       "      <td>2006</td>\n",
       "      <td>Bulgaria</td>\n",
       "      <td>91.86</td>\n",
       "      <td>0.0</td>\n",
       "      <td>40</td>\n",
       "      <td>3072</td>\n",
       "      <td>4.2</td>\n",
       "      <td>7629371</td>\n",
       "    </tr>\n",
       "    <tr>\n",
       "      <td>2</td>\n",
       "      <td>2007</td>\n",
       "      <td>Bulgaria</td>\n",
       "      <td>118.42</td>\n",
       "      <td>0.0</td>\n",
       "      <td>40</td>\n",
       "      <td>3209</td>\n",
       "      <td>9.5</td>\n",
       "      <td>7572673</td>\n",
       "    </tr>\n",
       "    <tr>\n",
       "      <td>3</td>\n",
       "      <td>2008</td>\n",
       "      <td>Bulgaria</td>\n",
       "      <td>147.97</td>\n",
       "      <td>0.0</td>\n",
       "      <td>43</td>\n",
       "      <td>3306</td>\n",
       "      <td>7.6</td>\n",
       "      <td>7518002</td>\n",
       "    </tr>\n",
       "    <tr>\n",
       "      <td>4</td>\n",
       "      <td>2009</td>\n",
       "      <td>Bulgaria</td>\n",
       "      <td>117.79</td>\n",
       "      <td>0.0</td>\n",
       "      <td>43</td>\n",
       "      <td>3205</td>\n",
       "      <td>0.0</td>\n",
       "      <td>7467119</td>\n",
       "    </tr>\n",
       "  </tbody>\n",
       "</table>\n",
       "</div>"
      ],
      "text/plain": [
       "   Year   Country  Value Housing  Value IntRate  Value GDP  Value Employ  \\\n",
       "0  2005  Bulgaria          80.09            0.0         40          2947   \n",
       "1  2006  Bulgaria          91.86            0.0         40          3072   \n",
       "2  2007  Bulgaria         118.42            0.0         40          3209   \n",
       "3  2008  Bulgaria         147.97            0.0         43          3306   \n",
       "4  2009  Bulgaria         117.79            0.0         43          3205   \n",
       "\n",
       "   Value Loans  Value Popul  \n",
       "0          5.9      7688573  \n",
       "1          4.2      7629371  \n",
       "2          9.5      7572673  \n",
       "3          7.6      7518002  \n",
       "4          0.0      7467119  "
      ]
     },
     "execution_count": 26,
     "metadata": {},
     "output_type": "execute_result"
    }
   ],
   "source": [
    "## Merging datasets merge4 and Population1\n",
    "\n",
    "left_table = merge4\n",
    "right_table = Population1\n",
    "\n",
    "Master_dataset = pd.merge(left_table,\n",
    "        right_table,\n",
    "        how= \"inner\",\n",
    "        left_on=('Country', 'Year'), right_on=('Country', 'Year'))\n",
    "\n",
    "Master_dataset.head()"
   ]
  },
  {
   "cell_type": "code",
   "execution_count": 27,
   "metadata": {},
   "outputs": [],
   "source": [
    "#Master_dataset.to_csv(r'C:/Users/razow/Desktop/IESEG Subjects/7 Financial Programming/Individual project/Datasets/Final datasets/Master_dataset.csv')"
   ]
  },
  {
   "cell_type": "markdown",
   "metadata": {},
   "source": [
    "#### Data visualization"
   ]
  },
  {
   "cell_type": "code",
   "execution_count": 29,
   "metadata": {},
   "outputs": [
    {
     "data": {
      "text/plain": [
       "<matplotlib.axes._subplots.AxesSubplot at 0x2b507c29f08>"
      ]
     },
     "execution_count": 29,
     "metadata": {},
     "output_type": "execute_result"
    },
    {
     "data": {
      "image/png": "[encoded data removed]",
      "text/plain": [
       "<Figure size 432x288 with 2 Axes>"
      ]
     },
     "metadata": {
      "needs_background": "light"
     },
     "output_type": "display_data"
    }
   ],
   "source": [
    "## Identifying correlations in Bulgaria\n",
    "## Interest rates variables (correlation) are white color since there was not information available for Bulgaria\n",
    "\n",
    "corr = Master_dataset.loc[(Master_dataset.Country == 'Bulgaria')].corr()\n",
    "sns.heatmap(corr, \n",
    "            xticklabels=corr.columns.values,\n",
    "            yticklabels=corr.columns.values)"
   ]
  },
  {
   "cell_type": "code",
   "execution_count": 30,
   "metadata": {},
   "outputs": [
    {
     "data": {
      "text/plain": [
       "<matplotlib.axes._subplots.AxesSubplot at 0x2b507cf5548>"
      ]
     },
     "execution_count": 30,
     "metadata": {},
     "output_type": "execute_result"
    },
    {
     "data": {
      "image/png": "[encoded data removed]",
      "text/plain": [
       "<Figure size 432x288 with 2 Axes>"
      ]
     },
     "metadata": {
      "needs_background": "light"
     },
     "output_type": "display_data"
    }
   ],
   "source": [
    "## Identifying correlations in Hungary\n",
    "corr = Master_dataset.loc[(Master_dataset.Country == 'Hungary')].corr()\n",
    "sns.heatmap(corr, \n",
    "            xticklabels=corr.columns.values,\n",
    "            yticklabels=corr.columns.values)"
   ]
  },
  {
   "cell_type": "code",
   "execution_count": 31,
   "metadata": {},
   "outputs": [
    {
     "data": {
      "text/plain": [
       "<matplotlib.axes._subplots.AxesSubplot at 0x2b507da6bc8>"
      ]
     },
     "execution_count": 31,
     "metadata": {},
     "output_type": "execute_result"
    },
    {
     "data": {
      "image/png": "[encoded data removed]",
      "text/plain": [
       "<Figure size 432x288 with 2 Axes>"
      ]
     },
     "metadata": {
      "needs_background": "light"
     },
     "output_type": "display_data"
    }
   ],
   "source": [
    "## Identifying correlations in Latvia\n",
    "corr = Master_dataset.loc[(Master_dataset.Country == 'Latvia')].corr()\n",
    "sns.heatmap(corr, \n",
    "            xticklabels=corr.columns.values,\n",
    "            yticklabels=corr.columns.values)"
   ]
  },
  {
   "cell_type": "code",
   "execution_count": 32,
   "metadata": {},
   "outputs": [
    {
     "data": {
      "text/plain": [
       "<matplotlib.axes._subplots.AxesSubplot at 0x2b507e5e388>"
      ]
     },
     "execution_count": 32,
     "metadata": {},
     "output_type": "execute_result"
    },
    {
     "data": {
      "image/png": "[encoded data removed]",
      "text/plain": [
       "<Figure size 432x288 with 2 Axes>"
      ]
     },
     "metadata": {
      "needs_background": "light"
     },
     "output_type": "display_data"
    }
   ],
   "source": [
    "## Identifying correlations in Lithuania\n",
    "corr = Master_dataset.loc[(Master_dataset.Country == 'Lithuania')].corr()\n",
    "sns.heatmap(corr, \n",
    "            xticklabels=corr.columns.values,\n",
    "            yticklabels=corr.columns.values)"
   ]
  },
  {
   "cell_type": "code",
   "execution_count": 33,
   "metadata": {},
   "outputs": [
    {
     "data": {
      "text/plain": [
       "<matplotlib.axes._subplots.AxesSubplot at 0x2b507f07788>"
      ]
     },
     "execution_count": 33,
     "metadata": {},
     "output_type": "execute_result"
    },
    {
     "data": {
      "image/png": "[encoded data removed]",
      "text/plain": [
       "<Figure size 432x288 with 2 Axes>"
      ]
     },
     "metadata": {
      "needs_background": "light"
     },
     "output_type": "display_data"
    }
   ],
   "source": [
    "## Identifying correlations in Poland\n",
    "corr = Master_dataset.loc[(Master_dataset.Country == 'Poland')].corr()\n",
    "sns.heatmap(corr, \n",
    "            xticklabels=corr.columns.values,\n",
    "            yticklabels=corr.columns.values)"
   ]
  },
  {
   "cell_type": "code",
   "execution_count": 61,
   "metadata": {},
   "outputs": [
    {
     "name": "stderr",
     "output_type": "stream",
     "text": [
      "BokehUserWarning: ColumnDataSource's columns must be of the same length. Current lengths: ('x', 70), ('y', 14)\n",
      "BokehUserWarning: ColumnDataSource's columns must be of the same length. Current lengths: ('x', 70), ('y', 14)\n",
      "BokehUserWarning: ColumnDataSource's columns must be of the same length. Current lengths: ('x', 70), ('y', 14)\n",
      "BokehUserWarning: ColumnDataSource's columns must be of the same length. Current lengths: ('x', 70), ('y', 14)\n",
      "BokehUserWarning: ColumnDataSource's columns must be of the same length. Current lengths: ('x', 70), ('y', 14)\n"
     ]
    }
   ],
   "source": [
    "## Plotting housing prices per country\n",
    "\n",
    "output_file(\"Housing_Prices.html\")\n",
    "\n",
    "p = figure(title='Housing Prices - Eastern Europe',plot_width=900, plot_height=600)\n",
    "\n",
    "x = Master_dataset['Year']\n",
    "y1= Master_dataset.loc[(Master_dataset.Country == 'Bulgaria', 'Value Housing')]\n",
    "y2= Master_dataset.loc[(Master_dataset.Country == 'Hungary', 'Value Housing')]\n",
    "y3= Master_dataset.loc[(Master_dataset.Country == 'Latvia', 'Value Housing')]\n",
    "y4= Master_dataset.loc[(Master_dataset.Country == 'Lithuania', 'Value Housing')]\n",
    "y5= Master_dataset.loc[(Master_dataset.Country == 'Poland', 'Value Housing')]\n",
    "\n",
    "p.xaxis.axis_label= 'Year'\n",
    "p.yaxis.axis_label= 'Index Prices'\n",
    "\n",
    "p.line(x, y1, legend=\"Bulgaria\", line_width=2, line_color=\"blue\")\n",
    "\n",
    "p.line(x, y2, legend=\"Hungary\", line_width=2, line_color=\"yellow\")\n",
    "\n",
    "p.line(x, y3, legend=\"Latvia\", line_width=2, line_color=\"green\")\n",
    "\n",
    "p.line(x, y4, legend=\"Lithuania\", line_width=2, line_color=\"orange\")\n",
    "\n",
    "p.line(x, y5, legend=\"Poland\", line_width=2, line_color=\"gray\")\n",
    "\n",
    "show(p)"
   ]
  },
  {
   "cell_type": "code",
   "execution_count": 35,
   "metadata": {},
   "outputs": [],
   "source": [
    "####Hungary Housing prices vs Interest Rates"
   ]
  },
  {
   "cell_type": "code",
   "execution_count": 1,
   "metadata": {},
   "outputs": [
    {
     "ename": "NameError",
     "evalue": "name 'output_file' is not defined",
     "output_type": "error",
     "traceback": [
      "\u001b[1;31m---------------------------------------------------------------------------\u001b[0m",
      "\u001b[1;31mNameError\u001b[0m                                 Traceback (most recent call last)",
      "\u001b[1;32m<ipython-input-1-4fe3dd058e2d>\u001b[0m in \u001b[0;36m<module>\u001b[1;34m\u001b[0m\n\u001b[0;32m      1\u001b[0m \u001b[1;31m## Plotting housing prices and interest rates per country\u001b[0m\u001b[1;33m\u001b[0m\u001b[1;33m\u001b[0m\u001b[1;33m\u001b[0m\u001b[0m\n\u001b[0;32m      2\u001b[0m \u001b[1;33m\u001b[0m\u001b[0m\n\u001b[1;32m----> 3\u001b[1;33m \u001b[0moutput_file\u001b[0m\u001b[1;33m(\u001b[0m\u001b[1;34m\"line_bar.html\"\u001b[0m\u001b[1;33m)\u001b[0m\u001b[1;33m\u001b[0m\u001b[1;33m\u001b[0m\u001b[0m\n\u001b[0m\u001b[0;32m      4\u001b[0m \u001b[1;33m\u001b[0m\u001b[0m\n\u001b[0;32m      5\u001b[0m \u001b[0mp1\u001b[0m \u001b[1;33m=\u001b[0m \u001b[0mfigure\u001b[0m\u001b[1;33m(\u001b[0m\u001b[0mtitle\u001b[0m\u001b[1;33m=\u001b[0m\u001b[1;34m'Hungary'\u001b[0m\u001b[1;33m,\u001b[0m\u001b[0mplot_width\u001b[0m\u001b[1;33m=\u001b[0m\u001b[1;36m1000\u001b[0m\u001b[1;33m,\u001b[0m \u001b[0mplot_height\u001b[0m\u001b[1;33m=\u001b[0m\u001b[1;36m600\u001b[0m\u001b[1;33m)\u001b[0m\u001b[1;33m\u001b[0m\u001b[1;33m\u001b[0m\u001b[0m\n",
      "\u001b[1;31mNameError\u001b[0m: name 'output_file' is not defined"
     ]
    }
   ],
   "source": [
    "## Plotting housing prices and interest rates per country\n",
    "\n",
    "output_file(\"line_bar.html\")\n",
    "\n",
    "p1 = figure(title='Hungary',plot_width=1000, plot_height=600)\n",
    "x1= Master_dataset['Year']\n",
    "yH= Master_dataset.loc[(Master_dataset.Country == 'Hungary', 'Value IntRate')]\n",
    "\n",
    "# setting bar values\n",
    "h = Master_dataset.loc[(Master_dataset.Country == 'Hungary', 'Value Housing')]\n",
    "\n",
    "# Correcting the bottom position of the bars to be on the 0 line.\n",
    "adj_h = h/2\n",
    "\n",
    "# add bar renderer\n",
    "p1.rect(x1, y=adj_h, legend=\"Housing Prices\", width=0.4, height=h, color=\"gainsboro\")\n",
    "\n",
    "# Setting the y  axis range   \n",
    "p1.y_range = Range1d(0, 200)\n",
    "\n",
    "# Setting the second y axis range name and range\n",
    "p1.extra_y_ranges = {\"foo\": Range1d(start=0, end=20)}\n",
    "\n",
    "# Adding the second axis to the plot.  \n",
    "p1.add_layout(LinearAxis(y_range_name=\"foo\"), 'right')\n",
    "\n",
    "# Add a line renderer\n",
    "\n",
    "p1.line(x1, yH, legend=\"Interest Rates\", line_width=2, y_range_name=\"foo\", line_color=\"navy\")\n",
    "\n",
    "show(p1)"
   ]
  },
  {
   "cell_type": "markdown",
   "metadata": {},
   "source": [
    "#### Housing prices vs Interest Rates"
   ]
  },
  {
   "cell_type": "markdown",
   "metadata": {},
   "source": [
    "#### Latvia"
   ]
  },
  {
   "cell_type": "code",
   "execution_count": 37,
   "metadata": {},
   "outputs": [
    {
     "name": "stderr",
     "output_type": "stream",
     "text": [
      "BokehUserWarning: ColumnDataSource's columns must be of the same length. Current lengths: ('x', 70), ('y', 14)\n",
      "BokehUserWarning: ColumnDataSource's columns must be of the same length. Current lengths: ('height', 14), ('x', 70), ('y', 14)\n",
      "BokehUserWarning: ColumnDataSource's columns must be of the same length. Current lengths: ('x', 70), ('y', 14)\n"
     ]
    }
   ],
   "source": [
    "## Plotting housing prices and interest rates per country\n",
    "\n",
    "output_file(\"line_bar.html\")\n",
    "p1 = figure(title='Latvia',plot_width=1000, plot_height=600)\n",
    "x1= Master_dataset['Year']\n",
    "\n",
    "yLa= Master_dataset.loc[(Master_dataset.Country == 'Latvia', 'Value IntRate')]\n",
    "\n",
    "# setting bar values\n",
    "h = Master_dataset.loc[(Master_dataset.Country == 'Latvia', 'Value Housing')]\n",
    "\n",
    "# Correcting the bottom position of the bars to be on the 0 line.\n",
    "adj_h = h/2\n",
    "\n",
    "# add bar renderer\n",
    "p1.rect(x1, y=adj_h, legend=\"Housing Prices\", width=0.4, height=h, color=\"gainsboro\")\n",
    "\n",
    "# Setting the y  axis range   \n",
    "p1.y_range = Range1d(0, 200)\n",
    "\n",
    "# Setting the second y axis range name and range\n",
    "p1.extra_y_ranges = {\"foo\": Range1d(start=0, end=20)}\n",
    "\n",
    "# Adding the second axis to the plot.  \n",
    "p1.add_layout(LinearAxis(y_range_name=\"foo\"), 'right')\n",
    "\n",
    "# Add a line renderer\n",
    "p1.line(x1, yLa, legend=\"Interest Rates\", line_width=2, y_range_name=\"foo\", line_color=\"green\")\n",
    "\n",
    "show(p1)"
   ]
  },
  {
   "cell_type": "markdown",
   "metadata": {},
   "source": [
    "#### Lithuania"
   ]
  },
  {
   "cell_type": "code",
   "execution_count": 38,
   "metadata": {},
   "outputs": [
    {
     "name": "stderr",
     "output_type": "stream",
     "text": [
      "BokehUserWarning: ColumnDataSource's columns must be of the same length. Current lengths: ('x', 70), ('y', 14)\n",
      "BokehUserWarning: ColumnDataSource's columns must be of the same length. Current lengths: ('height', 14), ('x', 70), ('y', 14)\n",
      "BokehUserWarning: ColumnDataSource's columns must be of the same length. Current lengths: ('x', 70), ('y', 14)\n"
     ]
    }
   ],
   "source": [
    "## Plotting housing prices and interest rates per country\n",
    "\n",
    "output_file(\"line_bar.html\")\n",
    "\n",
    "p1 = figure(title='Lithuania',plot_width=1000, plot_height=600)\n",
    "x1= Master_dataset['Year']\n",
    "yLi= Master_dataset.loc[(Master_dataset.Country == 'Lithuania', 'Value IntRate')]\n",
    "\n",
    "# setting bar values\n",
    "h = Master_dataset.loc[(Master_dataset.Country == 'Lithuania', 'Value Housing')]\n",
    "\n",
    "# Correcting the bottom position of the bars to be on the 0 line.\n",
    "adj_h = h/2\n",
    "\n",
    "# add bar renderer\n",
    "p1.rect(x1, y=adj_h, legend=\"Housing Prices\", width=0.4, height=h, color=\"gainsboro\")\n",
    "\n",
    "# Setting the y  axis range   \n",
    "p1.y_range = Range1d(0, 200)\n",
    "\n",
    "# Setting the second y axis range name and range\n",
    "p1.extra_y_ranges = {\"foo\": Range1d(start=0, end=20)}\n",
    "\n",
    "# Adding the second axis to the plot.  \n",
    "p1.add_layout(LinearAxis(y_range_name=\"foo\"), 'right')\n",
    "\n",
    "# Add a line renderer\n",
    "p1.line(x1, yLi, legend=\"Interest Rates\", line_width=2, y_range_name=\"foo\", line_color=\"orange\")\n",
    "\n",
    "show(p1)"
   ]
  },
  {
   "cell_type": "markdown",
   "metadata": {},
   "source": [
    "#### Poland"
   ]
  },
  {
   "cell_type": "code",
   "execution_count": 39,
   "metadata": {},
   "outputs": [
    {
     "name": "stderr",
     "output_type": "stream",
     "text": [
      "BokehUserWarning: ColumnDataSource's columns must be of the same length. Current lengths: ('x', 70), ('y', 14)\n",
      "BokehUserWarning: ColumnDataSource's columns must be of the same length. Current lengths: ('height', 14), ('x', 70), ('y', 14)\n",
      "BokehUserWarning: ColumnDataSource's columns must be of the same length. Current lengths: ('x', 70), ('y', 14)\n"
     ]
    }
   ],
   "source": [
    "## Plotting housing prices and interest rates per country\n",
    "\n",
    "output_file(\"line_bar.html\")\n",
    "\n",
    "p1 = figure(title='Poland',plot_width=1000, plot_height=600)\n",
    "x1= Master_dataset['Year']\n",
    "yP= Master_dataset.loc[(Master_dataset.Country == 'Poland', 'Value IntRate')]\n",
    "\n",
    "# setting bar values\n",
    "h = Master_dataset.loc[(Master_dataset.Country == 'Poland', 'Value Housing')]\n",
    "\n",
    "# Correcting the bottom position of the bars to be on the 0 line.\n",
    "adj_h = h/2\n",
    "\n",
    "# add bar renderer\n",
    "p1.rect(x1, y=adj_h, legend=\"Housing Prices\", width=0.4, height=h, color=\"gainsboro\")\n",
    "\n",
    "# Setting the y  axis range   \n",
    "p1.y_range = Range1d(0, 200)\n",
    "\n",
    "# Setting the second y axis range name and range\n",
    "p1.extra_y_ranges = {\"foo\": Range1d(start=0, end=20)}\n",
    "\n",
    "# Adding the second axis to the plot.  \n",
    "p1.add_layout(LinearAxis(y_range_name=\"foo\"), 'right')\n",
    "\n",
    "# Add a line renderer\n",
    "p1.line(x1, yP, legend=\"Interest Rates\", line_width=2, y_range_name=\"foo\", line_color=\"darkslategray\")\n",
    "\n",
    "show(p1)"
   ]
  },
  {
   "cell_type": "markdown",
   "metadata": {},
   "source": [
    "# Housing Prices vs Loans"
   ]
  },
  {
   "cell_type": "markdown",
   "metadata": {},
   "source": [
    "#### Bulgaria"
   ]
  },
  {
   "cell_type": "code",
   "execution_count": 40,
   "metadata": {},
   "outputs": [
    {
     "name": "stderr",
     "output_type": "stream",
     "text": [
      "BokehUserWarning: ColumnDataSource's columns must be of the same length. Current lengths: ('x', 70), ('y', 14)\n",
      "BokehUserWarning: ColumnDataSource's columns must be of the same length. Current lengths: ('height', 14), ('x', 70), ('y', 14)\n",
      "BokehUserWarning: ColumnDataSource's columns must be of the same length. Current lengths: ('x', 70), ('y', 14)\n"
     ]
    }
   ],
   "source": [
    "## Plotting housing prices and loans per country\n",
    "\n",
    "output_file(\"line_bar.html\")\n",
    "\n",
    "p1 = figure(title='Bulgaria',plot_width=1000, plot_height=600)\n",
    "x1= Master_dataset['Year']\n",
    "yB= Master_dataset.loc[(Master_dataset.Country == 'Bulgaria', 'Value Loans')]\n",
    "\n",
    "# setting bar values\n",
    "h = Master_dataset.loc[(Master_dataset.Country == 'Bulgaria', 'Value Housing')]\n",
    "\n",
    "# Correcting the bottom position of the bars to be on the 0 line.\n",
    "adj_h = h/2\n",
    "\n",
    "# add bar renderer\n",
    "p1.rect(x1, y=adj_h, legend=\"Housing Prices\", width=0.4, height=h, color=\"gainsboro\")\n",
    "\n",
    "# Setting the y  axis range   \n",
    "p1.y_range = Range1d(0, 200)\n",
    "\n",
    "# Setting the second y axis range name and range\n",
    "p1.extra_y_ranges = {\"foo\": Range1d(start=-0.9, end=20)}\n",
    "\n",
    "# Adding the second axis to the plot.  \n",
    "p1.add_layout(LinearAxis(y_range_name=\"foo\"), 'right')\n",
    "\n",
    "# Add a line renderer\n",
    "p1.line(x1, yB, legend=\"Loans\", line_width=2, y_range_name=\"foo\", line_color=\"blue\")\n",
    "\n",
    "show(p1)"
   ]
  },
  {
   "cell_type": "markdown",
   "metadata": {},
   "source": [
    "#### Hungary"
   ]
  },
  {
   "cell_type": "code",
   "execution_count": 62,
   "metadata": {},
   "outputs": [
    {
     "name": "stderr",
     "output_type": "stream",
     "text": [
      "BokehUserWarning: ColumnDataSource's columns must be of the same length. Current lengths: ('x', 70), ('y', 14)\n",
      "BokehUserWarning: ColumnDataSource's columns must be of the same length. Current lengths: ('height', 14), ('x', 70), ('y', 14)\n",
      "BokehUserWarning: ColumnDataSource's columns must be of the same length. Current lengths: ('x', 70), ('y', 14)\n"
     ]
    }
   ],
   "source": [
    "## Plotting housing prices and loans per country\n",
    "\n",
    "output_file(\"line_bar.html\")\n",
    "\n",
    "p1 = figure(title='Hungary',plot_width=1000, plot_height=600)\n",
    "x1= Master_dataset['Year']\n",
    "yH= Master_dataset.loc[(Master_dataset.Country == 'Hungary', 'Value Loans')]\n",
    "\n",
    "# setting bar values\n",
    "h = Master_dataset.loc[(Master_dataset.Country == 'Hungary', 'Value Housing')]\n",
    "\n",
    "# Correcting the bottom position of the bars to be on the 0 line.\n",
    "adj_h = h/2\n",
    "\n",
    "# add bar renderer\n",
    "p1.rect(x1, y=adj_h, legend=\"Housing Prices\", width=0.4, height=h, color=\"gainsboro\")\n",
    "\n",
    "# Setting the y  axis range   \n",
    "p1.y_range = Range1d(0, 200)\n",
    "\n",
    "# Setting the second y axis range name and range\n",
    "p1.extra_y_ranges = {\"foo\": Range1d(start=-5.0, end=20)}\n",
    "\n",
    "# Adding the second axis to the plot.  \n",
    "p1.add_layout(LinearAxis(y_range_name=\"foo\"), 'right')\n",
    "\n",
    "# Add a line renderer\n",
    "p1.line(x1, yH, legend=\"Loans\", line_width=2, y_range_name=\"foo\", line_color=\"navy\")\n",
    "\n",
    "show(p1)"
   ]
  },
  {
   "cell_type": "markdown",
   "metadata": {},
   "source": [
    "#### Latvia"
   ]
  },
  {
   "cell_type": "code",
   "execution_count": 42,
   "metadata": {},
   "outputs": [
    {
     "name": "stderr",
     "output_type": "stream",
     "text": [
      "BokehUserWarning: ColumnDataSource's columns must be of the same length. Current lengths: ('x', 70), ('y', 14)\n",
      "BokehUserWarning: ColumnDataSource's columns must be of the same length. Current lengths: ('height', 14), ('x', 70), ('y', 14)\n",
      "BokehUserWarning: ColumnDataSource's columns must be of the same length. Current lengths: ('x', 70), ('y', 14)\n"
     ]
    }
   ],
   "source": [
    "## Plotting housing prices and loans per country\n",
    "\n",
    "output_file(\"line_bar.html\")\n",
    "\n",
    "p1 = figure(title='Latvia',plot_width=1000, plot_height=600)\n",
    "x1= Master_dataset['Year']\n",
    "yLa= Master_dataset.loc[(Master_dataset.Country == 'Latvia', 'Value Loans')]\n",
    "\n",
    "# setting bar values\n",
    "h = Master_dataset.loc[(Master_dataset.Country == 'Hungary', 'Value Housing')]\n",
    "\n",
    "# Correcting the bottom position of the bars to be on the 0 line.\n",
    "adj_h = h/2\n",
    "\n",
    "# add bar renderer\n",
    "p1.rect(x1, y=adj_h, legend=\"Housing Prices\", width=0.4, height=h, color=\"gainsboro\")\n",
    "\n",
    "# Setting the y  axis range   \n",
    "p1.y_range = Range1d(0, 200)\n",
    "\n",
    "# Setting the second y axis range name and range\n",
    "p1.extra_y_ranges = {\"foo\": Range1d(start=-5.0, end=20)}\n",
    "\n",
    "# Adding the second axis to the plot.  \n",
    "p1.add_layout(LinearAxis(y_range_name=\"foo\"), 'right')\n",
    "\n",
    "# Add a line renderer\n",
    "p1.line(x1, yLa, legend=\"Loans\", line_width=2, y_range_name=\"foo\", line_color=\"green\")\n",
    "\n",
    "show(p1)"
   ]
  },
  {
   "cell_type": "markdown",
   "metadata": {},
   "source": [
    "#### Lithuania"
   ]
  },
  {
   "cell_type": "code",
   "execution_count": 43,
   "metadata": {},
   "outputs": [
    {
     "name": "stderr",
     "output_type": "stream",
     "text": [
      "BokehUserWarning: ColumnDataSource's columns must be of the same length. Current lengths: ('x', 70), ('y', 14)\n",
      "BokehUserWarning: ColumnDataSource's columns must be of the same length. Current lengths: ('height', 14), ('x', 70), ('y', 14)\n",
      "BokehUserWarning: ColumnDataSource's columns must be of the same length. Current lengths: ('x', 70), ('y', 14)\n"
     ]
    }
   ],
   "source": [
    "## Plotting housing prices and loans per country\n",
    "\n",
    "output_file(\"line_bar.html\")\n",
    "\n",
    "p1 = figure(title='Lithuania',plot_width=1000, plot_height=600)\n",
    "x1= Master_dataset['Year']\n",
    "yLi= Master_dataset.loc[(Master_dataset.Country == 'Lithuania', 'Value Loans')]\n",
    "\n",
    "# setting bar values\n",
    "h = Master_dataset.loc[(Master_dataset.Country == 'Lithuania', 'Value Housing')]\n",
    "\n",
    "# Correcting the bottom position of the bars to be on the 0 line.\n",
    "adj_h = h/2\n",
    "\n",
    "# add bar renderer\n",
    "p1.rect(x1, y=adj_h, legend=\"Housing Prices\", width=0.4, height=h, color=\"gainsboro\")\n",
    "\n",
    "# Setting the y  axis range   \n",
    "p1.y_range = Range1d(0, 200)\n",
    "\n",
    "# Setting the second y axis range name and range\n",
    "p1.extra_y_ranges = {\"foo\": Range1d(start=-5.0, end=20)}\n",
    "\n",
    "# Adding the second axis to the plot.  \n",
    "p1.add_layout(LinearAxis(y_range_name=\"foo\"), 'right')\n",
    "\n",
    "# Add a line renderer\n",
    "p1.line(x1, yLi, legend=\"Loans\", line_width=2, y_range_name=\"foo\", line_color=\"orange\")\n",
    "\n",
    "show(p1)"
   ]
  },
  {
   "cell_type": "markdown",
   "metadata": {},
   "source": [
    "#### Poland"
   ]
  },
  {
   "cell_type": "code",
   "execution_count": 44,
   "metadata": {},
   "outputs": [
    {
     "name": "stderr",
     "output_type": "stream",
     "text": [
      "BokehUserWarning: ColumnDataSource's columns must be of the same length. Current lengths: ('x', 70), ('y', 14)\n",
      "BokehUserWarning: ColumnDataSource's columns must be of the same length. Current lengths: ('height', 14), ('x', 70), ('y', 14)\n",
      "BokehUserWarning: ColumnDataSource's columns must be of the same length. Current lengths: ('x', 70), ('y', 14)\n"
     ]
    }
   ],
   "source": [
    "## Plotting housing prices and loans per country\n",
    "\n",
    "output_file(\"line_bar.html\")\n",
    "\n",
    "p1 = figure(title='Poland',plot_width=1000, plot_height=600)\n",
    "x1= Master_dataset['Year']\n",
    "yP= Master_dataset.loc[(Master_dataset.Country == 'Poland', 'Value Loans')]\n",
    "\n",
    "# setting bar values\n",
    "h = Master_dataset.loc[(Master_dataset.Country == 'Poland', 'Value Housing')]\n",
    "\n",
    "# Correcting the bottom position of the bars to be on the 0 line.\n",
    "adj_h = h/2\n",
    "\n",
    "# add bar renderer\n",
    "p1.rect(x1, y=adj_h, legend=\"Housing Prices\", width=0.4, height=h, color=\"gainsboro\")\n",
    "\n",
    "# Setting the y  axis range   \n",
    "p1.y_range = Range1d(0, 200)\n",
    "\n",
    "# Setting the second y axis range name and range\n",
    "p1.extra_y_ranges = {\"foo\": Range1d(start=-5.0, end=20)}\n",
    "\n",
    "# Adding the second axis to the plot.  \n",
    "p1.add_layout(LinearAxis(y_range_name=\"foo\"), 'right')\n",
    "\n",
    "# Add a line renderer\n",
    "p1.line(x1, yP, legend=\"Loans\", line_width=2, y_range_name=\"foo\", line_color=\"darkslategray\")\n",
    "\n",
    "show(p1)"
   ]
  },
  {
   "cell_type": "markdown",
   "metadata": {},
   "source": [
    "## Housing Prices vs GDP"
   ]
  },
  {
   "cell_type": "markdown",
   "metadata": {},
   "source": [
    "#### Bulgaria"
   ]
  },
  {
   "cell_type": "code",
   "execution_count": 45,
   "metadata": {},
   "outputs": [
    {
     "name": "stderr",
     "output_type": "stream",
     "text": [
      "BokehUserWarning: ColumnDataSource's columns must be of the same length. Current lengths: ('x', 70), ('y', 14)\n",
      "BokehUserWarning: ColumnDataSource's columns must be of the same length. Current lengths: ('height', 14), ('x', 70), ('y', 14)\n",
      "BokehUserWarning: ColumnDataSource's columns must be of the same length. Current lengths: ('x', 70), ('y', 14)\n"
     ]
    }
   ],
   "source": [
    "## Plotting housing prices and GDP per country\n",
    "\n",
    "output_file(\"line_bar.html\")\n",
    "\n",
    "p1 = figure(title='Bulgaria',plot_width=1000, plot_height=600)\n",
    "\n",
    "x1= Master_dataset['Year']\n",
    "yB= Master_dataset.loc[(Master_dataset.Country == 'Bulgaria', 'Value GDP')]\n",
    "\n",
    "# setting bar values\n",
    "h = Master_dataset.loc[(Master_dataset.Country == 'Bulgaria', 'Value Housing')]\n",
    "\n",
    "# Correcting the bottom position of the bars to be on the 0 line.\n",
    "adj_h = h/2\n",
    "\n",
    "# add bar renderer\n",
    "p1.rect(x1, y=adj_h, legend=\"Housing Prices\", width=0.4, height=h, color=\"gainsboro\")\n",
    "\n",
    "# Setting the y  axis range   \n",
    "p1.y_range = Range1d(0, 200)\n",
    "\n",
    "# Setting the second y axis range name and range\n",
    "p1.extra_y_ranges = {\"foo\": Range1d(start=35, end=55)}\n",
    "\n",
    "# Adding the second axis to the plot.  \n",
    "p1.add_layout(LinearAxis(y_range_name=\"foo\"), 'right')\n",
    "\n",
    "# Add a line renderer\n",
    "p1.line(x1, yB, legend=\"GDP Per Capita\", line_width=2, y_range_name=\"foo\", line_color=\"deepskyblue\")\n",
    "\n",
    "show(p1)"
   ]
  },
  {
   "cell_type": "markdown",
   "metadata": {},
   "source": [
    "#### Hungary"
   ]
  },
  {
   "cell_type": "code",
   "execution_count": 46,
   "metadata": {},
   "outputs": [
    {
     "name": "stderr",
     "output_type": "stream",
     "text": [
      "BokehUserWarning: ColumnDataSource's columns must be of the same length. Current lengths: ('x', 70), ('y', 14)\n",
      "BokehUserWarning: ColumnDataSource's columns must be of the same length. Current lengths: ('height', 14), ('x', 70), ('y', 14)\n",
      "BokehUserWarning: ColumnDataSource's columns must be of the same length. Current lengths: ('x', 70), ('y', 14)\n"
     ]
    }
   ],
   "source": [
    "## Plotting housing prices and GDP per country\n",
    "\n",
    "output_file(\"line_bar.html\")\n",
    "\n",
    "p1 = figure(title='Hungary',plot_width=1000, plot_height=600)\n",
    "x1= Master_dataset['Year']\n",
    "yH= Master_dataset.loc[(Master_dataset.Country == 'Hungary', 'Value GDP')]\n",
    "\n",
    "# setting bar values\n",
    "h = Master_dataset.loc[(Master_dataset.Country == 'Hungary', 'Value Housing')]\n",
    "\n",
    "# Correcting the bottom position of the bars to be on the 0 line.\n",
    "adj_h = h/2\n",
    "\n",
    "# add bar renderer\n",
    "p1.rect(x1, y=adj_h, legend=\"Housing Prices\", width=0.4, height=h, color=\"gainsboro\")\n",
    "\n",
    "# Setting the y  axis range   \n",
    "p1.y_range = Range1d(0, 200)\n",
    "\n",
    "# Setting the second y axis range name and range\n",
    "p1.extra_y_ranges = {\"foo\": Range1d(start=55, end=75)}\n",
    "\n",
    "# Adding the second axis to the plot.  \n",
    "p1.add_layout(LinearAxis(y_range_name=\"foo\"), 'right')\n",
    "\n",
    "# Add a line renderer\n",
    "p1.line(x1, yH, legend=\"GDP Per Capita\", line_width=2, y_range_name=\"foo\", line_color=\"navy\")\n",
    "\n",
    "show(p1)"
   ]
  },
  {
   "cell_type": "markdown",
   "metadata": {},
   "source": [
    "#### Latvia"
   ]
  },
  {
   "cell_type": "code",
   "execution_count": 47,
   "metadata": {},
   "outputs": [
    {
     "name": "stderr",
     "output_type": "stream",
     "text": [
      "BokehUserWarning: ColumnDataSource's columns must be of the same length. Current lengths: ('x', 70), ('y', 14)\n",
      "BokehUserWarning: ColumnDataSource's columns must be of the same length. Current lengths: ('height', 14), ('x', 70), ('y', 14)\n",
      "BokehUserWarning: ColumnDataSource's columns must be of the same length. Current lengths: ('x', 70), ('y', 14)\n"
     ]
    }
   ],
   "source": [
    "## Plotting housing prices and GDP per country\n",
    "\n",
    "output_file(\"line_bar.html\")\n",
    "\n",
    "p1 = figure(title='Latvia',plot_width=1000, plot_height=600)\n",
    "x1= Master_dataset['Year']\n",
    "yLa= Master_dataset.loc[(Master_dataset.Country == 'Latvia', 'Value GDP')]\n",
    "\n",
    "# setting bar values\n",
    "h = Master_dataset.loc[(Master_dataset.Country == 'Latvia', 'Value Housing')]\n",
    "\n",
    "# Correcting the bottom position of the bars to be on the 0 line.\n",
    "adj_h = h/2\n",
    "\n",
    "# add bar renderer\n",
    "p1.rect(x1, y=adj_h, legend=\"Housing Prices\", width=0.4, height=h, color=\"gainsboro\")\n",
    "\n",
    "# Setting the y  axis range   \n",
    "p1.y_range = Range1d(0, 200)\n",
    "\n",
    "# Setting the second y axis range name and range\n",
    "p1.extra_y_ranges = {\"foo\": Range1d(start=50, end=75)}\n",
    "\n",
    "# Adding the second axis to the plot.  \n",
    "p1.add_layout(LinearAxis(y_range_name=\"foo\"), 'right')\n",
    "\n",
    "# Add a line renderer\n",
    "p1.line(x1, yLa, legend=\"GDP Per Capita\", line_width=2, y_range_name=\"foo\", line_color=\"green\")\n",
    "\n",
    "show(p1)"
   ]
  },
  {
   "cell_type": "markdown",
   "metadata": {},
   "source": [
    "#### Lithuania"
   ]
  },
  {
   "cell_type": "code",
   "execution_count": 48,
   "metadata": {},
   "outputs": [
    {
     "name": "stderr",
     "output_type": "stream",
     "text": [
      "BokehUserWarning: ColumnDataSource's columns must be of the same length. Current lengths: ('x', 70), ('y', 14)\n",
      "BokehUserWarning: ColumnDataSource's columns must be of the same length. Current lengths: ('height', 14), ('x', 70), ('y', 14)\n",
      "BokehUserWarning: ColumnDataSource's columns must be of the same length. Current lengths: ('x', 70), ('y', 14)\n"
     ]
    }
   ],
   "source": [
    "## Plotting housing prices and GDP per country\n",
    "\n",
    "output_file(\"line_bar.html\")\n",
    "\n",
    "p1 = figure(title='Lithuania',plot_width=1000, plot_height=600)\n",
    "x1= Master_dataset['Year']\n",
    "yLi= Master_dataset.loc[(Master_dataset.Country == 'Lithuania', 'Value GDP')]\n",
    "\n",
    "# setting bar values\n",
    "h = Master_dataset.loc[(Master_dataset.Country == 'Lithuania', 'Value Housing')]\n",
    "\n",
    "# Correcting the bottom position of the bars to be on the 0 line.\n",
    "adj_h = h/2\n",
    "\n",
    "# add bar renderer\n",
    "p1.rect(x1, y=adj_h, legend=\"Housing Prices\", width=0.4, height=h, color=\"gainsboro\")\n",
    "\n",
    "# Setting the y  axis range   \n",
    "p1.y_range = Range1d(0, 200)\n",
    "\n",
    "# Setting the second y axis range name and range\n",
    "p1.extra_y_ranges = {\"foo\": Range1d(start=55, end=85)}\n",
    "\n",
    "# Adding the second axis to the plot.  \n",
    "p1.add_layout(LinearAxis(y_range_name=\"foo\"), 'right')\n",
    "\n",
    "# Add a line renderer\n",
    "p1.line(x1, yLi, legend=\"GDP Per Capita\", line_width=2, y_range_name=\"foo\", line_color=\"orange\")\n",
    "\n",
    "show(p1)"
   ]
  },
  {
   "cell_type": "markdown",
   "metadata": {},
   "source": [
    "#### Poland"
   ]
  },
  {
   "cell_type": "code",
   "execution_count": 49,
   "metadata": {},
   "outputs": [
    {
     "name": "stderr",
     "output_type": "stream",
     "text": [
      "BokehUserWarning: ColumnDataSource's columns must be of the same length. Current lengths: ('x', 70), ('y', 14)\n",
      "BokehUserWarning: ColumnDataSource's columns must be of the same length. Current lengths: ('height', 14), ('x', 70), ('y', 14)\n",
      "BokehUserWarning: ColumnDataSource's columns must be of the same length. Current lengths: ('x', 70), ('y', 14)\n"
     ]
    }
   ],
   "source": [
    "## Plotting housing prices and GDP per country\n",
    "\n",
    "output_file(\"line_bar.html\")\n",
    "\n",
    "p1 = figure(title='Poland',plot_width=1000, plot_height=600)\n",
    "x1= Master_dataset['Year']\n",
    "yP= Master_dataset.loc[(Master_dataset.Country == 'Poland', 'Value GDP')]\n",
    "\n",
    "# setting bar values\n",
    "h = Master_dataset.loc[(Master_dataset.Country == 'Poland', 'Value Housing')]\n",
    "\n",
    "# Correcting the bottom position of the bars to be on the 0 line.\n",
    "adj_h = h/2\n",
    "\n",
    "# add bar renderer\n",
    "p1.rect(x1, y=adj_h, legend=\"Housing Prices\", width=0.4, height=h, color=\"gainsboro\")\n",
    "\n",
    "# Setting the y  axis range   \n",
    "p1.y_range = Range1d(0, 200)\n",
    "\n",
    "# Setting the second y axis range name and range\n",
    "p1.extra_y_ranges = {\"foo\": Range1d(start=50, end=75)}\n",
    "\n",
    "# Adding the second axis to the plot.  \n",
    "p1.add_layout(LinearAxis(y_range_name=\"foo\"), 'right')\n",
    "\n",
    "# Add a line renderer\n",
    "p1.line(x1, yP, legend=\"GDP Per Capita\", line_width=2, y_range_name=\"foo\", line_color=\"darkslategray\")\n",
    "\n",
    "show(p1)"
   ]
  },
  {
   "cell_type": "markdown",
   "metadata": {},
   "source": [
    "## Housing Prices vs Employment"
   ]
  },
  {
   "cell_type": "markdown",
   "metadata": {},
   "source": [
    "###### Bulgaria"
   ]
  },
  {
   "cell_type": "code",
   "execution_count": 50,
   "metadata": {},
   "outputs": [
    {
     "name": "stderr",
     "output_type": "stream",
     "text": [
      "BokehUserWarning: ColumnDataSource's columns must be of the same length. Current lengths: ('x', 70), ('y', 14)\n",
      "BokehUserWarning: ColumnDataSource's columns must be of the same length. Current lengths: ('height', 14), ('x', 70), ('y', 14)\n",
      "BokehUserWarning: ColumnDataSource's columns must be of the same length. Current lengths: ('x', 70), ('y', 14)\n"
     ]
    }
   ],
   "source": [
    "## Plotting housing prices and employment per country\n",
    "\n",
    "output_file(\"line_bar.html\")\n",
    "\n",
    "p1 = figure(title='Bulgaria',plot_width=1000, plot_height=600)\n",
    "x1= Master_dataset['Year']\n",
    "yB= Master_dataset.loc[(Master_dataset.Country == 'Bulgaria', 'Value Employ')]\n",
    "\n",
    "# setting bar values\n",
    "h = Master_dataset.loc[(Master_dataset.Country == 'Bulgaria', 'Value Housing')]\n",
    "\n",
    "# Correcting the bottom position of the bars to be on the 0 line.\n",
    "adj_h = h/2\n",
    "\n",
    "# add bar renderer\n",
    "p1.rect(x1, y=adj_h, legend=\"Housing Prices\", width=0.4, height=h, color=\"gainsboro\")\n",
    "\n",
    "# Setting the y  axis range   \n",
    "p1.y_range = Range1d(0, 200)\n",
    "\n",
    "# Setting the second y axis range name and range\n",
    "p1.extra_y_ranges = {\"foo\": Range1d(start=2800, end=3500)}\n",
    "\n",
    "# Adding the second axis to the plot.  \n",
    "p1.add_layout(LinearAxis(y_range_name=\"foo\"), 'right')\n",
    "\n",
    "# Add a line renderer\n",
    "p1.line(x1, yB, legend=\"Employment\", line_width=2, y_range_name=\"foo\", line_color=\"deepskyblue\")\n",
    "\n",
    "show(p1)"
   ]
  },
  {
   "cell_type": "markdown",
   "metadata": {},
   "source": [
    "#### Hungary"
   ]
  },
  {
   "cell_type": "code",
   "execution_count": 51,
   "metadata": {},
   "outputs": [
    {
     "name": "stderr",
     "output_type": "stream",
     "text": [
      "BokehUserWarning: ColumnDataSource's columns must be of the same length. Current lengths: ('x', 70), ('y', 14)\n",
      "BokehUserWarning: ColumnDataSource's columns must be of the same length. Current lengths: ('height', 14), ('x', 70), ('y', 14)\n",
      "BokehUserWarning: ColumnDataSource's columns must be of the same length. Current lengths: ('x', 70), ('y', 14)\n"
     ]
    }
   ],
   "source": [
    "## Plotting housing prices and employment per country\n",
    "\n",
    "output_file(\"line_bar.html\")\n",
    "\n",
    "p1 = figure(title='Hungary',plot_width=1000, plot_height=600)\n",
    "x1= Master_dataset['Year']\n",
    "yH= Master_dataset.loc[(Master_dataset.Country == 'Hungary', 'Value Employ')]\n",
    "\n",
    "# setting bar values\n",
    "h = Master_dataset.loc[(Master_dataset.Country == 'Hungary', 'Value Housing')]\n",
    "\n",
    "# Correcting the bottom position of the bars to be on the 0 line.\n",
    "adj_h = h/2\n",
    "\n",
    "# add bar renderer\n",
    "p1.rect(x1, y=adj_h, legend=\"Housing Prices\", width=0.4, height=h, color=\"gainsboro\")\n",
    "\n",
    "# Setting the y  axis range   \n",
    "p1.y_range = Range1d(0, 200)\n",
    "\n",
    "# Setting the second y axis range name and range\n",
    "p1.extra_y_ranges = {\"foo\": Range1d(start=3600, end=4500)}\n",
    "\n",
    "# Adding the second axis to the plot.  \n",
    "p1.add_layout(LinearAxis(y_range_name=\"foo\"), 'right')\n",
    "\n",
    "# Add a line renderer\n",
    "p1.line(x1, yH, legend=\"Employment\", line_width=2, y_range_name=\"foo\", line_color=\"navy\")\n",
    "\n",
    "show(p1)"
   ]
  },
  {
   "cell_type": "markdown",
   "metadata": {},
   "source": [
    "#### Latvia"
   ]
  },
  {
   "cell_type": "code",
   "execution_count": 52,
   "metadata": {},
   "outputs": [
    {
     "name": "stderr",
     "output_type": "stream",
     "text": [
      "BokehUserWarning: ColumnDataSource's columns must be of the same length. Current lengths: ('x', 70), ('y', 14)\n",
      "BokehUserWarning: ColumnDataSource's columns must be of the same length. Current lengths: ('height', 14), ('x', 70), ('y', 14)\n",
      "BokehUserWarning: ColumnDataSource's columns must be of the same length. Current lengths: ('x', 70), ('y', 14)\n"
     ]
    }
   ],
   "source": [
    "## Plotting housing prices and employment per country\n",
    "\n",
    "output_file(\"line_bar.html\")\n",
    "\n",
    "p1 = figure(title='Latvia',plot_width=1000, plot_height=600)\n",
    "x1= Master_dataset['Year']\n",
    "yLa= Master_dataset.loc[(Master_dataset.Country == 'Latvia', 'Value Employ')]\n",
    "\n",
    "# setting bar values\n",
    "h = Master_dataset.loc[(Master_dataset.Country == 'Latvia', 'Value Housing')]\n",
    "\n",
    "# Correcting the bottom position of the bars to be on the 0 line.\n",
    "adj_h = h/2\n",
    "\n",
    "# add bar renderer\n",
    "p1.rect(x1, y=adj_h, legend=\"Housing Prices\", width=0.4, height=h, color=\"gainsboro\")\n",
    "\n",
    "# Setting the y  axis range   \n",
    "p1.y_range = Range1d(0, 200)\n",
    "\n",
    "# Setting the second y axis range name and range\n",
    "p1.extra_y_ranges = {\"foo\": Range1d(start=700, end=1100)}\n",
    "\n",
    "# Adding the second axis to the plot.  \n",
    "p1.add_layout(LinearAxis(y_range_name=\"foo\"), 'right')\n",
    "\n",
    "# Add a line renderer\n",
    "p1.line(x1, yLa, legend=\"Employment\", line_width=2, y_range_name=\"foo\", line_color=\"green\")\n",
    "\n",
    "show(p1)"
   ]
  },
  {
   "cell_type": "markdown",
   "metadata": {},
   "source": [
    "#### Lithuania"
   ]
  },
  {
   "cell_type": "code",
   "execution_count": 53,
   "metadata": {},
   "outputs": [
    {
     "name": "stderr",
     "output_type": "stream",
     "text": [
      "BokehUserWarning: ColumnDataSource's columns must be of the same length. Current lengths: ('x', 70), ('y', 14)\n",
      "BokehUserWarning: ColumnDataSource's columns must be of the same length. Current lengths: ('height', 14), ('x', 70), ('y', 14)\n",
      "BokehUserWarning: ColumnDataSource's columns must be of the same length. Current lengths: ('x', 70), ('y', 14)\n"
     ]
    }
   ],
   "source": [
    "## Plotting housing prices and employment per country\n",
    "\n",
    "output_file(\"line_bar.html\")\n",
    "\n",
    "p1 = figure(title='Lithuania',plot_width=1000, plot_height=600)\n",
    "x1= Master_dataset['Year']\n",
    "yLi= Master_dataset.loc[(Master_dataset.Country == 'Lithuania', 'Value Employ')]\n",
    "\n",
    "# setting bar values\n",
    "h = Master_dataset.loc[(Master_dataset.Country == 'Lithuania', 'Value Housing')]\n",
    "\n",
    "# Correcting the bottom position of the bars to be on the 0 line.\n",
    "adj_h = h/2\n",
    "\n",
    "# add bar renderer\n",
    "p1.rect(x1, y=adj_h, legend=\"Housing Prices\", width=0.4, height=h, color=\"gainsboro\")\n",
    "\n",
    "# Setting the y  axis range   \n",
    "p1.y_range = Range1d(0, 200)\n",
    "\n",
    "# Setting the second y axis range name and range\n",
    "p1.extra_y_ranges = {\"foo\": Range1d(start=1100, end=1500)}\n",
    "\n",
    "# Adding the second axis to the plot.  \n",
    "p1.add_layout(LinearAxis(y_range_name=\"foo\"), 'right')\n",
    "\n",
    "# Add a line renderer\n",
    "p1.line(x1, yLi, legend=\"Employment\", line_width=2, y_range_name=\"foo\", line_color=\"orange\")\n",
    "\n",
    "show(p1)"
   ]
  },
  {
   "cell_type": "markdown",
   "metadata": {},
   "source": [
    "#### Poland"
   ]
  },
  {
   "cell_type": "code",
   "execution_count": 54,
   "metadata": {},
   "outputs": [
    {
     "name": "stderr",
     "output_type": "stream",
     "text": [
      "BokehUserWarning: ColumnDataSource's columns must be of the same length. Current lengths: ('x', 70), ('y', 14)\n",
      "BokehUserWarning: ColumnDataSource's columns must be of the same length. Current lengths: ('height', 14), ('x', 70), ('y', 14)\n",
      "BokehUserWarning: ColumnDataSource's columns must be of the same length. Current lengths: ('x', 70), ('y', 14)\n"
     ]
    }
   ],
   "source": [
    "## Plotting housing prices and employment per country\n",
    "\n",
    "output_file(\"line_bar.html\")\n",
    "\n",
    "p1 = figure(title='Poland',plot_width=1000, plot_height=600)\n",
    "x1= Master_dataset['Year']\n",
    "yP= Master_dataset.loc[(Master_dataset.Country == 'Poland', 'Value Employ')]\n",
    "\n",
    "# setting bar values\n",
    "h = Master_dataset.loc[(Master_dataset.Country == 'Poland', 'Value Housing')]\n",
    "\n",
    "# Correcting the bottom position of the bars to be on the 0 line.\n",
    "adj_h = h/2\n",
    "\n",
    "# add bar renderer\n",
    "p1.rect(x1, y=adj_h, legend=\"Housing Prices\", width=0.4, height=h, color=\"gainsboro\")\n",
    "\n",
    "# Setting the y  axis range   \n",
    "p1.y_range = Range1d(0, 200)\n",
    "\n",
    "# Setting the second y axis range name and range\n",
    "p1.extra_y_ranges = {\"foo\": Range1d(start=13000, end=17000)}\n",
    "\n",
    "# Adding the second axis to the plot.  \n",
    "p1.add_layout(LinearAxis(y_range_name=\"foo\"), 'right')\n",
    "\n",
    "# Add a line renderer\n",
    "p1.line(x1, yP, legend=\"Employment\", line_width=2, y_range_name=\"foo\", line_color=\"darkslategray\")\n",
    "\n",
    "show(p1)"
   ]
  },
  {
   "cell_type": "markdown",
   "metadata": {},
   "source": [
    "## Housing Prices vs Population"
   ]
  },
  {
   "cell_type": "markdown",
   "metadata": {},
   "source": [
    "#### Bulgaria"
   ]
  },
  {
   "cell_type": "code",
   "execution_count": 55,
   "metadata": {},
   "outputs": [
    {
     "name": "stderr",
     "output_type": "stream",
     "text": [
      "BokehUserWarning: ColumnDataSource's columns must be of the same length. Current lengths: ('x', 70), ('y', 14)\n",
      "BokehUserWarning: ColumnDataSource's columns must be of the same length. Current lengths: ('height', 14), ('x', 70), ('y', 14)\n",
      "BokehUserWarning: ColumnDataSource's columns must be of the same length. Current lengths: ('x', 70), ('y', 14)\n"
     ]
    }
   ],
   "source": [
    "## Plotting housing prices and population per country\n",
    "\n",
    "output_file(\"line_bar.html\")\n",
    "\n",
    "p1 = figure(title='Bulgaria',plot_width=1000, plot_height=600)\n",
    "x1= Master_dataset['Year']\n",
    "yB= Master_dataset.loc[(Master_dataset.Country == 'Bulgaria', 'Value Popul')]\n",
    "\n",
    "# setting bar values\n",
    "h = Master_dataset.loc[(Master_dataset.Country == 'Bulgaria', 'Value Housing')]\n",
    "\n",
    "# Correcting the bottom position of the bars to be on the 0 line.\n",
    "adj_h = h/2\n",
    "\n",
    "# add bar renderer\n",
    "p1.rect(x1, y=adj_h, legend=\"Housing Prices\", width=0.4, height=h, color=\"gainsboro\")\n",
    "\n",
    "# Setting the y  axis range   \n",
    "p1.y_range = Range1d(0, 200)\n",
    "\n",
    "# Setting the second y axis range name and range\n",
    "p1.extra_y_ranges = {\"foo\": Range1d(start=7000000, end=7700000)}\n",
    "\n",
    "# Adding the second axis to the plot.  \n",
    "p1.add_layout(LinearAxis(y_range_name=\"foo\"), 'right')\n",
    "\n",
    "# Add a line renderer\n",
    "p1.line(x1, yB, legend=\"Population\", line_width=2, y_range_name=\"foo\", line_color=\"deepskyblue\")\n",
    "\n",
    "show(p1)"
   ]
  },
  {
   "cell_type": "markdown",
   "metadata": {},
   "source": [
    "#### Hungary"
   ]
  },
  {
   "cell_type": "code",
   "execution_count": 56,
   "metadata": {},
   "outputs": [
    {
     "name": "stderr",
     "output_type": "stream",
     "text": [
      "BokehUserWarning: ColumnDataSource's columns must be of the same length. Current lengths: ('x', 70), ('y', 14)\n",
      "BokehUserWarning: ColumnDataSource's columns must be of the same length. Current lengths: ('height', 14), ('x', 70), ('y', 14)\n",
      "BokehUserWarning: ColumnDataSource's columns must be of the same length. Current lengths: ('x', 70), ('y', 14)\n"
     ]
    }
   ],
   "source": [
    "## Plotting housing prices and population per country\n",
    "\n",
    "output_file(\"line_bar.html\")\n",
    "\n",
    "p1 = figure(title='Hungary',plot_width=1000, plot_height=600)\n",
    "x1= Master_dataset['Year']\n",
    "yH= Master_dataset.loc[(Master_dataset.Country == 'Hungary', 'Value Popul')]\n",
    "\n",
    "# setting bar values\n",
    "h = Master_dataset.loc[(Master_dataset.Country == 'Hungary', 'Value Housing')]\n",
    "\n",
    "# Correcting the bottom position of the bars to be on the 0 line.\n",
    "adj_h = h/2\n",
    "\n",
    "# add bar renderer\n",
    "p1.rect(x1, y=adj_h, legend=\"Housing Prices\", width=0.4, height=h, color=\"gainsboro\")\n",
    "\n",
    "# Setting the y  axis range   \n",
    "p1.y_range = Range1d(0, 200)\n",
    "\n",
    "# Setting the second y axis range name and range\n",
    "p1.extra_y_ranges = {\"foo\": Range1d(start=9600000, end=10200000)}\n",
    "\n",
    "# Adding the second axis to the plot.  \n",
    "p1.add_layout(LinearAxis(y_range_name=\"foo\"), 'right')\n",
    "\n",
    "# Add a line renderer\n",
    "p1.line(x1, yH, legend=\"Population\", line_width=2, y_range_name=\"foo\", line_color=\"navy\")\n",
    "\n",
    "show(p1)"
   ]
  },
  {
   "cell_type": "markdown",
   "metadata": {},
   "source": [
    "#### Latvia"
   ]
  },
  {
   "cell_type": "code",
   "execution_count": 57,
   "metadata": {},
   "outputs": [
    {
     "name": "stderr",
     "output_type": "stream",
     "text": [
      "BokehUserWarning: ColumnDataSource's columns must be of the same length. Current lengths: ('x', 70), ('y', 14)\n",
      "BokehUserWarning: ColumnDataSource's columns must be of the same length. Current lengths: ('height', 14), ('x', 70), ('y', 14)\n",
      "BokehUserWarning: ColumnDataSource's columns must be of the same length. Current lengths: ('x', 70), ('y', 14)\n"
     ]
    }
   ],
   "source": [
    "## Plotting housing prices and population per country\n",
    "\n",
    "output_file(\"line_bar.html\")\n",
    "\n",
    "p1 = figure(title='Latvia',plot_width=1000, plot_height=600)\n",
    "x1= Master_dataset['Year']\n",
    "yLa= Master_dataset.loc[(Master_dataset.Country == 'Latvia', 'Value Popul')]\n",
    "\n",
    "# setting bar values\n",
    "h = Master_dataset.loc[(Master_dataset.Country == 'Latvia', 'Value Housing')]\n",
    "\n",
    "# Correcting the bottom position of the bars to be on the 0 line.\n",
    "adj_h = h/2\n",
    "\n",
    "# add bar renderer\n",
    "p1.rect(x1, y=adj_h, legend=\"Housing Prices\", width=0.4, height=h, color=\"gainsboro\")\n",
    "\n",
    "# Setting the y  axis range   \n",
    "p1.y_range = Range1d(0, 200)\n",
    "\n",
    "# Setting the second y axis range name and range\n",
    "p1.extra_y_ranges = {\"foo\": Range1d(start=1900000, end=2300000)}\n",
    "\n",
    "# Adding the second axis to the plot.  \n",
    "p1.add_layout(LinearAxis(y_range_name=\"foo\"), 'right')\n",
    "\n",
    "# Add a line renderer\n",
    "p1.line(x1, yLa, legend=\"Population\", line_width=2, y_range_name=\"foo\", line_color=\"green\")\n",
    "\n",
    "show(p1)"
   ]
  },
  {
   "cell_type": "markdown",
   "metadata": {},
   "source": [
    "#### Lithuania"
   ]
  },
  {
   "cell_type": "code",
   "execution_count": 58,
   "metadata": {},
   "outputs": [
    {
     "name": "stderr",
     "output_type": "stream",
     "text": [
      "BokehUserWarning: ColumnDataSource's columns must be of the same length. Current lengths: ('x', 70), ('y', 14)\n",
      "BokehUserWarning: ColumnDataSource's columns must be of the same length. Current lengths: ('height', 14), ('x', 70), ('y', 14)\n",
      "BokehUserWarning: ColumnDataSource's columns must be of the same length. Current lengths: ('x', 70), ('y', 14)\n"
     ]
    }
   ],
   "source": [
    "## Plotting housing prices and population per country\n",
    "\n",
    "output_file(\"line_bar.html\")\n",
    "\n",
    "p1 = figure(title='Lithuania',plot_width=1000, plot_height=600)\n",
    "x1= Master_dataset['Year']\n",
    "yLi= Master_dataset.loc[(Master_dataset.Country == 'Lithuania', 'Value Popul')]\n",
    "\n",
    "# setting bar values\n",
    "h = Master_dataset.loc[(Master_dataset.Country == 'Lithuania', 'Value Housing')]\n",
    "\n",
    "# Correcting the bottom position of the bars to be on the 0 line.\n",
    "adj_h = h/2\n",
    "\n",
    "# add bar renderer\n",
    "p1.rect(x1, y=adj_h, legend=\"Housing Prices\", width=0.4, height=h, color=\"gainsboro\")\n",
    "\n",
    "# Setting the y  axis range   \n",
    "p1.y_range = Range1d(0, 200)\n",
    "\n",
    "# Setting the second y axis range name and range\n",
    "p1.extra_y_ranges = {\"foo\": Range1d(start=2700000, end=3400000)}\n",
    "\n",
    "# Adding the second axis to the plot.  \n",
    "p1.add_layout(LinearAxis(y_range_name=\"foo\"), 'right')\n",
    "\n",
    "# Add a line renderer\n",
    "p1.line(x1, yLi, legend=\"Population\", line_width=2, y_range_name=\"foo\", line_color=\"orange\")\n",
    "\n",
    "show(p1)"
   ]
  },
  {
   "cell_type": "markdown",
   "metadata": {},
   "source": [
    "#### Poland"
   ]
  },
  {
   "cell_type": "code",
   "execution_count": 59,
   "metadata": {},
   "outputs": [
    {
     "name": "stderr",
     "output_type": "stream",
     "text": [
      "BokehUserWarning: ColumnDataSource's columns must be of the same length. Current lengths: ('x', 70), ('y', 14)\n",
      "BokehUserWarning: ColumnDataSource's columns must be of the same length. Current lengths: ('height', 14), ('x', 70), ('y', 14)\n",
      "BokehUserWarning: ColumnDataSource's columns must be of the same length. Current lengths: ('x', 70), ('y', 14)\n"
     ]
    }
   ],
   "source": [
    "## Plotting housing prices and population per country\n",
    "\n",
    "output_file(\"line_bar.html\")\n",
    "\n",
    "p1 = figure(title='Poland',plot_width=1000, plot_height=600)\n",
    "x1= Master_dataset['Year']\n",
    "yP= Master_dataset.loc[(Master_dataset.Country == 'Poland', 'Value Popul')]\n",
    "\n",
    "# setting bar values\n",
    "h = Master_dataset.loc[(Master_dataset.Country == 'Poland', 'Value Housing')]\n",
    "\n",
    "# Correcting the bottom position of the bars to be on the 0 line.\n",
    "adj_h = h/2\n",
    "\n",
    "# add bar renderer\n",
    "p1.rect(x1, y=adj_h, legend=\"Housing Prices\", width=0.4, height=h, color=\"gainsboro\")\n",
    "\n",
    "# Setting the y  axis range   \n",
    "p1.y_range = Range1d(0, 200)\n",
    "\n",
    "# Setting the second y axis range name and range\n",
    "p1.extra_y_ranges = {\"foo\": Range1d(start=37900000, end=38200000)}\n",
    "\n",
    "# Adding the second axis to the plot.  \n",
    "p1.add_layout(LinearAxis(y_range_name=\"foo\"), 'right')\n",
    "\n",
    "# Add a line renderer\n",
    "p1.line(x1, yP, legend=\"Population\", line_width=2, y_range_name=\"foo\", line_color=\"darkslategray\")\n",
    "\n",
    "show(p1)"
   ]
  }
 ],
 "metadata": {
  "kernelspec": {
   "display_name": "Python 3",
   "language": "python",
   "name": "python3"
  },
  "language_info": {
   "codemirror_mode": {
    "name": "ipython",
    "version": 3
   },
   "file_extension": ".py",
   "mimetype": "text/x-python",
   "name": "python",
   "nbconvert_exporter": "python",
   "pygments_lexer": "ipython3",
   "version": "3.7.4"
  }
 },
 "nbformat": 4,
 "nbformat_minor": 2
}
