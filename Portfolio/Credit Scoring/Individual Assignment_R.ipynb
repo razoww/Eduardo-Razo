{
 "cells": [
  {
   "cell_type": "markdown",
   "metadata": {},
   "source": [
    "# Individual Assignment - Eduardo Razo"
   ]
  },
  {
   "cell_type": "markdown",
   "metadata": {},
   "source": [
    "## Import needed packages to create credit scoring"
   ]
  },
  {
   "cell_type": "code",
   "execution_count": 1,
   "metadata": {},
   "outputs": [
    {
     "name": "stderr",
     "output_type": "stream",
     "text": [
      "Warning message:\n",
      "\"package 'varhandle' was built under R version 3.6.2\"Warning message:\n",
      "\"package 'mlr' was built under R version 3.6.3\"Loading required package: ParamHelpers\n",
      "Warning message:\n",
      "\"package 'ParamHelpers' was built under R version 3.6.3\"'mlr' is in maintenance mode since July 2019. Future development\n",
      "efforts will go into its successor 'mlr3' (<https://mlr3.mlr-org.com>).\n",
      "Installing package into 'C:/Users/razow/Documents/R/win-library/3.6'\n",
      "(as 'lib' is unspecified)\n"
     ]
    },
    {
     "name": "stdout",
     "output_type": "stream",
     "text": [
      "package 'woeBinning' successfully unpacked and MD5 sums checked\n",
      "\n",
      "The downloaded binary packages are in\n",
      "\tC:\\Users\\razow\\AppData\\Local\\Temp\\RtmpE58cV5\\downloaded_packages\n"
     ]
    },
    {
     "name": "stderr",
     "output_type": "stream",
     "text": [
      "Warning message:\n",
      "\"package 'Boruta' was built under R version 3.6.3\"Loading required package: ranger\n",
      "Warning message:\n",
      "\"package 'ranger' was built under R version 3.6.3\"Installing package into 'C:/Users/razow/Documents/R/win-library/3.6'\n",
      "(as 'lib' is unspecified)\n"
     ]
    },
    {
     "name": "stdout",
     "output_type": "stream",
     "text": [
      "package 'readxl' successfully unpacked and MD5 sums checked\n",
      "\n",
      "The downloaded binary packages are in\n",
      "\tC:\\Users\\razow\\AppData\\Local\\Temp\\RtmpE58cV5\\downloaded_packages\n"
     ]
    },
    {
     "name": "stderr",
     "output_type": "stream",
     "text": [
      "Warning message:\n",
      "\"package 'readxl' was built under R version 3.6.3\"Warning message:\n",
      "\"package 'MASS' was built under R version 3.6.3\"Warning message:\n",
      "\"package 'randomForest' was built under R version 3.6.2\"randomForest 4.6-14\n",
      "Type rfNews() to see new features/changes/bug fixes.\n",
      "\n",
      "Attaching package: 'randomForest'\n",
      "\n",
      "The following object is masked from 'package:ranger':\n",
      "\n",
      "    importance\n",
      "\n",
      "Warning message:\n",
      "\"package 'gbm' was built under R version 3.6.3\"Loaded gbm 2.1.5\n",
      "Warning message:\n",
      "\"package 'xgboost' was built under R version 3.6.3\"Installing package into 'C:/Users/razow/Documents/R/win-library/3.6'\n",
      "(as 'lib' is unspecified)\n"
     ]
    },
    {
     "name": "stdout",
     "output_type": "stream",
     "text": [
      "package 'ada' successfully unpacked and MD5 sums checked\n",
      "\n",
      "The downloaded binary packages are in\n",
      "\tC:\\Users\\razow\\AppData\\Local\\Temp\\RtmpE58cV5\\downloaded_packages\n"
     ]
    },
    {
     "name": "stderr",
     "output_type": "stream",
     "text": [
      "Warning message:\n",
      "\"package 'ada' was built under R version 3.6.3\"Loading required package: rpart\n",
      "Warning message:\n",
      "\"package 'rpart' was built under R version 3.6.3\"Installing package into 'C:/Users/razow/Documents/R/win-library/3.6'\n",
      "(as 'lib' is unspecified)\n"
     ]
    },
    {
     "name": "stdout",
     "output_type": "stream",
     "text": [
      "package 'e1071' successfully unpacked and MD5 sums checked\n",
      "\n",
      "The downloaded binary packages are in\n",
      "\tC:\\Users\\razow\\AppData\\Local\\Temp\\RtmpE58cV5\\downloaded_packages\n"
     ]
    },
    {
     "name": "stderr",
     "output_type": "stream",
     "text": [
      "Warning message:\n",
      "\"package 'e1071' was built under R version 3.6.3\"\n",
      "Attaching package: 'e1071'\n",
      "\n",
      "The following object is masked from 'package:mlr':\n",
      "\n",
      "    impute\n",
      "\n",
      "Installing package into 'C:/Users/razow/Documents/R/win-library/3.6'\n",
      "(as 'lib' is unspecified)\n"
     ]
    },
    {
     "name": "stdout",
     "output_type": "stream",
     "text": [
      "package 'corrplot' successfully unpacked and MD5 sums checked\n",
      "\n",
      "The downloaded binary packages are in\n",
      "\tC:\\Users\\razow\\AppData\\Local\\Temp\\RtmpE58cV5\\downloaded_packages\n"
     ]
    },
    {
     "name": "stderr",
     "output_type": "stream",
     "text": [
      "Warning message:\n",
      "\"package 'corrplot' was built under R version 3.6.3\"corrplot 0.84 loaded\n",
      "Installing package into 'C:/Users/razow/Documents/R/win-library/3.6'\n",
      "(as 'lib' is unspecified)\n"
     ]
    },
    {
     "name": "stdout",
     "output_type": "stream",
     "text": [
      "package 'ggplot2' successfully unpacked and MD5 sums checked\n",
      "\n",
      "The downloaded binary packages are in\n",
      "\tC:\\Users\\razow\\AppData\\Local\\Temp\\RtmpE58cV5\\downloaded_packages\n"
     ]
    },
    {
     "name": "stderr",
     "output_type": "stream",
     "text": [
      "Warning message:\n",
      "\"package 'ggplot2' was built under R version 3.6.3\"\n",
      "Attaching package: 'ggplot2'\n",
      "\n",
      "The following object is masked from 'package:randomForest':\n",
      "\n",
      "    margin\n",
      "\n",
      "\n",
      "Attaching package: 'gtools'\n",
      "\n",
      "The following object is masked from 'package:e1071':\n",
      "\n",
      "    permutations\n",
      "\n"
     ]
    }
   ],
   "source": [
    "# Data processing library\n",
    "library(data.table)\n",
    "library(varhandle)\n",
    "library(stringr)\n",
    "library(mlr)\n",
    "install.packages('woeBinning')\n",
    "library(woeBinning)  # Bin numerical and categorical variables\n",
    "install.packages(\"readxl\")\n",
    "library(readxl)\n",
    "\n",
    "# Machine learning library\n",
    "library(MASS)  # LDA\n",
    "library(randomForest)  # RF\n",
    "library(gbm)  # Boosting Tree\n",
    "library(xgboost)  # XGboost\n",
    "install.packages(\"ada\")\n",
    "library(ada)\n",
    "install.packages(\"e1071\")\n",
    "library(e1071)\n",
    "install.packages(\"corrplot\")\n",
    "library(corrplot)\n",
    "library(RColorBrewer)\n",
    "install.packages(\"ggplot2\")\n",
    "library(ggplot2)\n",
    "library(gtools)\n",
    "install.packages(\"InformationValue\")\n",
    "library(InformationValue)"
   ]
  },
  {
   "cell_type": "markdown",
   "metadata": {},
   "source": [
    "## Reading data "
   ]
  },
  {
   "cell_type": "code",
   "execution_count": 2,
   "metadata": {},
   "outputs": [],
   "source": [
    "# Read accepts and rejects\n",
    "accepts <- as.data.frame(read_excel('C:/Users/razow/Desktop/IESEG Subjects/15 Credit Scoring/Individual Assignment/Accepts.xlsx'))  # Accepts dataset\n",
    "rejects <- as.data.frame(read_excel('C:/Users/razow/Desktop/IESEG Subjects/15 Credit Scoring/Individual Assignment/Rejects.xlsx'))  # Rejects data set without target variable"
   ]
  },
  {
   "cell_type": "markdown",
   "metadata": {},
   "source": [
    "## Data exploration"
   ]
  },
  {
   "cell_type": "markdown",
   "metadata": {},
   "source": [
    "Here we can have a general overview of the data. The following charts display the different variable types of the accepts and rejects datasets, also, it is possible to observe some descriptive analytics like mean, median, min and max corresponding to each variable. This overview helps to start getting an idea about potential data pre-processing. In this case, dealing with missing values and outliers."
   ]
  },
  {
   "cell_type": "code",
   "execution_count": 3,
   "metadata": {},
   "outputs": [
    {
     "name": "stdout",
     "output_type": "stream",
     "text": [
      "'data.frame':\t10000 obs. of  19 variables:\n",
      " $ ID                 : num  250263 250290 250249 249516 249827 ...\n",
      " $ V1                 : num  1 1 2 3 1 1 2 1 2 3 ...\n",
      " $ V2                 : num  1 2 3 3 3 3 4 3 5 3 ...\n",
      " $ V3                 : num  11 6 11 10 5 11 11 12 11 14 ...\n",
      " $ V4                 : num  5 4 5 4 2 2 5 3 5 1 ...\n",
      " $ V5                 : num  6 5 7 2 4 5 7 3 1 4 ...\n",
      " $ V6                 : num  7 1 7 4 4 4 7 5 7 4 ...\n",
      " $ V7                 : num  1 1 1 1 1 3 3 1 1 3 ...\n",
      " $ V8                 : chr  \"2\" \"2\" \"2\" \"2\" ...\n",
      " $ Has_FICO           : num  0 1 1 0 0 0 1 0 0 0 ...\n",
      " $ Business_channel   : num  1 1 1 1 1 2 1 2 1 1 ...\n",
      " $ Days_late          : num  0 0 0 168 0 0 0 0 336 0 ...\n",
      " $ FICO_Score         : num  NA 1.498 -0.242 NA NA ...\n",
      " $ Loan_amount        : num  1.439 0.205 -0.853 -0.676 -0.412 ...\n",
      " $ Monthly_income     : num  -0.2591 0.3833 -0.7324 -0.0573 -0.5746 ...\n",
      " $ Age                : num  1.781 1.107 1.407 0.957 -0.39 ...\n",
      " $ Gearing_coefficient: num  0.86 -0.718 1.123 -1.702 0.91 ...\n",
      " $ Max_gearing_ratio  : num  0.514 1.797 -0.769 0.514 -0.769 ...\n",
      " $ Default_45         : num  0 0 0 1 0 0 0 0 1 0 ...\n"
     ]
    }
   ],
   "source": [
    "# Strucuture of accepts dataset\n",
    "str(accepts)"
   ]
  },
  {
   "cell_type": "code",
   "execution_count": 4,
   "metadata": {},
   "outputs": [
    {
     "name": "stdout",
     "output_type": "stream",
     "text": [
      "'data.frame':\t5000 obs. of  17 variables:\n",
      " $ ID                 : num  305932 305764 305971 305664 305639 ...\n",
      " $ V1                 : num  3 1 1 1 1 3 1 1 1 1 ...\n",
      " $ V2                 : num  3 4 4 5 4 3 5 3 4 3 ...\n",
      " $ V3                 : num  14 7 10 14 15 10 10 10 2 10 ...\n",
      " $ V4                 : num  2 1 4 2 1 1 4 4 2 4 ...\n",
      " $ V5                 : num  1 6 5 2 5 4 2 3 6 5 ...\n",
      " $ V6                 : num  5 4 4 5 4 5 4 4 4 4 ...\n",
      " $ V7                 : num  1 1 1 3 1 3 3 3 1 1 ...\n",
      " $ V8                 : chr  \"1\" \"2\" \"4\" \"3\" ...\n",
      " $ Has_FICO           : num  1 1 1 1 1 1 1 1 0 1 ...\n",
      " $ Business_channel   : num  1 1 3 1 2 1 1 1 1 3 ...\n",
      " $ FICO_Score         : num  -0.0305 0.7152 0.7649 -1.3478 1.6349 ...\n",
      " $ Loan_amount        : num  -0.324 5.668 -0.751 -0.853 3.201 ...\n",
      " $ Monthly_income     : num  -0.605 1.3 0.434 -0.49 0.561 ...\n",
      " $ Age                : num  -1.064 0.808 -0.39 -0.989 0.583 ...\n",
      " $ Gearing_coefficient: num  1.0282 1.0818 -0.9694 1.0463 0.0885 ...\n",
      " $ Max_gearing_ratio  : num  -0.769 1.797 1.797 -0.769 1.797 ...\n"
     ]
    }
   ],
   "source": [
    "# Strucuture of rejects dataset\n",
    "str(rejects)"
   ]
  },
  {
   "cell_type": "code",
   "execution_count": 5,
   "metadata": {},
   "outputs": [
    {
     "data": {
      "text/plain": [
       "       ID               V1              V2              V3        \n",
       " Min.   :249516   Min.   :1.000   Min.   :1.000   Min.   : 1.000  \n",
       " 1st Qu.:269470   1st Qu.:1.000   1st Qu.:3.000   1st Qu.: 7.000  \n",
       " Median :284845   Median :1.000   Median :3.000   Median :10.000  \n",
       " Mean   :282248   Mean   :1.879   Mean   :3.495   Mean   : 9.041  \n",
       " 3rd Qu.:296045   3rd Qu.:3.000   3rd Qu.:5.000   3rd Qu.:11.000  \n",
       " Max.   :305957   Max.   :5.000   Max.   :6.000   Max.   :16.000  \n",
       "                                                                  \n",
       "       V4              V5              V6              V7       \n",
       " Min.   :1.000   Min.   :1.000   Min.   :1.000   Min.   :1.000  \n",
       " 1st Qu.:2.000   1st Qu.:2.000   1st Qu.:4.000   1st Qu.:1.000  \n",
       " Median :4.000   Median :4.000   Median :5.000   Median :1.000  \n",
       " Mean   :3.316   Mean   :3.977   Mean   :4.868   Mean   :1.757  \n",
       " 3rd Qu.:4.000   3rd Qu.:6.000   3rd Qu.:5.000   3rd Qu.:3.000  \n",
       " Max.   :6.000   Max.   :7.000   Max.   :7.000   Max.   :3.000  \n",
       "                                                                \n",
       "      V8               Has_FICO      Business_channel   Days_late     \n",
       " Length:10000       Min.   :0.0000   Min.   :1.000    Min.   :  0.00  \n",
       " Class :character   1st Qu.:0.0000   1st Qu.:1.000    1st Qu.:  0.00  \n",
       " Mode  :character   Median :1.0000   Median :1.000    Median :  0.00  \n",
       "                    Mean   :0.5528   Mean   :1.403    Mean   : 56.46  \n",
       "                    3rd Qu.:1.0000   3rd Qu.:2.000    3rd Qu.: 15.00  \n",
       "                    Max.   :1.0000   Max.   :3.000    Max.   :623.00  \n",
       "                                                                      \n",
       "   FICO_Score      Loan_amount       Monthly_income          Age           \n",
       " Min.   :-6.033   Min.   :-1.11702   Min.   :-0.98488   Min.   :-1.588346  \n",
       " 1st Qu.:-0.876   1st Qu.:-0.64116   1st Qu.:-0.53633   1st Qu.:-0.914469  \n",
       " Median :-0.192   Median :-0.32392   Median :-0.35939   Median :-0.165717  \n",
       " Mean   :-0.083   Mean   : 0.03416   Mean   :-0.11933   Mean   :-0.003148  \n",
       " 3rd Qu.: 0.690   3rd Qu.: 0.38105   3rd Qu.: 0.05648   3rd Qu.: 0.882537  \n",
       " Max.   : 2.468   Max.   : 5.84461   Max.   :43.84200   Max.   : 2.005666  \n",
       " NA's   :4472                                                              \n",
       " Gearing_coefficient Max_gearing_ratio    Default_45    \n",
       " Min.   :-2.8596     Min.   :-0.76863   Min.   :0.0000  \n",
       " 1st Qu.:-0.6145     1st Qu.:-0.76863   1st Qu.:0.0000  \n",
       " Median : 0.4141     Median :-0.76863   Median :0.0000  \n",
       " Mean   : 0.1005     Mean   : 0.01966   Mean   :0.2364  \n",
       " 3rd Qu.: 0.9651     3rd Qu.: 0.51398   3rd Qu.:0.0000  \n",
       " Max.   : 9.3873     Max.   : 1.79659   Max.   :1.0000  \n",
       "                                                        "
      ]
     },
     "metadata": {},
     "output_type": "display_data"
    }
   ],
   "source": [
    "# Descriptive analytics of accepts dataset\n",
    "summary(accepts)"
   ]
  },
  {
   "cell_type": "code",
   "execution_count": 6,
   "metadata": {},
   "outputs": [
    {
     "data": {
      "text/plain": [
       "       ID               V1              V2              V3        \n",
       " Min.   :286878   Min.   :1.000   Min.   :1.000   Min.   : 1.000  \n",
       " 1st Qu.:310661   1st Qu.:1.000   1st Qu.:3.000   1st Qu.: 5.000  \n",
       " Median :315932   Median :1.000   Median :4.000   Median :10.000  \n",
       " Mean   :315744   Mean   :1.864   Mean   :3.514   Mean   : 8.559  \n",
       " 3rd Qu.:320834   3rd Qu.:3.000   3rd Qu.:5.000   3rd Qu.:11.000  \n",
       " Max.   :325624   Max.   :5.000   Max.   :5.000   Max.   :15.000  \n",
       "                                                                  \n",
       "       V4             V5              V6              V7       \n",
       " Min.   :1.00   Min.   :1.000   Min.   :1.000   Min.   :1.000  \n",
       " 1st Qu.:2.00   1st Qu.:2.000   1st Qu.:4.000   1st Qu.:1.000  \n",
       " Median :4.00   Median :3.000   Median :5.000   Median :1.000  \n",
       " Mean   :3.21   Mean   :3.634   Mean   :4.698   Mean   :1.871  \n",
       " 3rd Qu.:4.00   3rd Qu.:5.000   3rd Qu.:5.000   3rd Qu.:3.000  \n",
       " Max.   :5.00   Max.   :7.000   Max.   :7.000   Max.   :3.000  \n",
       "                                                               \n",
       "      V8               Has_FICO      Business_channel   FICO_Score     \n",
       " Length:5000        Min.   :0.0000   Min.   :1.000    Min.   :-2.7149  \n",
       " Class :character   1st Qu.:0.0000   1st Qu.:1.000    1st Qu.:-0.7513  \n",
       " Mode  :character   Median :1.0000   Median :1.000    Median :-0.0305  \n",
       "                    Mean   :0.5828   Mean   :1.282    Mean   : 0.0312  \n",
       "                    3rd Qu.:1.0000   3rd Qu.:1.000    3rd Qu.: 0.7774  \n",
       "                    Max.   :1.0000   Max.   :3.000    Max.   : 2.4427  \n",
       "                                                      NA's   :2086     \n",
       "  Loan_amount       Monthly_income          Age           Gearing_coefficient\n",
       " Min.   :-1.11702   Min.   :-0.70313   Min.   :-1.58835   Min.   :-2.86948   \n",
       " 1st Qu.:-0.67641   1st Qu.:-0.40221   1st Qu.:-0.91447   1st Qu.:-0.92333   \n",
       " Median :-0.32392   Median :-0.16104   Median :-0.16572   Median : 0.08172   \n",
       " Mean   :-0.04345   Mean   : 0.09731   Mean   :-0.05859   Mean   :-0.11072   \n",
       " 3rd Qu.: 0.29293   3rd Qu.: 0.29090   3rd Qu.: 0.58304   3rd Qu.: 0.81365   \n",
       " Max.   : 5.84461   Max.   :29.31820   Max.   : 2.08054   Max.   : 2.19997   \n",
       "                                                                             \n",
       " Max_gearing_ratio\n",
       " Min.   :-0.7686  \n",
       " 1st Qu.:-0.7686  \n",
       " Median :-0.7686  \n",
       " Mean   : 0.1436  \n",
       " 3rd Qu.: 0.5140  \n",
       " Max.   : 1.7966  \n",
       "                  "
      ]
     },
     "metadata": {},
     "output_type": "display_data"
    }
   ],
   "source": [
    "# Descriptive analytics of rejects dataset\n",
    "summary(rejects)"
   ]
  },
  {
   "cell_type": "markdown",
   "metadata": {},
   "source": [
    "There are 4472 missing values in variable FICO_Score."
   ]
  },
  {
   "cell_type": "code",
   "execution_count": 7,
   "metadata": {},
   "outputs": [
    {
     "data": {
      "text/html": [
       "<style>\n",
       ".dl-inline {width: auto; margin:0; padding: 0}\n",
       ".dl-inline>dt, .dl-inline>dd {float: none; width: auto; display: inline-block}\n",
       ".dl-inline>dt::after {content: \":\\0020\"; padding-right: .5ex}\n",
       ".dl-inline>dt:not(:first-of-type) {padding-left: .5ex}\n",
       "</style><dl class=dl-inline><dt>ID</dt><dd>0</dd><dt>V1</dt><dd>0</dd><dt>V2</dt><dd>0</dd><dt>V3</dt><dd>0</dd><dt>V4</dt><dd>0</dd><dt>V5</dt><dd>0</dd><dt>V6</dt><dd>0</dd><dt>V7</dt><dd>0</dd><dt>V8</dt><dd>0</dd><dt>Has_FICO</dt><dd>0</dd><dt>Business_channel</dt><dd>0</dd><dt>Days_late</dt><dd>0</dd><dt>FICO_Score</dt><dd>4472</dd><dt>Loan_amount</dt><dd>0</dd><dt>Monthly_income</dt><dd>0</dd><dt>Age</dt><dd>0</dd><dt>Gearing_coefficient</dt><dd>0</dd><dt>Max_gearing_ratio</dt><dd>0</dd><dt>Default_45</dt><dd>0</dd></dl>\n"
      ],
      "text/latex": [
       "\\begin{description*}\n",
       "\\item[ID] 0\n",
       "\\item[V1] 0\n",
       "\\item[V2] 0\n",
       "\\item[V3] 0\n",
       "\\item[V4] 0\n",
       "\\item[V5] 0\n",
       "\\item[V6] 0\n",
       "\\item[V7] 0\n",
       "\\item[V8] 0\n",
       "\\item[Has\\textbackslash{}\\_FICO] 0\n",
       "\\item[Business\\textbackslash{}\\_channel] 0\n",
       "\\item[Days\\textbackslash{}\\_late] 0\n",
       "\\item[FICO\\textbackslash{}\\_Score] 4472\n",
       "\\item[Loan\\textbackslash{}\\_amount] 0\n",
       "\\item[Monthly\\textbackslash{}\\_income] 0\n",
       "\\item[Age] 0\n",
       "\\item[Gearing\\textbackslash{}\\_coefficient] 0\n",
       "\\item[Max\\textbackslash{}\\_gearing\\textbackslash{}\\_ratio] 0\n",
       "\\item[Default\\textbackslash{}\\_45] 0\n",
       "\\end{description*}\n"
      ],
      "text/markdown": [
       "ID\n",
       ":   0V1\n",
       ":   0V2\n",
       ":   0V3\n",
       ":   0V4\n",
       ":   0V5\n",
       ":   0V6\n",
       ":   0V7\n",
       ":   0V8\n",
       ":   0Has_FICO\n",
       ":   0Business_channel\n",
       ":   0Days_late\n",
       ":   0FICO_Score\n",
       ":   4472Loan_amount\n",
       ":   0Monthly_income\n",
       ":   0Age\n",
       ":   0Gearing_coefficient\n",
       ":   0Max_gearing_ratio\n",
       ":   0Default_45\n",
       ":   0\n",
       "\n"
      ],
      "text/plain": [
       "                 ID                  V1                  V2                  V3 \n",
       "                  0                   0                   0                   0 \n",
       "                 V4                  V5                  V6                  V7 \n",
       "                  0                   0                   0                   0 \n",
       "                 V8            Has_FICO    Business_channel           Days_late \n",
       "                  0                   0                   0                   0 \n",
       "         FICO_Score         Loan_amount      Monthly_income                 Age \n",
       "               4472                   0                   0                   0 \n",
       "Gearing_coefficient   Max_gearing_ratio          Default_45 \n",
       "                  0                   0                   0 "
      ]
     },
     "metadata": {},
     "output_type": "display_data"
    }
   ],
   "source": [
    "# Checking missing values\n",
    "apply(is.na(accepts), 2, sum)"
   ]
  },
  {
   "cell_type": "markdown",
   "metadata": {},
   "source": [
    "Variable type transformation is needed according to the data description provided in the assignment document. Also, in this section, missing values are replaced with the mean value of the variable respectively."
   ]
  },
  {
   "cell_type": "code",
   "execution_count": 8,
   "metadata": {},
   "outputs": [],
   "source": [
    "# Tranform numerical variables that should be categorical in accepts dataset\n",
    "accepts$ID = as.character(accepts$ID)\n",
    "accepts$V1 = as.factor(accepts$V1)\n",
    "accepts$V2 = as.factor(accepts$V2)\n",
    "accepts$V3 = as.factor(accepts$V3)\n",
    "accepts$V4 = as.factor(accepts$V4)\n",
    "accepts$V5 = as.factor(accepts$V5)\n",
    "accepts$V6 = as.factor(accepts$V6)\n",
    "accepts$V7 = as.factor(accepts$V7)\n",
    "accepts$V8 = as.character(accepts$V8)\n",
    "accepts$V8[accepts$V8 == \">4\" ] <- 5 # Replacing \">4\" value with 5\n",
    "accepts$V8 = as.factor(accepts$V8)\n",
    "accepts$Business_channel = as.factor(accepts$Business_channel)\n",
    "\n",
    "# Replacing missing values with the mean of the variable in accepts dataset\n",
    "mean <- mean(accepts$FICO_Score, na.rm = TRUE)\n",
    "\n",
    "for(i in 1:ncol(accepts)){\n",
    "  accepts[is.na(accepts[,i]), i] <- mean\n",
    "}\n",
    "\n",
    "# Tranform numerical variables that should be categorical in rejects dataset\n",
    "rejects$ID = as.character(rejects$ID)\n",
    "rejects$V1 = as.factor(rejects$V1)\n",
    "rejects$V2 = as.factor(rejects$V2)\n",
    "rejects$V3 = as.factor(rejects$V3)\n",
    "rejects$V4 = as.factor(rejects$V4)\n",
    "rejects$V5 = as.factor(rejects$V5)\n",
    "rejects$V6 = as.factor(rejects$V6)\n",
    "rejects$V7 = as.factor(rejects$V7)\n",
    "rejects$V8 = as.character(rejects$V8)\n",
    "rejects$V8[rejects$V8 == \">4\" ] <- 5 # Replacing \">4\" value with 5\n",
    "rejects$V8 = as.factor(rejects$V8)\n",
    "rejects$Business_channel = as.factor(rejects$Business_channel)\n",
    "\n",
    "# Replacing missing values with the mean of the variable in rejects dataset\n",
    "mean1 <- mean(rejects$FICO_Score, na.rm = TRUE)\n",
    "\n",
    "for(i in 1:ncol(rejects)){\n",
    "  rejects[is.na(rejects[,i]), i] <- mean1\n",
    "}"
   ]
  },
  {
   "cell_type": "markdown",
   "metadata": {},
   "source": [
    "In the following two cells, it is possible to observe that there are no missing values anymore."
   ]
  },
  {
   "cell_type": "code",
   "execution_count": 9,
   "metadata": {},
   "outputs": [
    {
     "data": {
      "text/html": [
       "<style>\n",
       ".dl-inline {width: auto; margin:0; padding: 0}\n",
       ".dl-inline>dt, .dl-inline>dd {float: none; width: auto; display: inline-block}\n",
       ".dl-inline>dt::after {content: \":\\0020\"; padding-right: .5ex}\n",
       ".dl-inline>dt:not(:first-of-type) {padding-left: .5ex}\n",
       "</style><dl class=dl-inline><dt>ID</dt><dd>0</dd><dt>V1</dt><dd>0</dd><dt>V2</dt><dd>0</dd><dt>V3</dt><dd>0</dd><dt>V4</dt><dd>0</dd><dt>V5</dt><dd>0</dd><dt>V6</dt><dd>0</dd><dt>V7</dt><dd>0</dd><dt>V8</dt><dd>0</dd><dt>Has_FICO</dt><dd>0</dd><dt>Business_channel</dt><dd>0</dd><dt>Days_late</dt><dd>0</dd><dt>FICO_Score</dt><dd>0</dd><dt>Loan_amount</dt><dd>0</dd><dt>Monthly_income</dt><dd>0</dd><dt>Age</dt><dd>0</dd><dt>Gearing_coefficient</dt><dd>0</dd><dt>Max_gearing_ratio</dt><dd>0</dd><dt>Default_45</dt><dd>0</dd></dl>\n"
      ],
      "text/latex": [
       "\\begin{description*}\n",
       "\\item[ID] 0\n",
       "\\item[V1] 0\n",
       "\\item[V2] 0\n",
       "\\item[V3] 0\n",
       "\\item[V4] 0\n",
       "\\item[V5] 0\n",
       "\\item[V6] 0\n",
       "\\item[V7] 0\n",
       "\\item[V8] 0\n",
       "\\item[Has\\textbackslash{}\\_FICO] 0\n",
       "\\item[Business\\textbackslash{}\\_channel] 0\n",
       "\\item[Days\\textbackslash{}\\_late] 0\n",
       "\\item[FICO\\textbackslash{}\\_Score] 0\n",
       "\\item[Loan\\textbackslash{}\\_amount] 0\n",
       "\\item[Monthly\\textbackslash{}\\_income] 0\n",
       "\\item[Age] 0\n",
       "\\item[Gearing\\textbackslash{}\\_coefficient] 0\n",
       "\\item[Max\\textbackslash{}\\_gearing\\textbackslash{}\\_ratio] 0\n",
       "\\item[Default\\textbackslash{}\\_45] 0\n",
       "\\end{description*}\n"
      ],
      "text/markdown": [
       "ID\n",
       ":   0V1\n",
       ":   0V2\n",
       ":   0V3\n",
       ":   0V4\n",
       ":   0V5\n",
       ":   0V6\n",
       ":   0V7\n",
       ":   0V8\n",
       ":   0Has_FICO\n",
       ":   0Business_channel\n",
       ":   0Days_late\n",
       ":   0FICO_Score\n",
       ":   0Loan_amount\n",
       ":   0Monthly_income\n",
       ":   0Age\n",
       ":   0Gearing_coefficient\n",
       ":   0Max_gearing_ratio\n",
       ":   0Default_45\n",
       ":   0\n",
       "\n"
      ],
      "text/plain": [
       "                 ID                  V1                  V2                  V3 \n",
       "                  0                   0                   0                   0 \n",
       "                 V4                  V5                  V6                  V7 \n",
       "                  0                   0                   0                   0 \n",
       "                 V8            Has_FICO    Business_channel           Days_late \n",
       "                  0                   0                   0                   0 \n",
       "         FICO_Score         Loan_amount      Monthly_income                 Age \n",
       "                  0                   0                   0                   0 \n",
       "Gearing_coefficient   Max_gearing_ratio          Default_45 \n",
       "                  0                   0                   0 "
      ]
     },
     "metadata": {},
     "output_type": "display_data"
    }
   ],
   "source": [
    "# Checking missing values in accepts\n",
    "apply(is.na(accepts), 2, sum)"
   ]
  },
  {
   "cell_type": "code",
   "execution_count": 10,
   "metadata": {},
   "outputs": [
    {
     "data": {
      "text/html": [
       "<style>\n",
       ".dl-inline {width: auto; margin:0; padding: 0}\n",
       ".dl-inline>dt, .dl-inline>dd {float: none; width: auto; display: inline-block}\n",
       ".dl-inline>dt::after {content: \":\\0020\"; padding-right: .5ex}\n",
       ".dl-inline>dt:not(:first-of-type) {padding-left: .5ex}\n",
       "</style><dl class=dl-inline><dt>ID</dt><dd>0</dd><dt>V1</dt><dd>0</dd><dt>V2</dt><dd>0</dd><dt>V3</dt><dd>0</dd><dt>V4</dt><dd>0</dd><dt>V5</dt><dd>0</dd><dt>V6</dt><dd>0</dd><dt>V7</dt><dd>0</dd><dt>V8</dt><dd>0</dd><dt>Has_FICO</dt><dd>0</dd><dt>Business_channel</dt><dd>0</dd><dt>FICO_Score</dt><dd>0</dd><dt>Loan_amount</dt><dd>0</dd><dt>Monthly_income</dt><dd>0</dd><dt>Age</dt><dd>0</dd><dt>Gearing_coefficient</dt><dd>0</dd><dt>Max_gearing_ratio</dt><dd>0</dd></dl>\n"
      ],
      "text/latex": [
       "\\begin{description*}\n",
       "\\item[ID] 0\n",
       "\\item[V1] 0\n",
       "\\item[V2] 0\n",
       "\\item[V3] 0\n",
       "\\item[V4] 0\n",
       "\\item[V5] 0\n",
       "\\item[V6] 0\n",
       "\\item[V7] 0\n",
       "\\item[V8] 0\n",
       "\\item[Has\\textbackslash{}\\_FICO] 0\n",
       "\\item[Business\\textbackslash{}\\_channel] 0\n",
       "\\item[FICO\\textbackslash{}\\_Score] 0\n",
       "\\item[Loan\\textbackslash{}\\_amount] 0\n",
       "\\item[Monthly\\textbackslash{}\\_income] 0\n",
       "\\item[Age] 0\n",
       "\\item[Gearing\\textbackslash{}\\_coefficient] 0\n",
       "\\item[Max\\textbackslash{}\\_gearing\\textbackslash{}\\_ratio] 0\n",
       "\\end{description*}\n"
      ],
      "text/markdown": [
       "ID\n",
       ":   0V1\n",
       ":   0V2\n",
       ":   0V3\n",
       ":   0V4\n",
       ":   0V5\n",
       ":   0V6\n",
       ":   0V7\n",
       ":   0V8\n",
       ":   0Has_FICO\n",
       ":   0Business_channel\n",
       ":   0FICO_Score\n",
       ":   0Loan_amount\n",
       ":   0Monthly_income\n",
       ":   0Age\n",
       ":   0Gearing_coefficient\n",
       ":   0Max_gearing_ratio\n",
       ":   0\n",
       "\n"
      ],
      "text/plain": [
       "                 ID                  V1                  V2                  V3 \n",
       "                  0                   0                   0                   0 \n",
       "                 V4                  V5                  V6                  V7 \n",
       "                  0                   0                   0                   0 \n",
       "                 V8            Has_FICO    Business_channel          FICO_Score \n",
       "                  0                   0                   0                   0 \n",
       "        Loan_amount      Monthly_income                 Age Gearing_coefficient \n",
       "                  0                   0                   0                   0 \n",
       "  Max_gearing_ratio \n",
       "                  0 "
      ]
     },
     "metadata": {},
     "output_type": "display_data"
    }
   ],
   "source": [
    "# Checking missing values in rejects\n",
    "apply(is.na(rejects), 2, sum)"
   ]
  },
  {
   "cell_type": "code",
   "execution_count": 11,
   "metadata": {},
   "outputs": [
    {
     "name": "stdout",
     "output_type": "stream",
     "text": [
      "'data.frame':\t10000 obs. of  19 variables:\n",
      " $ ID                 : chr  \"250263\" \"250290\" \"250249\" \"249516\" ...\n",
      " $ V1                 : Factor w/ 5 levels \"1\",\"2\",\"3\",\"4\",..: 1 1 2 3 1 1 2 1 2 3 ...\n",
      " $ V2                 : Factor w/ 6 levels \"1\",\"2\",\"3\",\"4\",..: 1 2 3 3 3 3 4 3 5 3 ...\n",
      " $ V3                 : Factor w/ 16 levels \"1\",\"2\",\"3\",\"4\",..: 11 6 11 10 5 11 11 12 11 14 ...\n",
      " $ V4                 : Factor w/ 6 levels \"1\",\"2\",\"3\",\"4\",..: 5 4 5 4 2 2 5 3 5 1 ...\n",
      " $ V5                 : Factor w/ 7 levels \"1\",\"2\",\"3\",\"4\",..: 6 5 7 2 4 5 7 3 1 4 ...\n",
      " $ V6                 : Factor w/ 7 levels \"1\",\"2\",\"3\",\"4\",..: 7 1 7 4 4 4 7 5 7 4 ...\n",
      " $ V7                 : Factor w/ 3 levels \"1\",\"2\",\"3\": 1 1 1 1 1 3 3 1 1 3 ...\n",
      " $ V8                 : Factor w/ 5 levels \"1\",\"2\",\"3\",\"4\",..: 2 2 2 2 3 4 1 3 1 1 ...\n",
      " $ Has_FICO           : num  0 1 1 0 0 0 1 0 0 0 ...\n",
      " $ Business_channel   : Factor w/ 3 levels \"1\",\"2\",\"3\": 1 1 1 1 1 2 1 2 1 1 ...\n",
      " $ Days_late          : num  0 0 0 168 0 0 0 0 336 0 ...\n",
      " $ FICO_Score         : num  -0.0833 1.4982 -0.2417 -0.0833 -0.0833 ...\n",
      " $ Loan_amount        : num  1.439 0.205 -0.853 -0.676 -0.412 ...\n",
      " $ Monthly_income     : num  -0.2591 0.3833 -0.7324 -0.0573 -0.5746 ...\n",
      " $ Age                : num  1.781 1.107 1.407 0.957 -0.39 ...\n",
      " $ Gearing_coefficient: num  0.86 -0.718 1.123 -1.702 0.91 ...\n",
      " $ Max_gearing_ratio  : num  0.514 1.797 -0.769 0.514 -0.769 ...\n",
      " $ Default_45         : num  0 0 0 1 0 0 0 0 1 0 ...\n"
     ]
    }
   ],
   "source": [
    "str(accepts)"
   ]
  },
  {
   "cell_type": "markdown",
   "metadata": {},
   "source": [
    "## Data visualization "
   ]
  },
  {
   "cell_type": "markdown",
   "metadata": {},
   "source": [
    "This chart helps to viasualize how the different numeric variables are correlated to the target variable Default_45. As we can see, Days_late has a very high correlation with Default_45, which is normal since default is defined based on the overdue days. From this, now there is a rational to drop this feature to avoid overfitting when training the model. "
   ]
  },
  {
   "cell_type": "code",
   "execution_count": 12,
   "metadata": {},
   "outputs": [
    {
     "data": {
      "image/png": "[encoded data removed]",
      "text/plain": [
       "Plot with title \"\""
      ]
     },
     "metadata": {},
     "output_type": "display_data"
    }
   ],
   "source": [
    "#First glance at the most important numeric variables (correlation with the target variable)\n",
    "numericVars <- which(sapply(accepts, is.numeric)) #index vector numeric variables\n",
    "numericVarNames <- names(numericVars)\n",
    "all_numVar <- accepts[, numericVars]\n",
    "M <-cor(all_numVar)\n",
    "corrplot(M, type=\"upper\", order=\"hclust\",\n",
    "         col=brewer.pal(n=8, name=\"RdYlBu\"))"
   ]
  },
  {
   "cell_type": "markdown",
   "metadata": {},
   "source": [
    "The following histograms and scatter plots correspond to numeric variables from accepts and rejects datasets."
   ]
  },
  {
   "cell_type": "code",
   "execution_count": 13,
   "metadata": {},
   "outputs": [
    {
     "data": {
      "image/png": "[encoded data removed]",
      "text/plain": [
       "plot without title"
      ]
     },
     "metadata": {},
     "output_type": "display_data"
    }
   ],
   "source": [
    "# Plotting Has_FICO\n",
    "ggplot(accepts, aes(x=Has_FICO))+\n",
    "  geom_histogram(color=\"darkblue\", fill=\"lightblue\", bins = 30)"
   ]
  },
  {
   "cell_type": "code",
   "execution_count": 14,
   "metadata": {},
   "outputs": [
    {
     "data": {
      "image/png": "[encoded data removed]",
      "text/plain": [
       "plot without title"
      ]
     },
     "metadata": {},
     "output_type": "display_data"
    }
   ],
   "source": [
    "# Plotting Has_FICO\n",
    "ggplot(rejects, aes(x=Has_FICO))+\n",
    "  geom_histogram(color=\"darkblue\", fill=\"orange\", bins = 30)"
   ]
  },
  {
   "cell_type": "code",
   "execution_count": 15,
   "metadata": {},
   "outputs": [
    {
     "data": {
      "image/png": "[encoded data removed]",
      "text/plain": [
       "plot without title"
      ]
     },
     "metadata": {},
     "output_type": "display_data"
    }
   ],
   "source": [
    "# Plotting Days_late\n",
    "ggplot(accepts, aes(x=Days_late))+\n",
    "  geom_histogram(color=\"darkblue\", fill=\"lightblue\", bins = 30)"
   ]
  },
  {
   "cell_type": "code",
   "execution_count": 16,
   "metadata": {},
   "outputs": [
    {
     "data": {
      "image/png": "[encoded data removed]",
      "text/plain": [
       "plot without title"
      ]
     },
     "metadata": {},
     "output_type": "display_data"
    }
   ],
   "source": [
    "# Plotting FICO_Score\n",
    "ggplot(accepts, aes(x=FICO_Score))+\n",
    "  geom_histogram(color=\"darkblue\", fill=\"lightblue\", bins = 30)"
   ]
  },
  {
   "cell_type": "code",
   "execution_count": 17,
   "metadata": {},
   "outputs": [
    {
     "data": {
      "image/png": "[encoded data removed]",
      "text/plain": [
       "plot without title"
      ]
     },
     "metadata": {},
     "output_type": "display_data"
    }
   ],
   "source": [
    "# Plotting FICO_Score\n",
    "ggplot(rejects, aes(x=FICO_Score))+\n",
    "  geom_histogram(color=\"darkblue\", fill=\"orange\", bins = 30)"
   ]
  },
  {
   "cell_type": "code",
   "execution_count": 18,
   "metadata": {},
   "outputs": [
    {
     "data": {
      "image/png": "[encoded data removed]",
      "text/plain": [
       "plot without title"
      ]
     },
     "metadata": {},
     "output_type": "display_data"
    }
   ],
   "source": [
    "# Plotting Loan_amount\n",
    "ggplot(accepts, aes(x=Loan_amount))+\n",
    "  geom_histogram(color=\"darkblue\", fill=\"lightblue\", bins = 100)"
   ]
  },
  {
   "cell_type": "code",
   "execution_count": 19,
   "metadata": {},
   "outputs": [
    {
     "data": {
      "image/png": "[encoded data removed]",
      "text/plain": [
       "plot without title"
      ]
     },
     "metadata": {},
     "output_type": "display_data"
    }
   ],
   "source": [
    "# Plotting Loan_amount\n",
    "ggplot(rejects, aes(x=Loan_amount))+\n",
    "  geom_histogram(color=\"darkblue\", fill=\"orange\", bins = 100)"
   ]
  },
  {
   "cell_type": "code",
   "execution_count": 20,
   "metadata": {},
   "outputs": [
    {
     "data": {
      "image/png": "[encoded data removed]",
      "text/plain": [
       "plot without title"
      ]
     },
     "metadata": {},
     "output_type": "display_data"
    }
   ],
   "source": [
    "# Plotting Monthly_income\n",
    "ggplot(accepts, aes(x=Monthly_income))+\n",
    "  geom_histogram(color=\"darkblue\", fill=\"lightblue\", bins = 100)"
   ]
  },
  {
   "cell_type": "code",
   "execution_count": 21,
   "metadata": {},
   "outputs": [
    {
     "data": {
      "image/png": "[encoded data removed]",
      "text/plain": [
       "plot without title"
      ]
     },
     "metadata": {},
     "output_type": "display_data"
    }
   ],
   "source": [
    "# Plotting Monthly_income\n",
    "ggplot(rejects, aes(x=Monthly_income))+\n",
    "  geom_histogram(color=\"darkblue\", fill=\"orange\", bins = 100)"
   ]
  },
  {
   "cell_type": "code",
   "execution_count": 22,
   "metadata": {},
   "outputs": [
    {
     "data": {
      "image/png": "[encoded data removed]",
      "text/plain": [
       "plot without title"
      ]
     },
     "metadata": {},
     "output_type": "display_data"
    }
   ],
   "source": [
    "# Plotting Age\n",
    "ggplot(accepts, aes(x=Age))+\n",
    "  geom_histogram(color=\"darkblue\", fill=\"lightblue\", bins = 100)"
   ]
  },
  {
   "cell_type": "code",
   "execution_count": 23,
   "metadata": {},
   "outputs": [
    {
     "data": {
      "image/png": "[encoded data removed]",
      "text/plain": [
       "plot without title"
      ]
     },
     "metadata": {},
     "output_type": "display_data"
    }
   ],
   "source": [
    "# Plotting Age\n",
    "ggplot(rejects, aes(x=Age))+\n",
    "  geom_histogram(color=\"darkblue\", fill=\"orange\", bins = 100)"
   ]
  },
  {
   "cell_type": "code",
   "execution_count": 24,
   "metadata": {},
   "outputs": [
    {
     "data": {
      "image/png": "[encoded data removed]",
      "text/plain": [
       "plot without title"
      ]
     },
     "metadata": {},
     "output_type": "display_data"
    }
   ],
   "source": [
    "# Plotting Gearing_coefficient\n",
    "ggplot(accepts, aes(x=Gearing_coefficient))+\n",
    "  geom_histogram(color=\"darkblue\", fill=\"lightblue\", bins = 100)"
   ]
  },
  {
   "cell_type": "code",
   "execution_count": 25,
   "metadata": {},
   "outputs": [
    {
     "data": {
      "image/png": "[encoded data removed]",
      "text/plain": [
       "plot without title"
      ]
     },
     "metadata": {},
     "output_type": "display_data"
    }
   ],
   "source": [
    "# Plotting Gearing_coefficient\n",
    "ggplot(rejects, aes(x=Gearing_coefficient))+\n",
    "  geom_histogram(color=\"darkblue\", fill=\"orange\", bins = 100)"
   ]
  },
  {
   "cell_type": "code",
   "execution_count": 26,
   "metadata": {},
   "outputs": [
    {
     "data": {
      "image/png": "[encoded data removed]",
      "text/plain": [
       "plot without title"
      ]
     },
     "metadata": {},
     "output_type": "display_data"
    }
   ],
   "source": [
    "# Plotting Max_gearing_ratio\n",
    "ggplot(accepts, aes(x=Max_gearing_ratio))+\n",
    "  geom_histogram(color=\"darkblue\", fill=\"lightblue\", bins = 100)"
   ]
  },
  {
   "cell_type": "code",
   "execution_count": 27,
   "metadata": {},
   "outputs": [
    {
     "data": {
      "image/png": "[encoded data removed]",
      "text/plain": [
       "plot without title"
      ]
     },
     "metadata": {},
     "output_type": "display_data"
    }
   ],
   "source": [
    "# Plotting Max_gearing_ratio\n",
    "ggplot(rejects, aes(x=Max_gearing_ratio))+\n",
    "  geom_histogram(color=\"darkblue\", fill=\"orange\", bins = 100)"
   ]
  },
  {
   "cell_type": "code",
   "execution_count": 28,
   "metadata": {},
   "outputs": [
    {
     "data": {
      "image/png": "[encoded data removed]",
      "text/plain": [
       "plot without title"
      ]
     },
     "metadata": {},
     "output_type": "display_data"
    }
   ],
   "source": [
    "# Plotting Default_45\n",
    "ggplot(accepts, aes(x=Default_45))+\n",
    "  geom_histogram(color=\"darkblue\", fill=\"lightblue\", bins = 100)"
   ]
  },
  {
   "cell_type": "markdown",
   "metadata": {},
   "source": [
    "From these scatter plots it is possible to identify the outliers in the variables Monthly_income, FICO_Score and Gearing_coefficient, however, these outliers are totally possible values and we only need to cap them off with the upper and lower limits depending on the direction of the value. That way, we can also avoid overfitting."
   ]
  },
  {
   "cell_type": "code",
   "execution_count": 29,
   "metadata": {},
   "outputs": [
    {
     "data": {
      "image/png": "[encoded data removed]",
      "text/plain": [
       "plot without title"
      ]
     },
     "metadata": {},
     "output_type": "display_data"
    }
   ],
   "source": [
    "# Plotting Monthly_income\n",
    "ggplot(accepts, aes(x=Monthly_income, y=Loan_amount)) + \n",
    "    geom_point(color = 'blue')"
   ]
  },
  {
   "cell_type": "code",
   "execution_count": 30,
   "metadata": {},
   "outputs": [
    {
     "data": {
      "image/png": "[encoded data removed]",
      "text/plain": [
       "plot without title"
      ]
     },
     "metadata": {},
     "output_type": "display_data"
    }
   ],
   "source": [
    "# Plotting Monthly_income\n",
    "ggplot(rejects, aes(x=Monthly_income, y=Loan_amount)) + \n",
    "    geom_point(color = 'orange')"
   ]
  },
  {
   "cell_type": "code",
   "execution_count": 31,
   "metadata": {},
   "outputs": [
    {
     "data": {
      "image/png": "[encoded data removed]",
      "text/plain": [
       "plot without title"
      ]
     },
     "metadata": {},
     "output_type": "display_data"
    }
   ],
   "source": [
    "# Plotting FICO_Score\n",
    "ggplot(accepts, aes(x=FICO_Score, y=Loan_amount)) + \n",
    "    geom_point(color = 'blue')"
   ]
  },
  {
   "cell_type": "code",
   "execution_count": 32,
   "metadata": {},
   "outputs": [
    {
     "data": {
      "image/png": "[encoded data removed]",
      "text/plain": [
       "plot without title"
      ]
     },
     "metadata": {},
     "output_type": "display_data"
    }
   ],
   "source": [
    "# Plotting FICO_Score\n",
    "ggplot(rejects, aes(x=FICO_Score, y=Loan_amount)) + \n",
    "    geom_point(color = 'orange')"
   ]
  },
  {
   "cell_type": "code",
   "execution_count": 33,
   "metadata": {},
   "outputs": [
    {
     "data": {
      "image/png": "[encoded data removed]",
      "text/plain": [
       "plot without title"
      ]
     },
     "metadata": {},
     "output_type": "display_data"
    }
   ],
   "source": [
    "# Plotting Gearing_coefficient\n",
    "ggplot(accepts, aes(x=Gearing_coefficient, y=Loan_amount)) + \n",
    "    geom_point(color = 'blue')"
   ]
  },
  {
   "cell_type": "code",
   "execution_count": 34,
   "metadata": {},
   "outputs": [
    {
     "data": {
      "image/png": "[encoded data removed]",
      "text/plain": [
       "plot without title"
      ]
     },
     "metadata": {},
     "output_type": "display_data"
    }
   ],
   "source": [
    "# Plotting Gearing_coefficient\n",
    "ggplot(rejects, aes(x=Gearing_coefficient, y=Loan_amount)) + \n",
    "    geom_point(color = 'orange')"
   ]
  },
  {
   "cell_type": "markdown",
   "metadata": {},
   "source": [
    "## Data processing "
   ]
  },
  {
   "cell_type": "markdown",
   "metadata": {},
   "source": [
    "### Removing outliers"
   ]
  },
  {
   "cell_type": "markdown",
   "metadata": {},
   "source": [
    "As mentioned above it is necessary to hanle missing values identified. This is done by capping off the values with the upper and lower limits depending on the direction of the value. "
   ]
  },
  {
   "cell_type": "code",
   "execution_count": 35,
   "metadata": {},
   "outputs": [],
   "source": [
    "# Capping off the variables with outliers on accepts dataset\n",
    "accepts$Monthly_income[accepts$Monthly_income > 30 ] <- 21.26570768 # Upper limit in the monthly income\n",
    "accepts$FICO_Score[accepts$FICO_Score < -4 ] <- -3.21201108510482 # Lower limit in the monthly income\n",
    "accepts$Gearing_coefficient[accepts$Gearing_coefficient > 3 ] <- 1.43795224603677 # Upper limit in the monthly income\n",
    "\n",
    "# Capping off the variables with outliers on rejects dataset\n",
    "rejects$Monthly_income[rejects$Monthly_income > 9 ] <- 8.08981639652218 # Upper limit in the monthly income"
   ]
  },
  {
   "cell_type": "markdown",
   "metadata": {},
   "source": [
    "### WOE Binning "
   ]
  },
  {
   "cell_type": "code",
   "execution_count": 36,
   "metadata": {},
   "outputs": [
    {
     "data": {
      "text/html": [
       "<table>\n",
       "<caption>A matrix: 17 × 3</caption>\n",
       "<tbody>\n",
       "\t<tr><td>Days_late</td><td>-920.965438503847   , 702.917388716383    , NA                  , -Inf                , 15                  , Inf                 , 15                  , Inf                 , Missing             , 16.2228240204374    , 16.2228240204374    , 16.2228240204374    , 0                   , 2364                , 0                   , 7630                , 6                   , 0                   , 9.99800039992002e-05, 0.999900019996001   , 0                   , 0.999114425412456   , 0.000885574587544513, 0                   , 9.20057776787277    , 7.02224625256458    , NA                  </td><td>16.22282</td></tr>\n",
       "\t<tr><td>FICO_Score</td><td>107.8222054522      , 1.48456966935542    , -187.464564086661   , NA                  , -Inf                , -0.825844367005543  , 0.292671282103493   , Inf                 , -0.825844367005543  , 0.292671282103493   , Inf                 , Missing             , 0.610070186380573   , 0.610070186380573   , 0.610070186380573   , 0.610070186380573   , 718                 , 1556                , 90                  , 0                   , 789                 , 4952                , 1895                , 0                   , 0.303722504230118   , 0.658206429780034   , 0.0380710659898477  , 0                   , 0.103326348873756   , 0.648507071765322   , 0.248166579360922   , 0                   , 0.216071554346647   , 0.000143993727208603, 0.393854638306717   , NA                  </td><td>0.6100702</td></tr>\n",
       "\t<tr><td>V5</td><td>3.000000e+00, 3.000000e+00, 3.000000e+00, 3.000000e+00, 2.000000e+00, 1.000000e+00, 1.000000e+00, 4.000000e+00, 5.000000e+00, 6.000000e+00, 7.000000e+00, 3.000000e+00, 1.000000e+00, 2.000000e+00, -5.852487e+01, -5.852487e+01, -5.852487e+01, -5.852487e+01, 1.468755e+01, 6.422484e+01, 6.422484e+01, 3.022592e-01, 3.022592e-01, 3.022592e-01, 3.022592e-01, 3.022592e-01, 3.022592e-01, 3.022592e-01, 7.630000e+02, 7.630000e+02, 7.630000e+02, 7.630000e+02, 4.500000e+02, 1.151000e+03, 1.151000e+03, 4.425000e+03, 4.425000e+03, 4.425000e+03, 4.425000e+03, 1.255000e+03, 1.956000e+03, 1.956000e+03, 3.227580e-01, 3.227580e-01, 3.227580e-01, 3.227580e-01, 1.903553e-01, 4.868866e-01, 4.868866e-01, 5.794919e-01, 5.794919e-01, 5.794919e-01, 5.794919e-01, 1.643531e-01, 2.561551e-01, 2.561551e-01, 1.502532e-01, 1.502532e-01, 1.502532e-01, 1.502532e-01, 3.819097e-03, 1.481870e-01, 1.481870e-01</td><td>0.3022592</td></tr>\n",
       "\t<tr><td>Business_channel</td><td>3.00000000, 1.00000000, 2.00000000, 3.00000000, 1.00000000, 2.00000000, -116.67350903, -17.65752711, 76.58875173, 0.25969783, 0.25969783, 0.25969783, 83.00000000, 1424.00000000, 857.00000000, 861.00000000, 5488.00000000, 1287.00000000, 0.03510998, 0.60236887, 0.36252115, 0.11275537, 0.71870089, 0.16854374, 0.09059160, 0.02054136, 0.14856488</td><td>0.2596978</td></tr>\n",
       "\t<tr><td>Age</td><td>33.2694124103606  , -69.2481629144119 , NA                , -Inf              , 0.208659647290484 , Inf               , 0.208659647290484 , Inf               , Missing           , 0.226070072545987 , 0.226070072545987 , 0.226070072545987 , 1842              , 522               , 0                 , 4266              , 3370              , 0                 , 0.779187817258883 , 0.220812182741117 , 0                 , 0.558669460450498 , 0.441330539549502 , 0                 , 0.0733651615671323, 0.152704910978855 , NA                </td><td>0.2260701</td></tr>\n",
       "\t<tr><td>V6</td><td>1.000000e+00, 1.000000e+00, 1.000000e+00, 1.000000e+00, 2.000000e+00, 3.000000e+00, 3.000000e+00, 1.000000e+00, 2.000000e+00, 3.000000e+00, 7.000000e+00, 4.000000e+00, 5.000000e+00, 6.000000e+00, -7.668060e+01, -7.668060e+01, -7.668060e+01, -7.668060e+01, -3.875125e+00, 4.370554e+01, 4.370554e+01, 2.228737e-01, 2.228737e-01, 2.228737e-01, 2.228737e-01, 2.228737e-01, 2.228737e-01, 2.228737e-01, 3.700000e+02, 3.700000e+02, 3.700000e+02, 3.700000e+02, 7.100000e+02, 1.284000e+03, 1.284000e+03, 2.573000e+03, 2.573000e+03, 2.573000e+03, 2.573000e+03, 2.384000e+03, 2.679000e+03, 2.679000e+03, 1.565144e-01, 1.565144e-01, 1.565144e-01, 1.565144e-01, 3.003384e-01, 5.431472e-01, 5.431472e-01, 3.369565e-01, 3.369565e-01, 3.369565e-01, 3.369565e-01, 3.122053e-01, 3.508381e-01, 3.508381e-01, 1.383641e-01, 1.383641e-01, 1.383641e-01, 1.383641e-01, 4.598585e-04, 8.404972e-02, 8.404972e-02</td><td>0.2228737</td></tr>\n",
       "\t<tr><td>V1</td><td>1.000000e+00, 1.000000e+00, 3.000000e+00, 2.000000e+00, 2.000000e+00, 1.000000e+00, 2.000000e+00, 4.000000e+00, 3.000000e+00, 5.000000e+00, -3.323366e+01, -3.323366e+01, 6.275102e+00, 5.647705e+01, 5.647705e+01, 1.681591e-01, 1.681591e-01, 1.681591e-01, 1.681591e-01, 1.681591e-01, 1.142000e+03, 1.142000e+03, 2.080000e+02, 1.014000e+03, 1.014000e+03, 5.143000e+03, 5.143000e+03, 6.310000e+02, 1.862000e+03, 1.862000e+03, 4.830795e-01, 4.830795e-01, 8.798646e-02, 4.289340e-01, 4.289340e-01, 6.735202e-01, 6.735202e-01, 8.263489e-02, 2.438449e-01, 2.438449e-01, 6.329040e-02, 6.329040e-02, 3.358169e-04, 1.045328e-01, 1.045328e-01</td><td>0.1681591</td></tr>\n",
       "\t<tr><td>V4</td><td>3.000000e+00, 1.000000e+00, 2.000000e+00, 2.000000e+00, 2.000000e+00, 2.000000e+00, 5.000000e+00, 1.000000e+00, 2.000000e+00, 3.000000e+00, 4.000000e+00, 6.000000e+00, -8.056610e+01, -1.233686e+01, 2.193875e+01, 2.193875e+01, 2.193875e+01, 2.193875e+01, 1.435948e-01, 1.435948e-01, 1.435948e-01, 1.435948e-01, 1.435948e-01, 1.435948e-01, 2.570000e+02, 2.950000e+02, 1.812000e+03, 1.812000e+03, 1.812000e+03, 1.812000e+03, 1.858000e+03, 1.078000e+03, 4.700000e+03, 4.700000e+03, 4.700000e+03, 4.700000e+03, 1.087140e-01, 1.247885e-01, 7.664975e-01, 7.664975e-01, 7.664975e-01, 7.664975e-01, 2.433211e-01, 1.411734e-01, 6.155055e-01, 6.155055e-01, 6.155055e-01, 6.155055e-01, 1.084477e-01, 2.021381e-03, 3.312575e-02, 3.312575e-02, 3.312575e-02, 3.312575e-02</td><td>0.1435948</td></tr>\n",
       "\t<tr><td>V3</td><td>1.000000e+00, 1.000000e+00, 1.000000e+00, 1.000000e+00, 1.000000e+00, 1.000000e+00, 1.000000e+00, 1.000000e+00, 2.000000e+00, 3.000000e+00, 3.000000e+00, 3.000000e+00, 3.000000e+00, 3.000000e+00, 3.000000e+00, 3.000000e+00, 1.000000e+00, 4.000000e+00, 5.000000e+00, 7.000000e+00, 9.000000e+00, 1.100000e+01, 1.200000e+01, 1.600000e+01, 2.000000e+00, 3.000000e+00, 6.000000e+00, 8.000000e+00, 1.000000e+01, 1.300000e+01, 1.400000e+01, 1.500000e+01, -4.071886e+01, -4.071886e+01, -4.071886e+01, -4.071886e+01, -4.071886e+01, -4.071886e+01, -4.071886e+01, -4.071886e+01, 1.099001e+01, 3.331157e+01, 3.331157e+01, 3.331157e+01, 3.331157e+01, 3.331157e+01, 3.331157e+01, 3.331157e+01, 1.220577e-01, 1.220577e-01, 1.220577e-01, 1.220577e-01, 1.220577e-01, 1.220577e-01, 1.220577e-01, 1.220577e-01, 1.220577e-01, 1.220577e-01, 1.220577e-01, 1.220577e-01, 1.220577e-01, 1.220577e-01, 1.220577e-01, 1.220577e-01, 7.920000e+02, 7.920000e+02, 7.920000e+02, 7.920000e+02, 7.920000e+02, 7.920000e+02, 7.920000e+02, 7.920000e+02, 2.640000e+02, 1.308000e+03, 1.308000e+03, 1.308000e+03, 1.308000e+03, 1.308000e+03, 1.308000e+03, 1.308000e+03, 3.844000e+03, 3.844000e+03, 3.844000e+03, 3.844000e+03, 3.844000e+03, 3.844000e+03, 3.844000e+03, 3.844000e+03, 7.640000e+02, 3.028000e+03, 3.028000e+03, 3.028000e+03, 3.028000e+03, 3.028000e+03, 3.028000e+03, 3.028000e+03, 3.350254e-01, 3.350254e-01, 3.350254e-01, 3.350254e-01, 3.350254e-01, 3.350254e-01, 3.350254e-01, 3.350254e-01, 1.116751e-01, 5.532995e-01, 5.532995e-01, 5.532995e-01, 5.532995e-01, 5.532995e-01, 5.532995e-01, 5.532995e-01, 5.034049e-01, 5.034049e-01, 5.034049e-01, 5.034049e-01, 5.034049e-01, 5.034049e-01, 5.034049e-01, 5.034049e-01, 1.000524e-01, 3.965427e-01, 3.965427e-01, 3.965427e-01, 3.965427e-01, 3.965427e-01, 3.965427e-01, 3.965427e-01, 6.856223e-02, 6.856223e-02, 6.856223e-02, 6.856223e-02, 6.856223e-02, 6.856223e-02, 6.856223e-02, 6.856223e-02, 1.277341e-03, 5.221815e-02, 5.221815e-02, 5.221815e-02, 5.221815e-02, 5.221815e-02, 5.221815e-02, 5.221815e-02</td><td>0.1220577</td></tr>\n",
       "\t<tr><td>V7</td><td>1.000000e+00, 3.000000e+00, 2.000000e+00, 1.000000e+00, 3.000000e+00, 2.000000e+00, -2.765765e+01, 3.555926e+01, 5.616097e+01, 1.017638e-01, 1.017638e-01, 1.017638e-01, 1.161000e+03, 1.127000e+03, 7.600000e+01, 4.945000e+03, 2.551000e+03, 1.400000e+02, 4.911168e-01, 4.767343e-01, 3.214890e-02, 6.475904e-01, 3.340754e-01, 1.833421e-02, 4.327692e-02, 5.072846e-02, 7.758466e-03</td><td>0.1017638</td></tr>\n",
       "\t<tr><td>V8</td><td>2.000000e+00, 2.000000e+00, 3.000000e+00, 1.000000e+00, 1.000000e+00, 2.000000e+00, 3.000000e+00, 4.000000e+00, 1.000000e+00, 5.000000e+00, -2.773312e+01, -2.773312e+01, -7.414658e+00, 3.356180e+01, 3.356180e+01, 8.554205e-02, 8.554205e-02, 8.554205e-02, 8.554205e-02, 8.554205e-02, 1.002000e+03, 1.002000e+03, 1.880000e+02, 1.174000e+03, 1.174000e+03, 4.271000e+03, 4.271000e+03, 6.540000e+02, 2.711000e+03, 2.711000e+03, 4.238579e-01, 4.238579e-01, 7.952623e-02, 4.966159e-01, 4.966159e-01, 5.593243e-01, 5.593243e-01, 8.564694e-02, 3.550288e-01, 3.550288e-01, 3.756905e-02, 3.756905e-02, 4.538296e-04, 4.751917e-02, 4.751917e-02</td><td>0.08554205</td></tr>\n",
       "\t<tr><td>V2</td><td>1.00000000, 1.00000000, 1.00000000, 3.00000000, 2.00000000, 2.00000000, 1.00000000, 2.00000000, 6.00000000, 4.00000000, 3.00000000, 5.00000000, -52.19815447, -52.19815447, -52.19815447, -29.32764039, 18.54734148, 18.54734148, 0.07329481, 0.07329481, 0.07329481, 0.07329481, 0.07329481, 0.07329481, 214.00000000, 214.00000000, 214.00000000, 426.00000000, 1724.00000000, 1724.00000000, 1165.00000000, 1165.00000000, 1165.00000000, 1845.00000000, 4626.00000000, 4626.00000000, 0.09052453, 0.09052453, 0.09052453, 0.18020305, 0.72927242, 0.72927242, 0.15256679, 0.15256679, 0.15256679, 0.24161865, 0.60581456, 0.60581456, 0.03238491, 0.03238491, 0.03238491, 0.01801175, 0.02289815, 0.02289815</td><td>0.07329481</td></tr>\n",
       "\t<tr><td>Loan_amount</td><td>-42.4207070526089  , -14.757491764426   , 8.54995062877216   , -11.4738716438455  , 14.7694392027208   , NA                 , -Inf               , -0.852651103836189 , -0.67640735123923  , -0.323919846045314 , 0.0285676591486023 , Inf                , -0.852651103836189 , -0.67640735123923  , -0.323919846045314 , 0.0285676591486023 , Inf                , Missing            , 0.0322099841520062 , 0.0322099841520062 , 0.0322099841520062 , 0.0322099841520062 , 0.0322099841520062 , 0.0322099841520062 , 190                , 281                , 723                , 289                , 881                , 0                  , 938                , 1052               , 2144               , 1047               , 2455               , 0                  , 0.0803722504230118 , 0.118866328257191  , 0.305837563451777  , 0.122250423011844  , 0.372673434856176  , 0                  , 0.122839182818229  , 0.137768465165008  , 0.280775275013096  , 0.137113672079623  , 0.321503404924044  , 0                  , 0.0180147729856047 , 0.00278948129747157, 0.00214281328794768, 0.00170539012014197, 0.00755752646084027, NA                 </td><td>0.03220998</td></tr>\n",
       "\t<tr><td>Monthly_income</td><td>-54.6481308625977  , -31.8329293488127  , -5.41454092083573  , 10.0651877627015   , NA                 , -Inf               , -0.804614602004096 , -0.687349056879995 , -0.41573928874056  , Inf                , -0.804614602004096 , -0.687349056879995 , -0.41573928874056  , Inf                , Missing            , 0.024195697652894  , 0.024195697652894  , 0.024195697652894  , 0.024195697652894  , 0.024195697652894  , 76                 , 93                 , 793                , 1402               , 0                  , 424                , 413                , 2704               , 4095               , 0                  , 0.0321489001692047 , 0.0393401015228426 , 0.335448392554992  , 0.593062605752961  , 0                  , 0.0555264536406496 , 0.0540859088528025 , 0.354112100576218  , 0.53627553693033   , 0                  , 0.0127753960135489 , 0.00469402242925817, 0.0010105541081546 , 0.00571572510193234, NA                 </td><td>0.0241957</td></tr>\n",
       "\t<tr><td>Gearing_coefficient</td><td>-6.38934744605374  , -24.3928592970929  , -5.43682575291624  , 16.1372543432816   , NA                 , -Inf               , 0.219368512301974  , 0.414129056645614  , 0.897305489060982  , Inf                , 0.219368512301974  , 0.414129056645614  , 0.897305489060982  , Inf                , Missing            , 0.0133202981516731 , 0.0133202981516731 , 0.0133202981516731 , 0.0133202981516731 , 0.0133202981516731 , 1013               , 98                 , 453                , 800                , 0                  , 3488               , 404                , 1545               , 2199               , 0                  , 0.428510998307953  , 0.0414551607445008 , 0.191624365482233  , 0.338409475465313  , 0                  , 0.456783656364589  , 0.0529072812991095 , 0.202331063383971  , 0.287977998952331  , 0                  , 0.00180643835547319, 0.00279349965341914, 0.00058210450880859, 0.0081382556339722 , NA                 </td><td>0.0133203</td></tr>\n",
       "\t<tr><td>Has_FICO</td><td>11.4053585664952   , -9.7538353429116   , NA                 , -Inf               , 0                  , Inf                , 0                  , Inf                , Missing            , 0.0111142973966869 , 0.0111142973966869 , 0.0111142973966869 , 1152               , 1212               , 0                  , 3320               , 4316               , 0                  , 0.487309644670051  , 0.512690355329949  , 0                  , 0.434782608695652  , 0.565217391304348  , 0                  , 0.00599089679723208, 0.00512340059945478, NA                 </td><td>0.0111143</td></tr>\n",
       "\t<tr><td>Max_gearing_ratio</td><td>-3.62401273938729   , 12.1925109919348    , -3.88094307002436   , NA                  , -Inf                , -0.768630652376078  , 0.513979798500615   , Inf                 , -0.768630652376078  , 0.513979798500615   , Inf                 , Missing             , 0.00449654927385851 , 0.00449654927385851 , 0.00449654927385851 , 0.00449654927385851 , 1334                , 583                 , 447                 , 0                   , 4468                , 1667                , 1501                , 0                   , 0.564297800338409   , 0.246615905245347   , 0.189086294416244   , 0                   , 0.585123101100052   , 0.218308014667365   , 0.196568884232583   , 0                   , 0.000754711552617658, 0.0034514426703053  , 0.000290395050935551, NA                  </td><td>0.004496549</td></tr>\n",
       "</tbody>\n",
       "</table>\n"
      ],
      "text/latex": [
       "A matrix: 17 × 3\n",
       "\\begin{tabular}{lll}\n",
       "\t Days\\_late & -920.965438503847   , 702.917388716383    , NA                  , -Inf                , 15                  , Inf                 , 15                  , Inf                 , Missing             , 16.2228240204374    , 16.2228240204374    , 16.2228240204374    , 0                   , 2364                , 0                   , 7630                , 6                   , 0                   , 9.99800039992002e-05, 0.999900019996001   , 0                   , 0.999114425412456   , 0.000885574587544513, 0                   , 9.20057776787277    , 7.02224625256458    , NA                   & 16.22282\\\\\n",
       "\t FICO\\_Score & 107.8222054522      , 1.48456966935542    , -187.464564086661   , NA                  , -Inf                , -0.825844367005543  , 0.292671282103493   , Inf                 , -0.825844367005543  , 0.292671282103493   , Inf                 , Missing             , 0.610070186380573   , 0.610070186380573   , 0.610070186380573   , 0.610070186380573   , 718                 , 1556                , 90                  , 0                   , 789                 , 4952                , 1895                , 0                   , 0.303722504230118   , 0.658206429780034   , 0.0380710659898477  , 0                   , 0.103326348873756   , 0.648507071765322   , 0.248166579360922   , 0                   , 0.216071554346647   , 0.000143993727208603, 0.393854638306717   , NA                   & 0.6100702\\\\\n",
       "\t V5 & 3.000000e+00, 3.000000e+00, 3.000000e+00, 3.000000e+00, 2.000000e+00, 1.000000e+00, 1.000000e+00, 4.000000e+00, 5.000000e+00, 6.000000e+00, 7.000000e+00, 3.000000e+00, 1.000000e+00, 2.000000e+00, -5.852487e+01, -5.852487e+01, -5.852487e+01, -5.852487e+01, 1.468755e+01, 6.422484e+01, 6.422484e+01, 3.022592e-01, 3.022592e-01, 3.022592e-01, 3.022592e-01, 3.022592e-01, 3.022592e-01, 3.022592e-01, 7.630000e+02, 7.630000e+02, 7.630000e+02, 7.630000e+02, 4.500000e+02, 1.151000e+03, 1.151000e+03, 4.425000e+03, 4.425000e+03, 4.425000e+03, 4.425000e+03, 1.255000e+03, 1.956000e+03, 1.956000e+03, 3.227580e-01, 3.227580e-01, 3.227580e-01, 3.227580e-01, 1.903553e-01, 4.868866e-01, 4.868866e-01, 5.794919e-01, 5.794919e-01, 5.794919e-01, 5.794919e-01, 1.643531e-01, 2.561551e-01, 2.561551e-01, 1.502532e-01, 1.502532e-01, 1.502532e-01, 1.502532e-01, 3.819097e-03, 1.481870e-01, 1.481870e-01 & 0.3022592\\\\\n",
       "\t Business\\_channel & 3.00000000, 1.00000000, 2.00000000, 3.00000000, 1.00000000, 2.00000000, -116.67350903, -17.65752711, 76.58875173, 0.25969783, 0.25969783, 0.25969783, 83.00000000, 1424.00000000, 857.00000000, 861.00000000, 5488.00000000, 1287.00000000, 0.03510998, 0.60236887, 0.36252115, 0.11275537, 0.71870089, 0.16854374, 0.09059160, 0.02054136, 0.14856488 & 0.2596978\\\\\n",
       "\t Age & 33.2694124103606  , -69.2481629144119 , NA                , -Inf              , 0.208659647290484 , Inf               , 0.208659647290484 , Inf               , Missing           , 0.226070072545987 , 0.226070072545987 , 0.226070072545987 , 1842              , 522               , 0                 , 4266              , 3370              , 0                 , 0.779187817258883 , 0.220812182741117 , 0                 , 0.558669460450498 , 0.441330539549502 , 0                 , 0.0733651615671323, 0.152704910978855 , NA                 & 0.2260701\\\\\n",
       "\t V6 & 1.000000e+00, 1.000000e+00, 1.000000e+00, 1.000000e+00, 2.000000e+00, 3.000000e+00, 3.000000e+00, 1.000000e+00, 2.000000e+00, 3.000000e+00, 7.000000e+00, 4.000000e+00, 5.000000e+00, 6.000000e+00, -7.668060e+01, -7.668060e+01, -7.668060e+01, -7.668060e+01, -3.875125e+00, 4.370554e+01, 4.370554e+01, 2.228737e-01, 2.228737e-01, 2.228737e-01, 2.228737e-01, 2.228737e-01, 2.228737e-01, 2.228737e-01, 3.700000e+02, 3.700000e+02, 3.700000e+02, 3.700000e+02, 7.100000e+02, 1.284000e+03, 1.284000e+03, 2.573000e+03, 2.573000e+03, 2.573000e+03, 2.573000e+03, 2.384000e+03, 2.679000e+03, 2.679000e+03, 1.565144e-01, 1.565144e-01, 1.565144e-01, 1.565144e-01, 3.003384e-01, 5.431472e-01, 5.431472e-01, 3.369565e-01, 3.369565e-01, 3.369565e-01, 3.369565e-01, 3.122053e-01, 3.508381e-01, 3.508381e-01, 1.383641e-01, 1.383641e-01, 1.383641e-01, 1.383641e-01, 4.598585e-04, 8.404972e-02, 8.404972e-02 & 0.2228737\\\\\n",
       "\t V1 & 1.000000e+00, 1.000000e+00, 3.000000e+00, 2.000000e+00, 2.000000e+00, 1.000000e+00, 2.000000e+00, 4.000000e+00, 3.000000e+00, 5.000000e+00, -3.323366e+01, -3.323366e+01, 6.275102e+00, 5.647705e+01, 5.647705e+01, 1.681591e-01, 1.681591e-01, 1.681591e-01, 1.681591e-01, 1.681591e-01, 1.142000e+03, 1.142000e+03, 2.080000e+02, 1.014000e+03, 1.014000e+03, 5.143000e+03, 5.143000e+03, 6.310000e+02, 1.862000e+03, 1.862000e+03, 4.830795e-01, 4.830795e-01, 8.798646e-02, 4.289340e-01, 4.289340e-01, 6.735202e-01, 6.735202e-01, 8.263489e-02, 2.438449e-01, 2.438449e-01, 6.329040e-02, 6.329040e-02, 3.358169e-04, 1.045328e-01, 1.045328e-01 & 0.1681591\\\\\n",
       "\t V4 & 3.000000e+00, 1.000000e+00, 2.000000e+00, 2.000000e+00, 2.000000e+00, 2.000000e+00, 5.000000e+00, 1.000000e+00, 2.000000e+00, 3.000000e+00, 4.000000e+00, 6.000000e+00, -8.056610e+01, -1.233686e+01, 2.193875e+01, 2.193875e+01, 2.193875e+01, 2.193875e+01, 1.435948e-01, 1.435948e-01, 1.435948e-01, 1.435948e-01, 1.435948e-01, 1.435948e-01, 2.570000e+02, 2.950000e+02, 1.812000e+03, 1.812000e+03, 1.812000e+03, 1.812000e+03, 1.858000e+03, 1.078000e+03, 4.700000e+03, 4.700000e+03, 4.700000e+03, 4.700000e+03, 1.087140e-01, 1.247885e-01, 7.664975e-01, 7.664975e-01, 7.664975e-01, 7.664975e-01, 2.433211e-01, 1.411734e-01, 6.155055e-01, 6.155055e-01, 6.155055e-01, 6.155055e-01, 1.084477e-01, 2.021381e-03, 3.312575e-02, 3.312575e-02, 3.312575e-02, 3.312575e-02 & 0.1435948\\\\\n",
       "\t V3 & 1.000000e+00, 1.000000e+00, 1.000000e+00, 1.000000e+00, 1.000000e+00, 1.000000e+00, 1.000000e+00, 1.000000e+00, 2.000000e+00, 3.000000e+00, 3.000000e+00, 3.000000e+00, 3.000000e+00, 3.000000e+00, 3.000000e+00, 3.000000e+00, 1.000000e+00, 4.000000e+00, 5.000000e+00, 7.000000e+00, 9.000000e+00, 1.100000e+01, 1.200000e+01, 1.600000e+01, 2.000000e+00, 3.000000e+00, 6.000000e+00, 8.000000e+00, 1.000000e+01, 1.300000e+01, 1.400000e+01, 1.500000e+01, -4.071886e+01, -4.071886e+01, -4.071886e+01, -4.071886e+01, -4.071886e+01, -4.071886e+01, -4.071886e+01, -4.071886e+01, 1.099001e+01, 3.331157e+01, 3.331157e+01, 3.331157e+01, 3.331157e+01, 3.331157e+01, 3.331157e+01, 3.331157e+01, 1.220577e-01, 1.220577e-01, 1.220577e-01, 1.220577e-01, 1.220577e-01, 1.220577e-01, 1.220577e-01, 1.220577e-01, 1.220577e-01, 1.220577e-01, 1.220577e-01, 1.220577e-01, 1.220577e-01, 1.220577e-01, 1.220577e-01, 1.220577e-01, 7.920000e+02, 7.920000e+02, 7.920000e+02, 7.920000e+02, 7.920000e+02, 7.920000e+02, 7.920000e+02, 7.920000e+02, 2.640000e+02, 1.308000e+03, 1.308000e+03, 1.308000e+03, 1.308000e+03, 1.308000e+03, 1.308000e+03, 1.308000e+03, 3.844000e+03, 3.844000e+03, 3.844000e+03, 3.844000e+03, 3.844000e+03, 3.844000e+03, 3.844000e+03, 3.844000e+03, 7.640000e+02, 3.028000e+03, 3.028000e+03, 3.028000e+03, 3.028000e+03, 3.028000e+03, 3.028000e+03, 3.028000e+03, 3.350254e-01, 3.350254e-01, 3.350254e-01, 3.350254e-01, 3.350254e-01, 3.350254e-01, 3.350254e-01, 3.350254e-01, 1.116751e-01, 5.532995e-01, 5.532995e-01, 5.532995e-01, 5.532995e-01, 5.532995e-01, 5.532995e-01, 5.532995e-01, 5.034049e-01, 5.034049e-01, 5.034049e-01, 5.034049e-01, 5.034049e-01, 5.034049e-01, 5.034049e-01, 5.034049e-01, 1.000524e-01, 3.965427e-01, 3.965427e-01, 3.965427e-01, 3.965427e-01, 3.965427e-01, 3.965427e-01, 3.965427e-01, 6.856223e-02, 6.856223e-02, 6.856223e-02, 6.856223e-02, 6.856223e-02, 6.856223e-02, 6.856223e-02, 6.856223e-02, 1.277341e-03, 5.221815e-02, 5.221815e-02, 5.221815e-02, 5.221815e-02, 5.221815e-02, 5.221815e-02, 5.221815e-02 & 0.1220577\\\\\n",
       "\t V7 & 1.000000e+00, 3.000000e+00, 2.000000e+00, 1.000000e+00, 3.000000e+00, 2.000000e+00, -2.765765e+01, 3.555926e+01, 5.616097e+01, 1.017638e-01, 1.017638e-01, 1.017638e-01, 1.161000e+03, 1.127000e+03, 7.600000e+01, 4.945000e+03, 2.551000e+03, 1.400000e+02, 4.911168e-01, 4.767343e-01, 3.214890e-02, 6.475904e-01, 3.340754e-01, 1.833421e-02, 4.327692e-02, 5.072846e-02, 7.758466e-03 & 0.1017638\\\\\n",
       "\t V8 & 2.000000e+00, 2.000000e+00, 3.000000e+00, 1.000000e+00, 1.000000e+00, 2.000000e+00, 3.000000e+00, 4.000000e+00, 1.000000e+00, 5.000000e+00, -2.773312e+01, -2.773312e+01, -7.414658e+00, 3.356180e+01, 3.356180e+01, 8.554205e-02, 8.554205e-02, 8.554205e-02, 8.554205e-02, 8.554205e-02, 1.002000e+03, 1.002000e+03, 1.880000e+02, 1.174000e+03, 1.174000e+03, 4.271000e+03, 4.271000e+03, 6.540000e+02, 2.711000e+03, 2.711000e+03, 4.238579e-01, 4.238579e-01, 7.952623e-02, 4.966159e-01, 4.966159e-01, 5.593243e-01, 5.593243e-01, 8.564694e-02, 3.550288e-01, 3.550288e-01, 3.756905e-02, 3.756905e-02, 4.538296e-04, 4.751917e-02, 4.751917e-02 & 0.08554205\\\\\n",
       "\t V2 & 1.00000000, 1.00000000, 1.00000000, 3.00000000, 2.00000000, 2.00000000, 1.00000000, 2.00000000, 6.00000000, 4.00000000, 3.00000000, 5.00000000, -52.19815447, -52.19815447, -52.19815447, -29.32764039, 18.54734148, 18.54734148, 0.07329481, 0.07329481, 0.07329481, 0.07329481, 0.07329481, 0.07329481, 214.00000000, 214.00000000, 214.00000000, 426.00000000, 1724.00000000, 1724.00000000, 1165.00000000, 1165.00000000, 1165.00000000, 1845.00000000, 4626.00000000, 4626.00000000, 0.09052453, 0.09052453, 0.09052453, 0.18020305, 0.72927242, 0.72927242, 0.15256679, 0.15256679, 0.15256679, 0.24161865, 0.60581456, 0.60581456, 0.03238491, 0.03238491, 0.03238491, 0.01801175, 0.02289815, 0.02289815 & 0.07329481\\\\\n",
       "\t Loan\\_amount & -42.4207070526089  , -14.757491764426   , 8.54995062877216   , -11.4738716438455  , 14.7694392027208   , NA                 , -Inf               , -0.852651103836189 , -0.67640735123923  , -0.323919846045314 , 0.0285676591486023 , Inf                , -0.852651103836189 , -0.67640735123923  , -0.323919846045314 , 0.0285676591486023 , Inf                , Missing            , 0.0322099841520062 , 0.0322099841520062 , 0.0322099841520062 , 0.0322099841520062 , 0.0322099841520062 , 0.0322099841520062 , 190                , 281                , 723                , 289                , 881                , 0                  , 938                , 1052               , 2144               , 1047               , 2455               , 0                  , 0.0803722504230118 , 0.118866328257191  , 0.305837563451777  , 0.122250423011844  , 0.372673434856176  , 0                  , 0.122839182818229  , 0.137768465165008  , 0.280775275013096  , 0.137113672079623  , 0.321503404924044  , 0                  , 0.0180147729856047 , 0.00278948129747157, 0.00214281328794768, 0.00170539012014197, 0.00755752646084027, NA                  & 0.03220998\\\\\n",
       "\t Monthly\\_income & -54.6481308625977  , -31.8329293488127  , -5.41454092083573  , 10.0651877627015   , NA                 , -Inf               , -0.804614602004096 , -0.687349056879995 , -0.41573928874056  , Inf                , -0.804614602004096 , -0.687349056879995 , -0.41573928874056  , Inf                , Missing            , 0.024195697652894  , 0.024195697652894  , 0.024195697652894  , 0.024195697652894  , 0.024195697652894  , 76                 , 93                 , 793                , 1402               , 0                  , 424                , 413                , 2704               , 4095               , 0                  , 0.0321489001692047 , 0.0393401015228426 , 0.335448392554992  , 0.593062605752961  , 0                  , 0.0555264536406496 , 0.0540859088528025 , 0.354112100576218  , 0.53627553693033   , 0                  , 0.0127753960135489 , 0.00469402242925817, 0.0010105541081546 , 0.00571572510193234, NA                  & 0.0241957\\\\\n",
       "\t Gearing\\_coefficient & -6.38934744605374  , -24.3928592970929  , -5.43682575291624  , 16.1372543432816   , NA                 , -Inf               , 0.219368512301974  , 0.414129056645614  , 0.897305489060982  , Inf                , 0.219368512301974  , 0.414129056645614  , 0.897305489060982  , Inf                , Missing            , 0.0133202981516731 , 0.0133202981516731 , 0.0133202981516731 , 0.0133202981516731 , 0.0133202981516731 , 1013               , 98                 , 453                , 800                , 0                  , 3488               , 404                , 1545               , 2199               , 0                  , 0.428510998307953  , 0.0414551607445008 , 0.191624365482233  , 0.338409475465313  , 0                  , 0.456783656364589  , 0.0529072812991095 , 0.202331063383971  , 0.287977998952331  , 0                  , 0.00180643835547319, 0.00279349965341914, 0.00058210450880859, 0.0081382556339722 , NA                  & 0.0133203\\\\\n",
       "\t Has\\_FICO & 11.4053585664952   , -9.7538353429116   , NA                 , -Inf               , 0                  , Inf                , 0                  , Inf                , Missing            , 0.0111142973966869 , 0.0111142973966869 , 0.0111142973966869 , 1152               , 1212               , 0                  , 3320               , 4316               , 0                  , 0.487309644670051  , 0.512690355329949  , 0                  , 0.434782608695652  , 0.565217391304348  , 0                  , 0.00599089679723208, 0.00512340059945478, NA                  & 0.0111143\\\\\n",
       "\t Max\\_gearing\\_ratio & -3.62401273938729   , 12.1925109919348    , -3.88094307002436   , NA                  , -Inf                , -0.768630652376078  , 0.513979798500615   , Inf                 , -0.768630652376078  , 0.513979798500615   , Inf                 , Missing             , 0.00449654927385851 , 0.00449654927385851 , 0.00449654927385851 , 0.00449654927385851 , 1334                , 583                 , 447                 , 0                   , 4468                , 1667                , 1501                , 0                   , 0.564297800338409   , 0.246615905245347   , 0.189086294416244   , 0                   , 0.585123101100052   , 0.218308014667365   , 0.196568884232583   , 0                   , 0.000754711552617658, 0.0034514426703053  , 0.000290395050935551, NA                   & 0.004496549\\\\\n",
       "\\end{tabular}\n"
      ],
      "text/markdown": [
       "\n",
       "A matrix: 17 × 3\n",
       "\n",
       "| Days_late | -920.965438503847   , 702.917388716383    , NA                  , -Inf                , 15                  , Inf                 , 15                  , Inf                 , Missing             , 16.2228240204374    , 16.2228240204374    , 16.2228240204374    , 0                   , 2364                , 0                   , 7630                , 6                   , 0                   , 9.99800039992002e-05, 0.999900019996001   , 0                   , 0.999114425412456   , 0.000885574587544513, 0                   , 9.20057776787277    , 7.02224625256458    , NA                   | 16.22282 |\n",
       "| FICO_Score | 107.8222054522      , 1.48456966935542    , -187.464564086661   , NA                  , -Inf                , -0.825844367005543  , 0.292671282103493   , Inf                 , -0.825844367005543  , 0.292671282103493   , Inf                 , Missing             , 0.610070186380573   , 0.610070186380573   , 0.610070186380573   , 0.610070186380573   , 718                 , 1556                , 90                  , 0                   , 789                 , 4952                , 1895                , 0                   , 0.303722504230118   , 0.658206429780034   , 0.0380710659898477  , 0                   , 0.103326348873756   , 0.648507071765322   , 0.248166579360922   , 0                   , 0.216071554346647   , 0.000143993727208603, 0.393854638306717   , NA                   | 0.6100702 |\n",
       "| V5 | 3.000000e+00, 3.000000e+00, 3.000000e+00, 3.000000e+00, 2.000000e+00, 1.000000e+00, 1.000000e+00, 4.000000e+00, 5.000000e+00, 6.000000e+00, 7.000000e+00, 3.000000e+00, 1.000000e+00, 2.000000e+00, -5.852487e+01, -5.852487e+01, -5.852487e+01, -5.852487e+01, 1.468755e+01, 6.422484e+01, 6.422484e+01, 3.022592e-01, 3.022592e-01, 3.022592e-01, 3.022592e-01, 3.022592e-01, 3.022592e-01, 3.022592e-01, 7.630000e+02, 7.630000e+02, 7.630000e+02, 7.630000e+02, 4.500000e+02, 1.151000e+03, 1.151000e+03, 4.425000e+03, 4.425000e+03, 4.425000e+03, 4.425000e+03, 1.255000e+03, 1.956000e+03, 1.956000e+03, 3.227580e-01, 3.227580e-01, 3.227580e-01, 3.227580e-01, 1.903553e-01, 4.868866e-01, 4.868866e-01, 5.794919e-01, 5.794919e-01, 5.794919e-01, 5.794919e-01, 1.643531e-01, 2.561551e-01, 2.561551e-01, 1.502532e-01, 1.502532e-01, 1.502532e-01, 1.502532e-01, 3.819097e-03, 1.481870e-01, 1.481870e-01 | 0.3022592 |\n",
       "| Business_channel | 3.00000000, 1.00000000, 2.00000000, 3.00000000, 1.00000000, 2.00000000, -116.67350903, -17.65752711, 76.58875173, 0.25969783, 0.25969783, 0.25969783, 83.00000000, 1424.00000000, 857.00000000, 861.00000000, 5488.00000000, 1287.00000000, 0.03510998, 0.60236887, 0.36252115, 0.11275537, 0.71870089, 0.16854374, 0.09059160, 0.02054136, 0.14856488 | 0.2596978 |\n",
       "| Age | 33.2694124103606  , -69.2481629144119 , NA                , -Inf              , 0.208659647290484 , Inf               , 0.208659647290484 , Inf               , Missing           , 0.226070072545987 , 0.226070072545987 , 0.226070072545987 , 1842              , 522               , 0                 , 4266              , 3370              , 0                 , 0.779187817258883 , 0.220812182741117 , 0                 , 0.558669460450498 , 0.441330539549502 , 0                 , 0.0733651615671323, 0.152704910978855 , NA                 | 0.2260701 |\n",
       "| V6 | 1.000000e+00, 1.000000e+00, 1.000000e+00, 1.000000e+00, 2.000000e+00, 3.000000e+00, 3.000000e+00, 1.000000e+00, 2.000000e+00, 3.000000e+00, 7.000000e+00, 4.000000e+00, 5.000000e+00, 6.000000e+00, -7.668060e+01, -7.668060e+01, -7.668060e+01, -7.668060e+01, -3.875125e+00, 4.370554e+01, 4.370554e+01, 2.228737e-01, 2.228737e-01, 2.228737e-01, 2.228737e-01, 2.228737e-01, 2.228737e-01, 2.228737e-01, 3.700000e+02, 3.700000e+02, 3.700000e+02, 3.700000e+02, 7.100000e+02, 1.284000e+03, 1.284000e+03, 2.573000e+03, 2.573000e+03, 2.573000e+03, 2.573000e+03, 2.384000e+03, 2.679000e+03, 2.679000e+03, 1.565144e-01, 1.565144e-01, 1.565144e-01, 1.565144e-01, 3.003384e-01, 5.431472e-01, 5.431472e-01, 3.369565e-01, 3.369565e-01, 3.369565e-01, 3.369565e-01, 3.122053e-01, 3.508381e-01, 3.508381e-01, 1.383641e-01, 1.383641e-01, 1.383641e-01, 1.383641e-01, 4.598585e-04, 8.404972e-02, 8.404972e-02 | 0.2228737 |\n",
       "| V1 | 1.000000e+00, 1.000000e+00, 3.000000e+00, 2.000000e+00, 2.000000e+00, 1.000000e+00, 2.000000e+00, 4.000000e+00, 3.000000e+00, 5.000000e+00, -3.323366e+01, -3.323366e+01, 6.275102e+00, 5.647705e+01, 5.647705e+01, 1.681591e-01, 1.681591e-01, 1.681591e-01, 1.681591e-01, 1.681591e-01, 1.142000e+03, 1.142000e+03, 2.080000e+02, 1.014000e+03, 1.014000e+03, 5.143000e+03, 5.143000e+03, 6.310000e+02, 1.862000e+03, 1.862000e+03, 4.830795e-01, 4.830795e-01, 8.798646e-02, 4.289340e-01, 4.289340e-01, 6.735202e-01, 6.735202e-01, 8.263489e-02, 2.438449e-01, 2.438449e-01, 6.329040e-02, 6.329040e-02, 3.358169e-04, 1.045328e-01, 1.045328e-01 | 0.1681591 |\n",
       "| V4 | 3.000000e+00, 1.000000e+00, 2.000000e+00, 2.000000e+00, 2.000000e+00, 2.000000e+00, 5.000000e+00, 1.000000e+00, 2.000000e+00, 3.000000e+00, 4.000000e+00, 6.000000e+00, -8.056610e+01, -1.233686e+01, 2.193875e+01, 2.193875e+01, 2.193875e+01, 2.193875e+01, 1.435948e-01, 1.435948e-01, 1.435948e-01, 1.435948e-01, 1.435948e-01, 1.435948e-01, 2.570000e+02, 2.950000e+02, 1.812000e+03, 1.812000e+03, 1.812000e+03, 1.812000e+03, 1.858000e+03, 1.078000e+03, 4.700000e+03, 4.700000e+03, 4.700000e+03, 4.700000e+03, 1.087140e-01, 1.247885e-01, 7.664975e-01, 7.664975e-01, 7.664975e-01, 7.664975e-01, 2.433211e-01, 1.411734e-01, 6.155055e-01, 6.155055e-01, 6.155055e-01, 6.155055e-01, 1.084477e-01, 2.021381e-03, 3.312575e-02, 3.312575e-02, 3.312575e-02, 3.312575e-02 | 0.1435948 |\n",
       "| V3 | 1.000000e+00, 1.000000e+00, 1.000000e+00, 1.000000e+00, 1.000000e+00, 1.000000e+00, 1.000000e+00, 1.000000e+00, 2.000000e+00, 3.000000e+00, 3.000000e+00, 3.000000e+00, 3.000000e+00, 3.000000e+00, 3.000000e+00, 3.000000e+00, 1.000000e+00, 4.000000e+00, 5.000000e+00, 7.000000e+00, 9.000000e+00, 1.100000e+01, 1.200000e+01, 1.600000e+01, 2.000000e+00, 3.000000e+00, 6.000000e+00, 8.000000e+00, 1.000000e+01, 1.300000e+01, 1.400000e+01, 1.500000e+01, -4.071886e+01, -4.071886e+01, -4.071886e+01, -4.071886e+01, -4.071886e+01, -4.071886e+01, -4.071886e+01, -4.071886e+01, 1.099001e+01, 3.331157e+01, 3.331157e+01, 3.331157e+01, 3.331157e+01, 3.331157e+01, 3.331157e+01, 3.331157e+01, 1.220577e-01, 1.220577e-01, 1.220577e-01, 1.220577e-01, 1.220577e-01, 1.220577e-01, 1.220577e-01, 1.220577e-01, 1.220577e-01, 1.220577e-01, 1.220577e-01, 1.220577e-01, 1.220577e-01, 1.220577e-01, 1.220577e-01, 1.220577e-01, 7.920000e+02, 7.920000e+02, 7.920000e+02, 7.920000e+02, 7.920000e+02, 7.920000e+02, 7.920000e+02, 7.920000e+02, 2.640000e+02, 1.308000e+03, 1.308000e+03, 1.308000e+03, 1.308000e+03, 1.308000e+03, 1.308000e+03, 1.308000e+03, 3.844000e+03, 3.844000e+03, 3.844000e+03, 3.844000e+03, 3.844000e+03, 3.844000e+03, 3.844000e+03, 3.844000e+03, 7.640000e+02, 3.028000e+03, 3.028000e+03, 3.028000e+03, 3.028000e+03, 3.028000e+03, 3.028000e+03, 3.028000e+03, 3.350254e-01, 3.350254e-01, 3.350254e-01, 3.350254e-01, 3.350254e-01, 3.350254e-01, 3.350254e-01, 3.350254e-01, 1.116751e-01, 5.532995e-01, 5.532995e-01, 5.532995e-01, 5.532995e-01, 5.532995e-01, 5.532995e-01, 5.532995e-01, 5.034049e-01, 5.034049e-01, 5.034049e-01, 5.034049e-01, 5.034049e-01, 5.034049e-01, 5.034049e-01, 5.034049e-01, 1.000524e-01, 3.965427e-01, 3.965427e-01, 3.965427e-01, 3.965427e-01, 3.965427e-01, 3.965427e-01, 3.965427e-01, 6.856223e-02, 6.856223e-02, 6.856223e-02, 6.856223e-02, 6.856223e-02, 6.856223e-02, 6.856223e-02, 6.856223e-02, 1.277341e-03, 5.221815e-02, 5.221815e-02, 5.221815e-02, 5.221815e-02, 5.221815e-02, 5.221815e-02, 5.221815e-02 | 0.1220577 |\n",
       "| V7 | 1.000000e+00, 3.000000e+00, 2.000000e+00, 1.000000e+00, 3.000000e+00, 2.000000e+00, -2.765765e+01, 3.555926e+01, 5.616097e+01, 1.017638e-01, 1.017638e-01, 1.017638e-01, 1.161000e+03, 1.127000e+03, 7.600000e+01, 4.945000e+03, 2.551000e+03, 1.400000e+02, 4.911168e-01, 4.767343e-01, 3.214890e-02, 6.475904e-01, 3.340754e-01, 1.833421e-02, 4.327692e-02, 5.072846e-02, 7.758466e-03 | 0.1017638 |\n",
       "| V8 | 2.000000e+00, 2.000000e+00, 3.000000e+00, 1.000000e+00, 1.000000e+00, 2.000000e+00, 3.000000e+00, 4.000000e+00, 1.000000e+00, 5.000000e+00, -2.773312e+01, -2.773312e+01, -7.414658e+00, 3.356180e+01, 3.356180e+01, 8.554205e-02, 8.554205e-02, 8.554205e-02, 8.554205e-02, 8.554205e-02, 1.002000e+03, 1.002000e+03, 1.880000e+02, 1.174000e+03, 1.174000e+03, 4.271000e+03, 4.271000e+03, 6.540000e+02, 2.711000e+03, 2.711000e+03, 4.238579e-01, 4.238579e-01, 7.952623e-02, 4.966159e-01, 4.966159e-01, 5.593243e-01, 5.593243e-01, 8.564694e-02, 3.550288e-01, 3.550288e-01, 3.756905e-02, 3.756905e-02, 4.538296e-04, 4.751917e-02, 4.751917e-02 | 0.08554205 |\n",
       "| V2 | 1.00000000, 1.00000000, 1.00000000, 3.00000000, 2.00000000, 2.00000000, 1.00000000, 2.00000000, 6.00000000, 4.00000000, 3.00000000, 5.00000000, -52.19815447, -52.19815447, -52.19815447, -29.32764039, 18.54734148, 18.54734148, 0.07329481, 0.07329481, 0.07329481, 0.07329481, 0.07329481, 0.07329481, 214.00000000, 214.00000000, 214.00000000, 426.00000000, 1724.00000000, 1724.00000000, 1165.00000000, 1165.00000000, 1165.00000000, 1845.00000000, 4626.00000000, 4626.00000000, 0.09052453, 0.09052453, 0.09052453, 0.18020305, 0.72927242, 0.72927242, 0.15256679, 0.15256679, 0.15256679, 0.24161865, 0.60581456, 0.60581456, 0.03238491, 0.03238491, 0.03238491, 0.01801175, 0.02289815, 0.02289815 | 0.07329481 |\n",
       "| Loan_amount | -42.4207070526089  , -14.757491764426   , 8.54995062877216   , -11.4738716438455  , 14.7694392027208   , NA                 , -Inf               , -0.852651103836189 , -0.67640735123923  , -0.323919846045314 , 0.0285676591486023 , Inf                , -0.852651103836189 , -0.67640735123923  , -0.323919846045314 , 0.0285676591486023 , Inf                , Missing            , 0.0322099841520062 , 0.0322099841520062 , 0.0322099841520062 , 0.0322099841520062 , 0.0322099841520062 , 0.0322099841520062 , 190                , 281                , 723                , 289                , 881                , 0                  , 938                , 1052               , 2144               , 1047               , 2455               , 0                  , 0.0803722504230118 , 0.118866328257191  , 0.305837563451777  , 0.122250423011844  , 0.372673434856176  , 0                  , 0.122839182818229  , 0.137768465165008  , 0.280775275013096  , 0.137113672079623  , 0.321503404924044  , 0                  , 0.0180147729856047 , 0.00278948129747157, 0.00214281328794768, 0.00170539012014197, 0.00755752646084027, NA                  | 0.03220998 |\n",
       "| Monthly_income | -54.6481308625977  , -31.8329293488127  , -5.41454092083573  , 10.0651877627015   , NA                 , -Inf               , -0.804614602004096 , -0.687349056879995 , -0.41573928874056  , Inf                , -0.804614602004096 , -0.687349056879995 , -0.41573928874056  , Inf                , Missing            , 0.024195697652894  , 0.024195697652894  , 0.024195697652894  , 0.024195697652894  , 0.024195697652894  , 76                 , 93                 , 793                , 1402               , 0                  , 424                , 413                , 2704               , 4095               , 0                  , 0.0321489001692047 , 0.0393401015228426 , 0.335448392554992  , 0.593062605752961  , 0                  , 0.0555264536406496 , 0.0540859088528025 , 0.354112100576218  , 0.53627553693033   , 0                  , 0.0127753960135489 , 0.00469402242925817, 0.0010105541081546 , 0.00571572510193234, NA                  | 0.0241957 |\n",
       "| Gearing_coefficient | -6.38934744605374  , -24.3928592970929  , -5.43682575291624  , 16.1372543432816   , NA                 , -Inf               , 0.219368512301974  , 0.414129056645614  , 0.897305489060982  , Inf                , 0.219368512301974  , 0.414129056645614  , 0.897305489060982  , Inf                , Missing            , 0.0133202981516731 , 0.0133202981516731 , 0.0133202981516731 , 0.0133202981516731 , 0.0133202981516731 , 1013               , 98                 , 453                , 800                , 0                  , 3488               , 404                , 1545               , 2199               , 0                  , 0.428510998307953  , 0.0414551607445008 , 0.191624365482233  , 0.338409475465313  , 0                  , 0.456783656364589  , 0.0529072812991095 , 0.202331063383971  , 0.287977998952331  , 0                  , 0.00180643835547319, 0.00279349965341914, 0.00058210450880859, 0.0081382556339722 , NA                  | 0.0133203 |\n",
       "| Has_FICO | 11.4053585664952   , -9.7538353429116   , NA                 , -Inf               , 0                  , Inf                , 0                  , Inf                , Missing            , 0.0111142973966869 , 0.0111142973966869 , 0.0111142973966869 , 1152               , 1212               , 0                  , 3320               , 4316               , 0                  , 0.487309644670051  , 0.512690355329949  , 0                  , 0.434782608695652  , 0.565217391304348  , 0                  , 0.00599089679723208, 0.00512340059945478, NA                  | 0.0111143 |\n",
       "| Max_gearing_ratio | -3.62401273938729   , 12.1925109919348    , -3.88094307002436   , NA                  , -Inf                , -0.768630652376078  , 0.513979798500615   , Inf                 , -0.768630652376078  , 0.513979798500615   , Inf                 , Missing             , 0.00449654927385851 , 0.00449654927385851 , 0.00449654927385851 , 0.00449654927385851 , 1334                , 583                 , 447                 , 0                   , 4468                , 1667                , 1501                , 0                   , 0.564297800338409   , 0.246615905245347   , 0.189086294416244   , 0                   , 0.585123101100052   , 0.218308014667365   , 0.196568884232583   , 0                   , 0.000754711552617658, 0.0034514426703053  , 0.000290395050935551, NA                   | 0.004496549 |\n",
       "\n"
      ],
      "text/plain": [
       "      [,1]               \n",
       " [1,] Days_late          \n",
       " [2,] FICO_Score         \n",
       " [3,] V5                 \n",
       " [4,] Business_channel   \n",
       " [5,] Age                \n",
       " [6,] V6                 \n",
       " [7,] V1                 \n",
       " [8,] V4                 \n",
       " [9,] V3                 \n",
       "[10,] V7                 \n",
       "[11,] V8                 \n",
       "[12,] V2                 \n",
       "[13,] Loan_amount        \n",
       "[14,] Monthly_income     \n",
       "[15,] Gearing_coefficient\n",
       "[16,] Has_FICO           \n",
       "[17,] Max_gearing_ratio  \n",
       "      [,2]                                                                                                                                                                                                                                                                                                                                                                                                                                                                                                                                                                                                                                                                                                                                                                                                                                                                                                                                                                                                                                                                                                                                                                                                                                                                                                                                                                                                                                                                                                                                                                                                                                                                                                                                                                                                                                                                                                                                                                                                                                                                                                  \n",
       " [1,] -920.965438503847   , 702.917388716383    , NA                  , -Inf                , 15                  , Inf                 , 15                  , Inf                 , Missing             , 16.2228240204374    , 16.2228240204374    , 16.2228240204374    , 0                   , 2364                , 0                   , 7630                , 6                   , 0                   , 9.99800039992002e-05, 0.999900019996001   , 0                   , 0.999114425412456   , 0.000885574587544513, 0                   , 9.20057776787277    , 7.02224625256458    , NA                                                                                                                                                                                                                                                                                                                                                                                                                                                                                                                                                                                                                                                                                                                                                                                                                                                                                                                                                                                                                                                                                                                                                                                                                                                                                                                                                                                                                                                                                                        \n",
       " [2,] 107.8222054522      , 1.48456966935542    , -187.464564086661   , NA                  , -Inf                , -0.825844367005543  , 0.292671282103493   , Inf                 , -0.825844367005543  , 0.292671282103493   , Inf                 , Missing             , 0.610070186380573   , 0.610070186380573   , 0.610070186380573   , 0.610070186380573   , 718                 , 1556                , 90                  , 0                   , 789                 , 4952                , 1895                , 0                   , 0.303722504230118   , 0.658206429780034   , 0.0380710659898477  , 0                   , 0.103326348873756   , 0.648507071765322   , 0.248166579360922   , 0                   , 0.216071554346647   , 0.000143993727208603, 0.393854638306717   , NA                                                                                                                                                                                                                                                                                                                                                                                                                                                                                                                                                                                                                                                                                                                                                                                                                                                                                                                                                                                                                                                                                                                                                                                                                                                                                                  \n",
       " [3,] 3.000000e+00, 3.000000e+00, 3.000000e+00, 3.000000e+00, 2.000000e+00, 1.000000e+00, 1.000000e+00, 4.000000e+00, 5.000000e+00, 6.000000e+00, 7.000000e+00, 3.000000e+00, 1.000000e+00, 2.000000e+00, -5.852487e+01, -5.852487e+01, -5.852487e+01, -5.852487e+01, 1.468755e+01, 6.422484e+01, 6.422484e+01, 3.022592e-01, 3.022592e-01, 3.022592e-01, 3.022592e-01, 3.022592e-01, 3.022592e-01, 3.022592e-01, 7.630000e+02, 7.630000e+02, 7.630000e+02, 7.630000e+02, 4.500000e+02, 1.151000e+03, 1.151000e+03, 4.425000e+03, 4.425000e+03, 4.425000e+03, 4.425000e+03, 1.255000e+03, 1.956000e+03, 1.956000e+03, 3.227580e-01, 3.227580e-01, 3.227580e-01, 3.227580e-01, 1.903553e-01, 4.868866e-01, 4.868866e-01, 5.794919e-01, 5.794919e-01, 5.794919e-01, 5.794919e-01, 1.643531e-01, 2.561551e-01, 2.561551e-01, 1.502532e-01, 1.502532e-01, 1.502532e-01, 1.502532e-01, 3.819097e-03, 1.481870e-01, 1.481870e-01                                                                                                                                                                                                                                                                                                                                                                                                                                                                                                                                                                                                                                                                                                                                                                                                                                                                                                                                                                                                                                                                                                                                                                                  \n",
       " [4,] 3.00000000, 1.00000000, 2.00000000, 3.00000000, 1.00000000, 2.00000000, -116.67350903, -17.65752711, 76.58875173, 0.25969783, 0.25969783, 0.25969783, 83.00000000, 1424.00000000, 857.00000000, 861.00000000, 5488.00000000, 1287.00000000, 0.03510998, 0.60236887, 0.36252115, 0.11275537, 0.71870089, 0.16854374, 0.09059160, 0.02054136, 0.14856488                                                                                                                                                                                                                                                                                                                                                                                                                                                                                                                                                                                                                                                                                                                                                                                                                                                                                                                                                                                                                                                                                                                                                                                                                                                                                                                                                                                                                                                                                                                                                                                                                                                                                                                                                \n",
       " [5,] 33.2694124103606  , -69.2481629144119 , NA                , -Inf              , 0.208659647290484 , Inf               , 0.208659647290484 , Inf               , Missing           , 0.226070072545987 , 0.226070072545987 , 0.226070072545987 , 1842              , 522               , 0                 , 4266              , 3370              , 0                 , 0.779187817258883 , 0.220812182741117 , 0                 , 0.558669460450498 , 0.441330539549502 , 0                 , 0.0733651615671323, 0.152704910978855 , NA                                                                                                                                                                                                                                                                                                                                                                                                                                                                                                                                                                                                                                                                                                                                                                                                                                                                                                                                                                                                                                                                                                                                                                                                                                                                                                                                                                                                                                                                                                                                                            \n",
       " [6,] 1.000000e+00, 1.000000e+00, 1.000000e+00, 1.000000e+00, 2.000000e+00, 3.000000e+00, 3.000000e+00, 1.000000e+00, 2.000000e+00, 3.000000e+00, 7.000000e+00, 4.000000e+00, 5.000000e+00, 6.000000e+00, -7.668060e+01, -7.668060e+01, -7.668060e+01, -7.668060e+01, -3.875125e+00, 4.370554e+01, 4.370554e+01, 2.228737e-01, 2.228737e-01, 2.228737e-01, 2.228737e-01, 2.228737e-01, 2.228737e-01, 2.228737e-01, 3.700000e+02, 3.700000e+02, 3.700000e+02, 3.700000e+02, 7.100000e+02, 1.284000e+03, 1.284000e+03, 2.573000e+03, 2.573000e+03, 2.573000e+03, 2.573000e+03, 2.384000e+03, 2.679000e+03, 2.679000e+03, 1.565144e-01, 1.565144e-01, 1.565144e-01, 1.565144e-01, 3.003384e-01, 5.431472e-01, 5.431472e-01, 3.369565e-01, 3.369565e-01, 3.369565e-01, 3.369565e-01, 3.122053e-01, 3.508381e-01, 3.508381e-01, 1.383641e-01, 1.383641e-01, 1.383641e-01, 1.383641e-01, 4.598585e-04, 8.404972e-02, 8.404972e-02                                                                                                                                                                                                                                                                                                                                                                                                                                                                                                                                                                                                                                                                                                                                                                                                                                                                                                                                                                                                                                                                                                                                                                                 \n",
       " [7,] 1.000000e+00, 1.000000e+00, 3.000000e+00, 2.000000e+00, 2.000000e+00, 1.000000e+00, 2.000000e+00, 4.000000e+00, 3.000000e+00, 5.000000e+00, -3.323366e+01, -3.323366e+01, 6.275102e+00, 5.647705e+01, 5.647705e+01, 1.681591e-01, 1.681591e-01, 1.681591e-01, 1.681591e-01, 1.681591e-01, 1.142000e+03, 1.142000e+03, 2.080000e+02, 1.014000e+03, 1.014000e+03, 5.143000e+03, 5.143000e+03, 6.310000e+02, 1.862000e+03, 1.862000e+03, 4.830795e-01, 4.830795e-01, 8.798646e-02, 4.289340e-01, 4.289340e-01, 6.735202e-01, 6.735202e-01, 8.263489e-02, 2.438449e-01, 2.438449e-01, 6.329040e-02, 6.329040e-02, 3.358169e-04, 1.045328e-01, 1.045328e-01                                                                                                                                                                                                                                                                                                                                                                                                                                                                                                                                                                                                                                                                                                                                                                                                                                                                                                                                                                                                                                                                                                                                                                                                                                                                                                                                                                                                                                                \n",
       " [8,] 3.000000e+00, 1.000000e+00, 2.000000e+00, 2.000000e+00, 2.000000e+00, 2.000000e+00, 5.000000e+00, 1.000000e+00, 2.000000e+00, 3.000000e+00, 4.000000e+00, 6.000000e+00, -8.056610e+01, -1.233686e+01, 2.193875e+01, 2.193875e+01, 2.193875e+01, 2.193875e+01, 1.435948e-01, 1.435948e-01, 1.435948e-01, 1.435948e-01, 1.435948e-01, 1.435948e-01, 2.570000e+02, 2.950000e+02, 1.812000e+03, 1.812000e+03, 1.812000e+03, 1.812000e+03, 1.858000e+03, 1.078000e+03, 4.700000e+03, 4.700000e+03, 4.700000e+03, 4.700000e+03, 1.087140e-01, 1.247885e-01, 7.664975e-01, 7.664975e-01, 7.664975e-01, 7.664975e-01, 2.433211e-01, 1.411734e-01, 6.155055e-01, 6.155055e-01, 6.155055e-01, 6.155055e-01, 1.084477e-01, 2.021381e-03, 3.312575e-02, 3.312575e-02, 3.312575e-02, 3.312575e-02                                                                                                                                                                                                                                                                                                                                                                                                                                                                                                                                                                                                                                                                                                                                                                                                                                                                                                                                                                                                                                                                                                                                                                                                                                                                                                                  \n",
       " [9,] 1.000000e+00, 1.000000e+00, 1.000000e+00, 1.000000e+00, 1.000000e+00, 1.000000e+00, 1.000000e+00, 1.000000e+00, 2.000000e+00, 3.000000e+00, 3.000000e+00, 3.000000e+00, 3.000000e+00, 3.000000e+00, 3.000000e+00, 3.000000e+00, 1.000000e+00, 4.000000e+00, 5.000000e+00, 7.000000e+00, 9.000000e+00, 1.100000e+01, 1.200000e+01, 1.600000e+01, 2.000000e+00, 3.000000e+00, 6.000000e+00, 8.000000e+00, 1.000000e+01, 1.300000e+01, 1.400000e+01, 1.500000e+01, -4.071886e+01, -4.071886e+01, -4.071886e+01, -4.071886e+01, -4.071886e+01, -4.071886e+01, -4.071886e+01, -4.071886e+01, 1.099001e+01, 3.331157e+01, 3.331157e+01, 3.331157e+01, 3.331157e+01, 3.331157e+01, 3.331157e+01, 3.331157e+01, 1.220577e-01, 1.220577e-01, 1.220577e-01, 1.220577e-01, 1.220577e-01, 1.220577e-01, 1.220577e-01, 1.220577e-01, 1.220577e-01, 1.220577e-01, 1.220577e-01, 1.220577e-01, 1.220577e-01, 1.220577e-01, 1.220577e-01, 1.220577e-01, 7.920000e+02, 7.920000e+02, 7.920000e+02, 7.920000e+02, 7.920000e+02, 7.920000e+02, 7.920000e+02, 7.920000e+02, 2.640000e+02, 1.308000e+03, 1.308000e+03, 1.308000e+03, 1.308000e+03, 1.308000e+03, 1.308000e+03, 1.308000e+03, 3.844000e+03, 3.844000e+03, 3.844000e+03, 3.844000e+03, 3.844000e+03, 3.844000e+03, 3.844000e+03, 3.844000e+03, 7.640000e+02, 3.028000e+03, 3.028000e+03, 3.028000e+03, 3.028000e+03, 3.028000e+03, 3.028000e+03, 3.028000e+03, 3.350254e-01, 3.350254e-01, 3.350254e-01, 3.350254e-01, 3.350254e-01, 3.350254e-01, 3.350254e-01, 3.350254e-01, 1.116751e-01, 5.532995e-01, 5.532995e-01, 5.532995e-01, 5.532995e-01, 5.532995e-01, 5.532995e-01, 5.532995e-01, 5.034049e-01, 5.034049e-01, 5.034049e-01, 5.034049e-01, 5.034049e-01, 5.034049e-01, 5.034049e-01, 5.034049e-01, 1.000524e-01, 3.965427e-01, 3.965427e-01, 3.965427e-01, 3.965427e-01, 3.965427e-01, 3.965427e-01, 3.965427e-01, 6.856223e-02, 6.856223e-02, 6.856223e-02, 6.856223e-02, 6.856223e-02, 6.856223e-02, 6.856223e-02, 6.856223e-02, 1.277341e-03, 5.221815e-02, 5.221815e-02, 5.221815e-02, 5.221815e-02, 5.221815e-02, 5.221815e-02, 5.221815e-02\n",
       "[10,] 1.000000e+00, 3.000000e+00, 2.000000e+00, 1.000000e+00, 3.000000e+00, 2.000000e+00, -2.765765e+01, 3.555926e+01, 5.616097e+01, 1.017638e-01, 1.017638e-01, 1.017638e-01, 1.161000e+03, 1.127000e+03, 7.600000e+01, 4.945000e+03, 2.551000e+03, 1.400000e+02, 4.911168e-01, 4.767343e-01, 3.214890e-02, 6.475904e-01, 3.340754e-01, 1.833421e-02, 4.327692e-02, 5.072846e-02, 7.758466e-03                                                                                                                                                                                                                                                                                                                                                                                                                                                                                                                                                                                                                                                                                                                                                                                                                                                                                                                                                                                                                                                                                                                                                                                                                                                                                                                                                                                                                                                                                                                                                                                                                                                                                                             \n",
       "[11,] 2.000000e+00, 2.000000e+00, 3.000000e+00, 1.000000e+00, 1.000000e+00, 2.000000e+00, 3.000000e+00, 4.000000e+00, 1.000000e+00, 5.000000e+00, -2.773312e+01, -2.773312e+01, -7.414658e+00, 3.356180e+01, 3.356180e+01, 8.554205e-02, 8.554205e-02, 8.554205e-02, 8.554205e-02, 8.554205e-02, 1.002000e+03, 1.002000e+03, 1.880000e+02, 1.174000e+03, 1.174000e+03, 4.271000e+03, 4.271000e+03, 6.540000e+02, 2.711000e+03, 2.711000e+03, 4.238579e-01, 4.238579e-01, 7.952623e-02, 4.966159e-01, 4.966159e-01, 5.593243e-01, 5.593243e-01, 8.564694e-02, 3.550288e-01, 3.550288e-01, 3.756905e-02, 3.756905e-02, 4.538296e-04, 4.751917e-02, 4.751917e-02                                                                                                                                                                                                                                                                                                                                                                                                                                                                                                                                                                                                                                                                                                                                                                                                                                                                                                                                                                                                                                                                                                                                                                                                                                                                                                                                                                                                                                               \n",
       "[12,] 1.00000000, 1.00000000, 1.00000000, 3.00000000, 2.00000000, 2.00000000, 1.00000000, 2.00000000, 6.00000000, 4.00000000, 3.00000000, 5.00000000, -52.19815447, -52.19815447, -52.19815447, -29.32764039, 18.54734148, 18.54734148, 0.07329481, 0.07329481, 0.07329481, 0.07329481, 0.07329481, 0.07329481, 214.00000000, 214.00000000, 214.00000000, 426.00000000, 1724.00000000, 1724.00000000, 1165.00000000, 1165.00000000, 1165.00000000, 1845.00000000, 4626.00000000, 4626.00000000, 0.09052453, 0.09052453, 0.09052453, 0.18020305, 0.72927242, 0.72927242, 0.15256679, 0.15256679, 0.15256679, 0.24161865, 0.60581456, 0.60581456, 0.03238491, 0.03238491, 0.03238491, 0.01801175, 0.02289815, 0.02289815                                                                                                                                                                                                                                                                                                                                                                                                                                                                                                                                                                                                                                                                                                                                                                                                                                                                                                                                                                                                                                                                                                                                                                                                                                                                                                                                                                                      \n",
       "[13,] -42.4207070526089  , -14.757491764426   , 8.54995062877216   , -11.4738716438455  , 14.7694392027208   , NA                 , -Inf               , -0.852651103836189 , -0.67640735123923  , -0.323919846045314 , 0.0285676591486023 , Inf                , -0.852651103836189 , -0.67640735123923  , -0.323919846045314 , 0.0285676591486023 , Inf                , Missing            , 0.0322099841520062 , 0.0322099841520062 , 0.0322099841520062 , 0.0322099841520062 , 0.0322099841520062 , 0.0322099841520062 , 190                , 281                , 723                , 289                , 881                , 0                  , 938                , 1052               , 2144               , 1047               , 2455               , 0                  , 0.0803722504230118 , 0.118866328257191  , 0.305837563451777  , 0.122250423011844  , 0.372673434856176  , 0                  , 0.122839182818229  , 0.137768465165008  , 0.280775275013096  , 0.137113672079623  , 0.321503404924044  , 0                  , 0.0180147729856047 , 0.00278948129747157, 0.00214281328794768, 0.00170539012014197, 0.00755752646084027, NA                                                                                                                                                                                                                                                                                                                                                                                                                                                                                                                                                                                                                                                                                                                                                                                                                                                                                                                                           \n",
       "[14,] -54.6481308625977  , -31.8329293488127  , -5.41454092083573  , 10.0651877627015   , NA                 , -Inf               , -0.804614602004096 , -0.687349056879995 , -0.41573928874056  , Inf                , -0.804614602004096 , -0.687349056879995 , -0.41573928874056  , Inf                , Missing            , 0.024195697652894  , 0.024195697652894  , 0.024195697652894  , 0.024195697652894  , 0.024195697652894  , 76                 , 93                 , 793                , 1402               , 0                  , 424                , 413                , 2704               , 4095               , 0                  , 0.0321489001692047 , 0.0393401015228426 , 0.335448392554992  , 0.593062605752961  , 0                  , 0.0555264536406496 , 0.0540859088528025 , 0.354112100576218  , 0.53627553693033   , 0                  , 0.0127753960135489 , 0.00469402242925817, 0.0010105541081546 , 0.00571572510193234, NA                                                                                                                                                                                                                                                                                                                                                                                                                                                                                                                                                                                                                                                                                                                                                                                                                                                                                                                                                                                                                                                                                                                                        \n",
       "[15,] -6.38934744605374  , -24.3928592970929  , -5.43682575291624  , 16.1372543432816   , NA                 , -Inf               , 0.219368512301974  , 0.414129056645614  , 0.897305489060982  , Inf                , 0.219368512301974  , 0.414129056645614  , 0.897305489060982  , Inf                , Missing            , 0.0133202981516731 , 0.0133202981516731 , 0.0133202981516731 , 0.0133202981516731 , 0.0133202981516731 , 1013               , 98                 , 453                , 800                , 0                  , 3488               , 404                , 1545               , 2199               , 0                  , 0.428510998307953  , 0.0414551607445008 , 0.191624365482233  , 0.338409475465313  , 0                  , 0.456783656364589  , 0.0529072812991095 , 0.202331063383971  , 0.287977998952331  , 0                  , 0.00180643835547319, 0.00279349965341914, 0.00058210450880859, 0.0081382556339722 , NA                                                                                                                                                                                                                                                                                                                                                                                                                                                                                                                                                                                                                                                                                                                                                                                                                                                                                                                                                                                                                                                                                                                                        \n",
       "[16,] 11.4053585664952   , -9.7538353429116   , NA                 , -Inf               , 0                  , Inf                , 0                  , Inf                , Missing            , 0.0111142973966869 , 0.0111142973966869 , 0.0111142973966869 , 1152               , 1212               , 0                  , 3320               , 4316               , 0                  , 0.487309644670051  , 0.512690355329949  , 0                  , 0.434782608695652  , 0.565217391304348  , 0                  , 0.00599089679723208, 0.00512340059945478, NA                                                                                                                                                                                                                                                                                                                                                                                                                                                                                                                                                                                                                                                                                                                                                                                                                                                                                                                                                                                                                                                                                                                                                                                                                                                                                                                                                                                                                                                                                                                                  \n",
       "[17,] -3.62401273938729   , 12.1925109919348    , -3.88094307002436   , NA                  , -Inf                , -0.768630652376078  , 0.513979798500615   , Inf                 , -0.768630652376078  , 0.513979798500615   , Inf                 , Missing             , 0.00449654927385851 , 0.00449654927385851 , 0.00449654927385851 , 0.00449654927385851 , 1334                , 583                 , 447                 , 0                   , 4468                , 1667                , 1501                , 0                   , 0.564297800338409   , 0.246615905245347   , 0.189086294416244   , 0                   , 0.585123101100052   , 0.218308014667365   , 0.196568884232583   , 0                   , 0.000754711552617658, 0.0034514426703053  , 0.000290395050935551, NA                                                                                                                                                                                                                                                                                                                                                                                                                                                                                                                                                                                                                                                                                                                                                                                                                                                                                                                                                                                                                                                                                                                                                                                                                                                                                                  \n",
       "      [,3]       \n",
       " [1,] 16.22282   \n",
       " [2,] 0.6100702  \n",
       " [3,] 0.3022592  \n",
       " [4,] 0.2596978  \n",
       " [5,] 0.2260701  \n",
       " [6,] 0.2228737  \n",
       " [7,] 0.1681591  \n",
       " [8,] 0.1435948  \n",
       " [9,] 0.1220577  \n",
       "[10,] 0.1017638  \n",
       "[11,] 0.08554205 \n",
       "[12,] 0.07329481 \n",
       "[13,] 0.03220998 \n",
       "[14,] 0.0241957  \n",
       "[15,] 0.0133203  \n",
       "[16,] 0.0111143  \n",
       "[17,] 0.004496549"
      ]
     },
     "metadata": {},
     "output_type": "display_data"
    }
   ],
   "source": [
    "# Applying WOE binning on accepts dataset\n",
    "accepts1 <- accepts[-1]\n",
    "\n",
    "binn <- woe.binning(accepts1, 'Default_45', accepts1)\n",
    "binn"
   ]
  },
  {
   "cell_type": "markdown",
   "metadata": {},
   "source": [
    "### Deployment of WOE binning on accepts dataset "
   ]
  },
  {
   "cell_type": "markdown",
   "metadata": {},
   "source": [
    "As mentioned in the course and taking into consideration the weights of evidence obtained, we drop those that have an importance value (IV) less that 0.02 since they do not have a strong influence on the target variable. In additon, it is necessary to remove Days_late due to the high correlation with the dependant variable and therefore, the strong IV.\n",
    "\n",
    "Weights of evidence should also be applied on rejects dataset.\n",
    "\n",
    "It is worth mentioning that original variables (non-binned) have to be removed from the final datasets to avoid multicolinearity. The process is described below. "
   ]
  },
  {
   "cell_type": "code",
   "execution_count": 37,
   "metadata": {},
   "outputs": [],
   "source": [
    "# Applying the binning to the accepts data\n",
    "accepts_proce <- woe.binning.deploy(accepts, binn, min.iv.total=0.02)\n",
    "\n",
    "# Dropping unbinned variables and also those that do not have a high Information Value or does not make sense\n",
    "accepts_proce <- subset(accepts_proce, select = -c(V1, V2, V3, V4, V5, V6, V7, V8, Has_FICO, Business_channel,\n",
    "                 Days_late, FICO_Score, Loan_amount, Monthly_income, Age, Gearing_coefficient, Max_gearing_ratio, Days_late.binned))"
   ]
  },
  {
   "cell_type": "code",
   "execution_count": 38,
   "metadata": {},
   "outputs": [
    {
     "name": "stdout",
     "output_type": "stream",
     "text": [
      "'data.frame':\t10000 obs. of  15 variables:\n",
      " $ ID                     : chr  \"250263\" \"250290\" \"250249\" \"249516\" ...\n",
      " $ Default_45             : num  0 0 0 1 0 0 0 0 1 0 ...\n",
      " $ FICO_Score.binned      : Factor w/ 4 levels \"(-Inf,-0.825844367]\",..: 2 3 2 2 2 2 3 2 2 2 ...\n",
      " $ V5.binned              : Factor w/ 4 levels \"1 + 2\",\"3\",\"4 + 5 + 6 + 7\",..: 3 3 3 1 3 3 3 2 1 3 ...\n",
      " $ Business_channel.binned: Factor w/ 4 levels \"1\",\"2\",\"3\",\"unknown\": 1 1 1 1 1 2 1 2 1 1 ...\n",
      " $ Age.binned             : Factor w/ 3 levels \"(-Inf,0.2086596473]\",..: 2 2 2 2 1 1 2 1 2 1 ...\n",
      " $ V6.binned              : Factor w/ 4 levels \"misc. level neg. + 7\",..: 1 1 1 2 2 2 1 3 1 2 ...\n",
      " $ V1.binned              : Factor w/ 4 levels \"1 + 2\",\"misc. level pos. + 3\",..: 1 1 1 2 1 1 1 1 1 2 ...\n",
      " $ V4.binned              : Factor w/ 4 levels \"1\",\"misc. level pos. + 4 + 3 + 2\",..: 3 2 3 2 2 2 3 2 3 1 ...\n",
      " $ V3.binned              : Factor w/ 4 levels \"11 + misc. level neg.\",..: 1 3 1 3 1 1 1 1 1 3 ...\n",
      " $ V7.binned              : Factor w/ 4 levels \"1\",\"misc. level pos.\",..: 1 1 1 1 1 3 3 1 1 3 ...\n",
      " $ V8.binned              : Factor w/ 4 levels \"1 + misc. level pos.\",..: 2 2 2 2 2 3 1 2 1 1 ...\n",
      " $ V2.binned              : Factor w/ 4 levels \"1 + misc. level neg.\",..: 1 1 2 2 2 2 3 2 2 2 ...\n",
      " $ Loan_amount.binned     : Factor w/ 6 levels \"(-Inf,-0.8526511038]\",..: 5 5 1 2 3 5 1 3 4 4 ...\n",
      " $ Monthly_income.binned  : Factor w/ 5 levels \"(-Inf,-0.804614602]\",..: 4 4 2 4 3 4 3 3 2 2 ...\n"
     ]
    }
   ],
   "source": [
    "str(accepts_proce)"
   ]
  },
  {
   "cell_type": "markdown",
   "metadata": {},
   "source": [
    "### Deployment of WOE binning on rejects dataset "
   ]
  },
  {
   "cell_type": "code",
   "execution_count": 39,
   "metadata": {},
   "outputs": [],
   "source": [
    "# Create a blank response column on rejects to be able to apply WOE binning\n",
    "rejects$Days_late <- 0\n",
    "\n",
    "# Applying the binning to the rejects dataset\n",
    "rejects_proce <- woe.binning.deploy(rejects, binn, min.iv.total=0.02)\n",
    "\n",
    "# Dropping unbinned variables and also those that do not have a high Information Value or does not make sense\n",
    "rejects_proce <- subset(rejects_proce, select = -c(V1, V2, V3, V4, V5, V6, V7, V8, Has_FICO, Business_channel,\n",
    "               FICO_Score, Loan_amount, Monthly_income, Age, Gearing_coefficient, Max_gearing_ratio, Days_late, Days_late.binned))"
   ]
  },
  {
   "cell_type": "code",
   "execution_count": 40,
   "metadata": {},
   "outputs": [
    {
     "name": "stdout",
     "output_type": "stream",
     "text": [
      "'data.frame':\t5000 obs. of  14 variables:\n",
      " $ ID                     : chr  \"305932\" \"305764\" \"305971\" \"305664\" ...\n",
      " $ FICO_Score.binned      : Factor w/ 4 levels \"(-Inf,-0.825844367]\",..: 2 3 3 1 3 3 2 2 2 3 ...\n",
      " $ V5.binned              : Factor w/ 4 levels \"1 + 2\",\"3\",\"4 + 5 + 6 + 7\",..: 1 3 3 1 3 3 1 2 3 3 ...\n",
      " $ Business_channel.binned: Factor w/ 4 levels \"1\",\"2\",\"3\",\"unknown\": 1 1 3 1 2 1 1 1 1 3 ...\n",
      " $ Age.binned             : Factor w/ 3 levels \"(-Inf,0.2086596473]\",..: 1 2 1 1 2 1 1 1 2 2 ...\n",
      " $ V6.binned              : Factor w/ 4 levels \"misc. level neg. + 7\",..: 3 2 2 3 2 3 2 2 2 2 ...\n",
      " $ V1.binned              : Factor w/ 4 levels \"1 + 2\",\"misc. level pos. + 3\",..: 2 1 1 1 1 2 1 1 1 1 ...\n",
      " $ V4.binned              : Factor w/ 4 levels \"1\",\"misc. level pos. + 4 + 3 + 2\",..: 2 1 2 2 1 1 2 2 2 2 ...\n",
      " $ V3.binned              : Factor w/ 4 levels \"11 + misc. level neg.\",..: 3 1 3 3 3 3 3 3 2 3 ...\n",
      " $ V7.binned              : Factor w/ 4 levels \"1\",\"misc. level pos.\",..: 1 1 1 3 1 3 3 3 1 1 ...\n",
      " $ V8.binned              : Factor w/ 4 levels \"1 + misc. level pos.\",..: 1 2 3 2 2 1 1 2 2 2 ...\n",
      " $ V2.binned              : Factor w/ 4 levels \"1 + misc. level neg.\",..: 2 3 3 2 3 2 2 2 3 2 ...\n",
      " $ Loan_amount.binned     : Factor w/ 6 levels \"(-Inf,-0.8526511038]\",..: 3 5 2 1 5 5 3 5 1 2 ...\n",
      " $ Monthly_income.binned  : Factor w/ 5 levels \"(-Inf,-0.804614602]\",..: 3 4 4 3 4 3 4 4 3 4 ...\n"
     ]
    }
   ],
   "source": [
    "str(rejects_proce)"
   ]
  },
  {
   "cell_type": "code",
   "execution_count": 41,
   "metadata": {},
   "outputs": [],
   "source": [
    "# Rename the data columns\n",
    "# accepts_proce\n",
    "for (v in colnames(accepts_proce)) {\n",
    "    fix_name <- str_replace_all(v, \"[^[:alnum:] ]\", \"_\")\n",
    "    colnames(accepts_proce)[colnames(accepts_proce) == v] <- fix_name\n",
    "}\n",
    "# Test (holdout)\n",
    "for (v in colnames(rejects_proce)) {\n",
    "    fix_name <- str_replace_all(v, \"[^[:alnum:] ]\", \"_\")\n",
    "    colnames(rejects_proce)[colnames(rejects_proce) == v] <- fix_name\n",
    "}\n",
    "\n",
    "accepts_proce$Default_45 = as.factor(accepts_proce$Default_45)"
   ]
  },
  {
   "cell_type": "markdown",
   "metadata": {},
   "source": [
    "## Modeling"
   ]
  },
  {
   "cell_type": "markdown",
   "metadata": {},
   "source": [
    "In this section of the notebook, the purpose is to train and test 3 different models to obtain the credit scorecard. The models used are Decision trees, Ada Boosting and Logsitic Regression. The 3 models were trained and tested using Cross Validation with 200 iterations, being Logistic Regression the one with the best performance with an aggregated AUC of 0.7735.\n",
    "\n",
    "After selecting the best learner, probabilities of default were estimated applying the predict() function on the rejects dataset.   "
   ]
  },
  {
   "cell_type": "markdown",
   "metadata": {},
   "source": [
    "### Decision trees "
   ]
  },
  {
   "cell_type": "code",
   "execution_count": 43,
   "metadata": {},
   "outputs": [
    {
     "name": "stderr",
     "output_type": "stream",
     "text": [
      "Warning message in makeTask(type = type, data = data, weights = weights, blocking = blocking, :\n",
      "\"Empty factor levels were dropped for columns: FICO_Score_binned,V5_binned,Business_channel_binned,Age_binned,V6_binned,V1_binned,V4_binned,V3_binned,V7_binned,V8_binned,V2_binned,Loan_amount_binned,Monthly_income_binned\"Resampling: cross-validation\n",
      "Measures:             auc.train   auc.test    \n",
      "[Resample] iter 1:    0.6029199   0.6212500   \n",
      "[Resample] iter 2:    0.6031258   0.5793651   \n",
      "[Resample] iter 3:    0.6026070   0.6808732   \n",
      "[Resample] iter 4:    0.6031430   0.5416667   \n",
      "[Resample] iter 5:    0.6030654   0.5952381   \n",
      "[Resample] iter 6:    0.6035691   0.4787500   \n",
      "[Resample] iter 7:    0.6029908   0.6000000   \n",
      "[Resample] iter 8:    0.6029752   0.6205357   \n",
      "[Resample] iter 9:    0.6029670   0.6129386   \n",
      "[Resample] iter 10:   0.6023446   0.7412587   \n",
      "[Resample] iter 11:   0.6028164   0.6111111   \n",
      "[Resample] iter 12:   0.6019831   0.7378472   \n",
      "[Resample] iter 13:   0.6028285   0.6351351   \n",
      "[Resample] iter 14:   0.6029618   0.6170635   \n",
      "[Resample] iter 15:   0.6034274   0.5327381   \n",
      "[Resample] iter 16:   0.6030859   0.5758808   \n",
      "[Resample] iter 17:   0.6028222   0.6231618   \n",
      "[Resample] iter 18:   0.6029345   0.6205962   \n",
      "[Resample] iter 19:   0.6031679   0.5748441   \n",
      "[Resample] iter 20:   0.6029900   0.6104762   \n",
      "[Resample] iter 21:   0.6030381   0.6025641   \n",
      "[Resample] iter 22:   0.6031091   0.5822368   \n",
      "[Resample] iter 23:   0.6026124   0.6818182   \n",
      "[Resample] iter 24:   0.6026737   0.6642412   \n",
      "[Resample] iter 25:   0.6028217   0.6450000   \n",
      "[Resample] iter 26:   0.6028278   0.6392544   \n",
      "[Resample] iter 27:   0.6029563   0.6150000   \n",
      "[Resample] iter 28:   0.6026659   0.6493056   \n",
      "[Resample] iter 29:   0.6029295   0.6205821   \n",
      "[Resample] iter 30:   0.6029260   0.6184211   \n",
      "[Resample] iter 31:   0.6032216   0.5282392   \n",
      "[Resample] iter 32:   0.6024219   0.7130977   \n",
      "[Resample] iter 33:   0.6022733   0.7390351   \n",
      "[Resample] iter 34:   0.6026997   0.6497326   \n",
      "[Resample] iter 35:   0.6032201   0.5550000   \n",
      "[Resample] iter 36:   0.6030420   0.5962500   \n",
      "[Resample] iter 37:   0.6031027   0.5750000   \n",
      "[Resample] iter 38:   0.6029225   0.6140873   \n",
      "[Resample] iter 39:   0.6025148   0.6918860   \n",
      "[Resample] iter 40:   0.6035129   0.5294118   \n",
      "[Resample] iter 41:   0.6031023   0.6101190   \n",
      "[Resample] iter 42:   0.6030705   0.5914761   \n",
      "[Resample] iter 43:   0.6034214   0.5075000   \n",
      "[Resample] iter 44:   0.6033778   0.5280665   \n",
      "[Resample] iter 45:   0.6033548   0.5376984   \n",
      "[Resample] iter 46:   0.6027297   0.6734417   \n",
      "[Resample] iter 47:   0.6029784   0.6097561   \n",
      "[Resample] iter 48:   0.6039389   0.4261954   \n",
      "[Resample] iter 49:   0.6031114   0.5904762   \n",
      "[Resample] iter 50:   0.6030203   0.5997807   \n",
      "[Resample] iter 51:   0.6029677   0.6084559   \n",
      "[Resample] iter 52:   0.6032706   0.5230352   \n",
      "[Resample] iter 53:   0.6024690   0.6840278   \n",
      "[Resample] iter 54:   0.6027598   0.6600000   \n",
      "[Resample] iter 55:   0.6032570   0.5199336   \n",
      "[Resample] iter 56:   0.6024419   0.7214452   \n",
      "[Resample] iter 57:   0.6033894   0.5291060   \n",
      "[Resample] iter 58:   0.6038914   0.4125000   \n",
      "[Resample] iter 59:   0.6035058   0.5103950   \n",
      "[Resample] iter 60:   0.6028811   0.6300813   \n",
      "[Resample] iter 61:   0.6027064   0.6700000   \n",
      "[Resample] iter 62:   0.6024495   0.6923810   \n",
      "[Resample] iter 63:   0.6024992   0.6995842   \n",
      "[Resample] iter 64:   0.6027377   0.6528067   \n",
      "[Resample] iter 65:   0.6028391   0.6382114   \n",
      "[Resample] iter 66:   0.6035960   0.5246180   \n",
      "[Resample] iter 67:   0.6026931   0.6893688   \n",
      "[Resample] iter 68:   0.6029074   0.6226611   \n",
      "[Resample] iter 69:   0.6031550   0.5675991   \n",
      "[Resample] iter 70:   0.6027381   0.6375212   \n",
      "[Resample] iter 71:   0.6035077   0.5072765   \n",
      "[Resample] iter 72:   0.6031432   0.5623306   \n",
      "[Resample] iter 73:   0.6026616   0.6943522   \n",
      "[Resample] iter 74:   0.6029060   0.6177156   \n",
      "[Resample] iter 75:   0.6034282   0.5238095   \n",
      "[Resample] iter 76:   0.6030491   0.5833333   \n",
      "[Resample] iter 77:   0.6031607   0.5799458   \n",
      "[Resample] iter 78:   0.6032553   0.5461310   \n",
      "[Resample] iter 79:   0.6030003   0.6030702   \n",
      "[Resample] iter 80:   0.6031539   0.5690789   \n",
      "[Resample] iter 81:   0.6027231   0.6608392   \n",
      "[Resample] iter 82:   0.6036575   0.4833680   \n",
      "[Resample] iter 83:   0.6024028   0.6847426   \n",
      "[Resample] iter 84:   0.6024531   0.6995842   \n",
      "[Resample] iter 85:   0.6029870   0.6096491   \n",
      "[Resample] iter 86:   0.6030486   0.5937500   \n",
      "[Resample] iter 87:   0.6027131   0.6843854   \n",
      "[Resample] iter 88:   0.6029676   0.6008316   \n",
      "[Resample] iter 89:   0.6029469   0.6174242   \n",
      "[Resample] iter 90:   0.6027912   0.6150794   \n",
      "[Resample] iter 91:   0.6029020   0.6200000   \n",
      "[Resample] iter 92:   0.6025052   0.6884921   \n",
      "[Resample] iter 93:   0.6029312   0.6162500   \n",
      "[Resample] iter 94:   0.6031561   0.5650000   \n",
      "[Resample] iter 95:   0.6028716   0.6260965   \n",
      "[Resample] iter 96:   0.6027524   0.6535088   \n",
      "[Resample] iter 97:   0.6032756   0.5565476   \n",
      "[Resample] iter 98:   0.6030234   0.6097561   \n",
      "[Resample] iter 99:   0.6024975   0.7150000   \n",
      "[Resample] iter 100:  0.6027377   0.6528067   \n",
      "[Resample] iter 101:  0.6027098   0.6788618   \n",
      "[Resample] iter 102:  0.6034344   0.5250000   \n",
      "[Resample] iter 103:  0.6026934   0.6537698   \n",
      "[Resample] iter 104:  0.6028897   0.6461794   \n",
      "[Resample] iter 105:  0.6028182   0.6388889   \n",
      "[Resample] iter 106:  0.6030474   0.5944056   \n",
      "[Resample] iter 107:  0.6027985   0.6456876   \n",
      "[Resample] iter 108:  0.6035330   0.5267380   \n",
      "[Resample] iter 109:  0.6031711   0.5772059   \n",
      "[Resample] iter 110:  0.6033531   0.5405405   \n",
      "[Resample] iter 111:  0.6030105   0.5894309   \n",
      "[Resample] iter 112:  0.6023194   0.8305648   \n",
      "[Resample] iter 113:  0.6030556   0.5921053   \n",
      "[Resample] iter 114:  0.6031915   0.5575000   \n",
      "[Resample] iter 115:  0.6035121   0.5390625   \n",
      "[Resample] iter 116:  0.6032934   0.5476190   \n",
      "[Resample] iter 117:  0.6035305   0.5059524   \n",
      "[Resample] iter 118:  0.6024441   0.7262500   \n",
      "[Resample] iter 119:  0.6034524   0.5407470   \n",
      "[Resample] iter 120:  0.6021640   0.7912500   \n",
      "[Resample] iter 121:  0.6028652   0.6259921   \n",
      "[Resample] iter 122:  0.6031374   0.5787500   \n",
      "[Resample] iter 123:  0.6031342   0.5769231   \n",
      "[Resample] iter 124:  0.6024973   0.7121212   \n",
      "[Resample] iter 125:  0.6030203   0.5997807   \n",
      "[Resample] iter 126:  0.6029353   0.6164241   \n",
      "[Resample] iter 127:  0.6030419   0.5955711   \n",
      "[Resample] iter 128:  0.6029365   0.6192412   \n",
      "[Resample] iter 129:  0.6035297   0.5010965   \n",
      "[Resample] iter 130:  0.6026270   0.6756757   \n",
      "[Resample] iter 131:  0.6032837   0.4555556   \n",
      "[Resample] iter 132:  0.6033750   0.5374220   \n",
      "[Resample] iter 133:  0.6034835   0.4418605   \n",
      "[Resample] iter 134:  0.6028265   0.6351351   \n",
      "[Resample] iter 135:  0.6029220   0.6600000   \n",
      "[Resample] iter 136:  0.6031161   0.5700000   \n",
      "[Resample] iter 137:  0.6030672   0.5833333   \n",
      "[Resample] iter 138:  0.6032837   0.5288889   \n",
      "[Resample] iter 139:  0.6028506   0.6337719   \n",
      "[Resample] iter 140:  0.6032924   0.5454545   \n",
      "[Resample] iter 141:  0.6027545   0.6526807   \n",
      "[Resample] iter 142:  0.6029485   0.5777778   \n",
      "[Resample] iter 143:  0.6034281   0.4534884   \n",
      "[Resample] iter 144:  0.6032273   0.5592105   \n",
      "[Resample] iter 145:  0.6027847   0.6438095   \n",
      "[Resample] iter 146:  0.6031523   0.5781250   \n",
      "[Resample] iter 147:  0.6029865   0.6072261   \n",
      "[Resample] iter 148:  0.6022446   0.7331349   \n",
      "[Resample] iter 149:  0.6024626   0.7138158   \n",
      "[Resample] iter 150:  0.6041269   0.3815789   \n",
      "[Resample] iter 151:  0.6029880   0.6085714   \n",
      "[Resample] iter 152:  0.6030541   0.6028571   \n",
      "[Resample] iter 153:  0.6034353   0.5153509   \n",
      "[Resample] iter 154:  0.6034011   0.5233100   \n",
      "[Resample] iter 155:  0.6031627   0.5761905   \n",
      "[Resample] iter 156:  0.6027947   0.6712500   \n",
      "[Resample] iter 157:  0.6036451   0.4500000   \n",
      "[Resample] iter 158:  0.6024516   0.7410714   \n",
      "[Resample] iter 159:  0.6027545   0.6498016   \n",
      "[Resample] iter 160:  0.6034586   0.4823848   \n",
      "[Resample] iter 161:  0.6026302   0.8315217   \n",
      "[Resample] iter 162:  0.6027399   0.6557018   \n",
      "[Resample] iter 163:  0.6031915   0.5575000   \n",
      "[Resample] iter 164:  0.6025604   0.7235772   \n",
      "[Resample] iter 165:  0.6030020   0.5711111   \n",
      "[Resample] iter 166:  0.6026048   0.6842105   \n"
     ]
    },
    {
     "name": "stderr",
     "output_type": "stream",
     "text": [
      "[Resample] iter 167:  0.6030203   0.5997807   \n",
      "[Resample] iter 168:  0.6030808   0.5862471   \n",
      "[Resample] iter 169:  0.6038684   0.4230769   \n",
      "[Resample] iter 170:  0.6030946   0.5904366   \n",
      "[Resample] iter 171:  0.6034284   0.5270270   \n",
      "[Resample] iter 172:  0.6027771   0.6363636   \n",
      "[Resample] iter 173:  0.6029182   0.6102431   \n",
      "[Resample] iter 174:  0.6032906   0.5216802   \n",
      "[Resample] iter 175:  0.6028779   0.6275000   \n",
      "[Resample] iter 176:  0.6030935   0.5841996   \n",
      "[Resample] iter 177:  0.6027157   0.6559252   \n",
      "[Resample] iter 178:  0.6025440   0.6871102   \n",
      "[Resample] iter 179:  0.6029996   0.6102431   \n",
      "[Resample] iter 180:  0.6034372   0.5338542   \n",
      "[Resample] iter 181:  0.6033227   0.5508021   \n",
      "[Resample] iter 182:  0.6035910   0.4712500   \n",
      "[Resample] iter 183:  0.6029870   0.6096491   \n",
      "[Resample] iter 184:  0.6036143   0.4186047   \n",
      "[Resample] iter 185:  0.6028330   0.6309771   \n",
      "[Resample] iter 186:  0.6032535   0.5475000   \n",
      "[Resample] iter 187:  0.6033367   0.5542857   \n",
      "[Resample] iter 188:  0.6031917   0.5597826   \n",
      "[Resample] iter 189:  0.6027694   0.6575000   \n",
      "[Resample] iter 190:  0.6028938   0.6258741   \n",
      "[Resample] iter 191:  0.6030013   0.6030702   \n",
      "[Resample] iter 192:  0.6023967   0.7236842   \n",
      "[Resample] iter 193:  0.6026685   0.6639929   \n",
      "[Resample] iter 194:  0.6032399   0.5592105   \n",
      "[Resample] iter 195:  0.6028558   0.6351981   \n",
      "[Resample] iter 196:  0.6032264   0.5603070   \n",
      "[Resample] iter 197:  0.6038598   0.4583333   \n",
      "[Resample] iter 198:  0.6029886   0.6050000   \n",
      "[Resample] iter 199:  0.6026542   0.6875000   \n",
      "[Resample] iter 200:  0.6032124   0.5818015   \n",
      "\n",
      "\n",
      "Aggregated Result: auc.test.mean=0.6025666,auc.train.mean=0.6030038\n",
      "\n",
      "\n"
     ]
    }
   ],
   "source": [
    "# Set up cross-validation\n",
    "rdesc = makeResampleDesc(\"CV\", iters=200, predict=\"both\")\n",
    "\n",
    "# Define the model\n",
    "learner <- makeLearner(\"classif.rpart\", predict.type=\"prob\", fix.factors.prediction=T)\n",
    "\n",
    "# Define the task\n",
    "train_task <- makeClassifTask(id=\"accepts_proce\", data=accepts_proce[, -1], target=\"Default_45\")\n",
    "\n",
    "# Set hyper parameter tuning\n",
    "tune_params <- makeParamSet(\n",
    ")\n",
    "ctrl = makeTuneControlGrid()\n",
    "\n",
    "# Run the hyper parameter tuning with k-fold CV\n",
    "if (length(tune_params$pars) > 0) {\n",
    "    # Run parameter tuning\n",
    "    res <- tuneParams(learner, task=train_task, resampling=rdesc,\n",
    "      par.set=tune_params, control=ctrl, measures=list(mlr::auc))\n",
    "    \n",
    "    # Extract best model\n",
    "    best_learner <- res$learner\n",
    "    \n",
    "} else {\n",
    "    # Simple cross-validation\n",
    "    res <- resample(learner, train_task, rdesc, measures=list(mlr::auc, setAggregation(mlr::auc, train.mean)))\n",
    "    \n",
    "    # No parameter for tuning, only 1 best learner\n",
    "    best_learner <- learner\n",
    "}"
   ]
  },
  {
   "cell_type": "markdown",
   "metadata": {},
   "source": [
    "### Ada Boosting "
   ]
  },
  {
   "cell_type": "code",
   "execution_count": 44,
   "metadata": {
    "scrolled": false
   },
   "outputs": [
    {
     "name": "stderr",
     "output_type": "stream",
     "text": [
      "Warning message in makeTask(type = type, data = data, weights = weights, blocking = blocking, :\n",
      "\"Empty factor levels were dropped for columns: FICO_Score_binned,V5_binned,Business_channel_binned,Age_binned,V6_binned,V1_binned,V4_binned,V3_binned,V7_binned,V8_binned,V2_binned,Loan_amount_binned,Monthly_income_binned\"Resampling: cross-validation\n",
      "Measures:             auc.train   auc.test    \n",
      "[Resample] iter 1:    0.7804981   0.6578947   \n",
      "[Resample] iter 2:    0.7817239   0.7698413   \n",
      "[Resample] iter 3:    0.7810469   0.7047817   \n",
      "[Resample] iter 4:    0.7806629   0.7051282   \n",
      "[Resample] iter 5:    0.7800831   0.7972028   \n",
      "[Resample] iter 6:    0.7800314   0.8452381   \n",
      "[Resample] iter 7:    0.7786048   0.8601190   \n",
      "[Resample] iter 8:    0.7805279   0.6547619   \n",
      "[Resample] iter 9:    0.7806017   0.8928571   \n",
      "[Resample] iter 10:   0.7805690   0.6952381   \n",
      "[Resample] iter 11:   0.7800044   0.7529138   \n",
      "[Resample] iter 12:   0.7790906   0.7954545   \n",
      "[Resample] iter 13:   0.7798428   0.6825000   \n",
      "[Resample] iter 14:   0.7805510   0.5800000   \n",
      "[Resample] iter 15:   0.7797973   0.8066667   \n",
      "[Resample] iter 16:   0.7792878   0.9225000   \n",
      "[Resample] iter 17:   0.7794103   0.8075000   \n",
      "[Resample] iter 18:   0.7798851   0.7434211   \n",
      "[Resample] iter 19:   0.7796350   0.7400000   \n",
      "[Resample] iter 20:   0.7790742   0.8373016   \n",
      "[Resample] iter 21:   0.7796028   0.9463869   \n",
      "[Resample] iter 22:   0.7783191   0.8095238   \n",
      "[Resample] iter 23:   0.7803389   0.7005420   \n",
      "[Resample] iter 24:   0.7799764   0.7740864   \n",
      "[Resample] iter 25:   0.7794277   0.8850000   \n",
      "[Resample] iter 26:   0.7811517   0.7996324   \n",
      "[Resample] iter 27:   0.7803279   0.7301587   \n",
      "[Resample] iter 28:   0.7792540   0.7224532   \n",
      "[Resample] iter 29:   0.7801752   0.7642276   \n",
      "[Resample] iter 30:   0.7815357   0.7304762   \n",
      "[Resample] iter 31:   0.7799242   0.6000000   \n",
      "[Resample] iter 32:   0.7795900   0.6598916   \n",
      "[Resample] iter 33:   0.7797040   0.7564103   \n",
      "[Resample] iter 34:   0.7793150   0.7645688   \n",
      "[Resample] iter 35:   0.7789434   0.7858628   \n",
      "[Resample] iter 36:   0.7799434   0.7552448   \n",
      "[Resample] iter 37:   0.7794935   0.7831978   \n",
      "[Resample] iter 38:   0.7789598   0.6689977   \n",
      "[Resample] iter 39:   0.7796235   0.8243243   \n",
      "[Resample] iter 40:   0.7789218   0.8511905   \n",
      "[Resample] iter 41:   0.7802102   0.8675000   \n",
      "[Resample] iter 42:   0.7782672   0.8630952   \n",
      "[Resample] iter 43:   0.7816541   0.6875000   \n",
      "[Resample] iter 44:   0.7796861   0.7574405   \n",
      "[Resample] iter 45:   0.7798354   0.6783333   \n",
      "[Resample] iter 46:   0.7799126   0.7285714   \n",
      "[Resample] iter 47:   0.7796899   0.7547425   \n",
      "[Resample] iter 48:   0.7799586   0.7103175   \n",
      "[Resample] iter 49:   0.7819265   0.6403326   \n",
      "[Resample] iter 50:   0.7799147   0.7628676   \n",
      "[Resample] iter 51:   0.7798830   0.8265583   \n",
      "[Resample] iter 52:   0.7797513   0.7985740   \n",
      "[Resample] iter 53:   0.7796174   0.7076412   \n",
      "[Resample] iter 54:   0.7800188   0.6652807   \n",
      "[Resample] iter 55:   0.7784736   0.8322368   \n",
      "[Resample] iter 56:   0.7788657   0.7767857   \n",
      "[Resample] iter 57:   0.7787283   0.8225000   \n",
      "[Resample] iter 58:   0.7804858   0.7452575   \n",
      "[Resample] iter 59:   0.7801205   0.6711230   \n",
      "[Resample] iter 60:   0.7795406   0.7575758   \n",
      "[Resample] iter 61:   0.7787670   0.8391608   \n",
      "[Resample] iter 62:   0.7790440   0.7500000   \n",
      "[Resample] iter 63:   0.7791260   0.7933333   \n",
      "[Resample] iter 64:   0.7782684   0.8057143   \n",
      "[Resample] iter 65:   0.7809797   0.7715618   \n",
      "[Resample] iter 66:   0.7801357   0.6223776   \n",
      "[Resample] iter 67:   0.7810071   0.6457143   \n",
      "[Resample] iter 68:   0.7800705   0.8005952   \n",
      "[Resample] iter 69:   0.7795136   0.8035714   \n",
      "[Resample] iter 70:   0.7798808   0.7828947   \n",
      "[Resample] iter 71:   0.7801312   0.6812500   \n",
      "[Resample] iter 72:   0.7820500   0.6746032   \n",
      "[Resample] iter 73:   0.7797233   0.8861789   \n",
      "[Resample] iter 74:   0.7802420   0.8075000   \n",
      "[Resample] iter 75:   0.7800350   0.9050000   \n",
      "[Resample] iter 76:   0.7809214   0.6398601   \n",
      "[Resample] iter 77:   0.7782505   0.7750678   \n",
      "[Resample] iter 78:   0.7789009   0.8065268   \n",
      "[Resample] iter 79:   0.7797662   0.8115079   \n",
      "[Resample] iter 80:   0.7792342   0.8333333   \n",
      "[Resample] iter 81:   0.7784548   0.8750000   \n",
      "[Resample] iter 82:   0.7787006   0.7785088   \n",
      "[Resample] iter 83:   0.7802203   0.6847426   \n",
      "[Resample] iter 84:   0.7792197   0.7956349   \n",
      "[Resample] iter 85:   0.7803645   0.5974265   \n",
      "[Resample] iter 86:   0.7804683   0.8048246   \n",
      "[Resample] iter 87:   0.7801510   0.7961905   \n",
      "[Resample] iter 88:   0.7776173   0.8780952   \n",
      "[Resample] iter 89:   0.7789604   0.8253968   \n",
      "[Resample] iter 90:   0.7792702   0.8198529   \n",
      "[Resample] iter 91:   0.7796183   0.8313492   \n",
      "[Resample] iter 92:   0.7804944   0.7575000   \n",
      "[Resample] iter 93:   0.7794053   0.7692308   \n",
      "[Resample] iter 94:   0.7806279   0.6753472   \n",
      "[Resample] iter 95:   0.7805664   0.9122807   \n",
      "[Resample] iter 96:   0.7808833   0.6269841   \n",
      "[Resample] iter 97:   0.7792266   0.7700000   \n",
      "[Resample] iter 98:   0.7813985   0.6381579   \n",
      "[Resample] iter 99:   0.7796773   0.7800000   \n",
      "[Resample] iter 100:  0.7810481   0.8065476   \n",
      "[Resample] iter 101:  0.7799329   0.8750000   \n",
      "[Resample] iter 102:  0.7783465   0.8353175   \n",
      "[Resample] iter 103:  0.7805388   0.8200000   \n",
      "[Resample] iter 104:  0.7805319   0.8322368   \n",
      "[Resample] iter 105:  0.7796251   0.7641196   \n",
      "[Resample] iter 106:  0.7804672   0.8679834   \n",
      "[Resample] iter 107:  0.7792980   0.8650794   \n",
      "[Resample] iter 108:  0.7801306   0.7708333   \n",
      "[Resample] iter 109:  0.7791818   0.8048246   \n",
      "[Resample] iter 110:  0.7794988   0.7674024   \n",
      "[Resample] iter 111:  0.7799969   0.7422037   \n",
      "[Resample] iter 112:  0.7786620   0.8782895   \n",
      "[Resample] iter 113:  0.7804691   0.6524123   \n",
      "[Resample] iter 114:  0.7794665   0.7723577   \n",
      "[Resample] iter 115:  0.7795107   0.8750000   \n",
      "[Resample] iter 116:  0.7814157   0.6557018   \n",
      "[Resample] iter 117:  0.7810243   0.8232848   \n",
      "[Resample] iter 118:  0.7792701   0.9108734   \n",
      "[Resample] iter 119:  0.7800988   0.7994580   \n",
      "[Resample] iter 120:  0.7808669   0.6805556   \n",
      "[Resample] iter 121:  0.7787717   0.8775000   \n",
      "[Resample] iter 122:  0.7803823   0.8035343   \n",
      "[Resample] iter 123:  0.7793791   0.8371212   \n",
      "[Resample] iter 124:  0.7810572   0.7886905   \n",
      "[Resample] iter 125:  0.7803458   0.8466667   \n",
      "[Resample] iter 126:  0.7804485   0.7420635   \n",
      "[Resample] iter 127:  0.7801982   0.7481061   \n",
      "[Resample] iter 128:  0.7807573   0.8771930   \n",
      "[Resample] iter 129:  0.7792579   0.8425000   \n",
      "[Resample] iter 130:  0.7796984   0.7554825   \n",
      "[Resample] iter 131:  0.7797269   0.7083333   \n",
      "[Resample] iter 132:  0.7793324   0.7972028   \n",
      "[Resample] iter 133:  0.7789897   0.7941176   \n",
      "[Resample] iter 134:  0.7810471   0.7341270   \n",
      "[Resample] iter 135:  0.7794887   0.8960499   \n",
      "[Resample] iter 136:  0.7799877   0.8025000   \n",
      "[Resample] iter 137:  0.7805210   0.7767857   \n",
      "[Resample] iter 138:  0.7800589   0.8630952   \n",
      "[Resample] iter 139:  0.7803939   0.6815476   \n",
      "[Resample] iter 140:  0.7795136   0.7285714   \n",
      "[Resample] iter 141:  0.7807892   0.7674024   \n",
      "[Resample] iter 142:  0.7785532   0.8519814   \n",
      "[Resample] iter 143:  0.7801738   0.8730159   \n",
      "[Resample] iter 144:  0.7788623   0.7873754   \n",
      "[Resample] iter 145:  0.7785599   0.7938596   \n",
      "[Resample] iter 146:  0.7799190   0.5622222   \n",
      "[Resample] iter 147:  0.7779530   0.8112500   \n",
      "[Resample] iter 148:  0.7793171   0.9155702   \n",
      "[Resample] iter 149:  0.7808670   0.7542857   \n",
      "[Resample] iter 150:  0.7814144   0.6856369   \n",
      "[Resample] iter 151:  0.7800503   0.7159091   \n",
      "[Resample] iter 152:  0.7797256   0.8438095   \n",
      "[Resample] iter 153:  0.7812231   0.6876457   \n",
      "[Resample] iter 154:  0.7797458   0.8662281   \n",
      "[Resample] iter 155:  0.7787356   0.8346883   \n",
      "[Resample] iter 156:  0.7811441   0.6765873   \n",
      "[Resample] iter 157:  0.7808166   0.5519751   \n",
      "[Resample] iter 158:  0.7795288   0.8143631   \n",
      "[Resample] iter 159:  0.7803120   0.8368298   \n",
      "[Resample] iter 160:  0.7804043   0.8484848   \n",
      "[Resample] iter 161:  0.7805892   0.7022059   \n",
      "[Resample] iter 162:  0.7792562   0.8421927   \n",
      "[Resample] iter 163:  0.7805191   0.8265583   \n",
      "[Resample] iter 164:  0.7801340   0.7818428   \n",
      "[Resample] iter 165:  0.7812055   0.6650000   \n",
      "[Resample] iter 166:  0.7796226   0.7622378   \n"
     ]
    },
    {
     "name": "stderr",
     "output_type": "stream",
     "text": [
      "[Resample] iter 167:  0.7795247   0.8511905   \n",
      "[Resample] iter 168:  0.7797054   0.8247619   \n",
      "[Resample] iter 169:  0.7805962   0.6902287   \n",
      "[Resample] iter 170:  0.7790625   0.8711019   \n",
      "[Resample] iter 171:  0.7792775   0.7885714   \n",
      "[Resample] iter 172:  0.7794620   0.8650794   \n",
      "[Resample] iter 173:  0.7797772   0.8536585   \n",
      "[Resample] iter 174:  0.7803152   0.7408088   \n",
      "[Resample] iter 175:  0.7801734   0.7095238   \n",
      "[Resample] iter 176:  0.7808479   0.6686508   \n",
      "[Resample] iter 177:  0.7789838   0.8245614   \n",
      "[Resample] iter 178:  0.7807959   0.6652807   \n",
      "[Resample] iter 179:  0.7797614   0.7318087   \n",
      "[Resample] iter 180:  0.7795793   0.8898129   \n",
      "[Resample] iter 181:  0.7793864   0.8694639   \n",
      "[Resample] iter 182:  0.7798184   0.8674242   \n",
      "[Resample] iter 183:  0.7805474   0.7950089   \n",
      "[Resample] iter 184:  0.7818930   0.6765873   \n",
      "[Resample] iter 185:  0.7784806   0.8175000   \n",
      "[Resample] iter 186:  0.7788528   0.7842262   \n",
      "[Resample] iter 187:  0.7807620   0.6562500   \n",
      "[Resample] iter 188:  0.7796514   0.7425474   \n",
      "[Resample] iter 189:  0.7791554   0.7505198   \n",
      "[Resample] iter 190:  0.7795245   0.7349272   \n",
      "[Resample] iter 191:  0.7797590   0.7914286   \n",
      "[Resample] iter 192:  0.7810749   0.6715177   \n",
      "[Resample] iter 193:  0.7812389   0.7086247   \n",
      "[Resample] iter 194:  0.7796989   0.9020979   \n",
      "[Resample] iter 195:  0.7806330   0.7476190   \n",
      "[Resample] iter 196:  0.7795296   0.6544850   \n",
      "[Resample] iter 197:  0.7804013   0.8128898   \n",
      "[Resample] iter 198:  0.7799477   0.7982456   \n",
      "[Resample] iter 199:  0.7789644   0.8048246   \n",
      "[Resample] iter 200:  0.7821206   0.6806527   \n",
      "\n",
      "\n",
      "Aggregated Result: auc.test.mean=0.7733586,auc.train.mean=0.7799042\n",
      "\n",
      "\n"
     ]
    }
   ],
   "source": [
    "# Set up cross-validation\n",
    "rdesc = makeResampleDesc(\"CV\", iters=200, predict=\"both\")\n",
    "\n",
    "# Define the model\n",
    "learner <- makeLearner(\"classif.ada\", predict.type=\"prob\", fix.factors.prediction=T)\n",
    "\n",
    "# Define the task\n",
    "train_task <- makeClassifTask(id=\"accepts_proce\", data=accepts_proce[, -1], target=\"Default_45\")\n",
    "\n",
    "# Set hyper parameter tuning\n",
    "tune_params <- makeParamSet(\n",
    ")\n",
    "ctrl = makeTuneControlGrid()\n",
    "\n",
    "# Run the hyper parameter tuning with k-fold CV\n",
    "if (length(tune_params$pars) > 0) {\n",
    "    # Run parameter tuning\n",
    "    res <- tuneParams(learner, task=train_task, resampling=rdesc,\n",
    "      par.set=tune_params, control=ctrl, measures=list(mlr::auc))\n",
    "    \n",
    "    # Extract best model\n",
    "    best_learner <- res$learner\n",
    "    \n",
    "} else {\n",
    "    # Simple cross-validation\n",
    "    res <- resample(learner, train_task, rdesc, measures=list(mlr::auc, setAggregation(mlr::auc, train.mean)))\n",
    "    \n",
    "    # No parameter for tuning, only 1 best learner\n",
    "    best_learner <- learner\n",
    "}"
   ]
  },
  {
   "cell_type": "markdown",
   "metadata": {},
   "source": [
    "### Logistic Regression "
   ]
  },
  {
   "cell_type": "code",
   "execution_count": 45,
   "metadata": {},
   "outputs": [
    {
     "name": "stderr",
     "output_type": "stream",
     "text": [
      "Warning message in makeTask(type = type, data = data, weights = weights, blocking = blocking, :\n",
      "\"Empty factor levels were dropped for columns: FICO_Score_binned,V5_binned,Business_channel_binned,Age_binned,V6_binned,V1_binned,V4_binned,V3_binned,V7_binned,V8_binned,V2_binned,Loan_amount_binned,Monthly_income_binned\"Resampling: cross-validation\n",
      "Measures:             auc.train   auc.test    \n",
      "[Resample] iter 1:    0.7776789   0.8161765   \n",
      "[Resample] iter 2:    0.7782822   0.7258772   \n",
      "[Resample] iter 3:    0.7775635   0.8531746   \n",
      "[Resample] iter 4:    0.7780710   0.7763158   \n",
      "[Resample] iter 5:    0.7780992   0.7692308   \n",
      "[Resample] iter 6:    0.7780911   0.7525988   \n",
      "[Resample] iter 7:    0.7777468   0.8019048   \n",
      "[Resample] iter 8:    0.7782788   0.7167832   \n",
      "[Resample] iter 9:    0.7781818   0.7261905   \n",
      "[Resample] iter 10:   0.7784276   0.6756757   \n",
      "[Resample] iter 11:   0.7778523   0.8070175   \n",
      "[Resample] iter 12:   0.7773185   0.9349593   \n",
      "[Resample] iter 13:   0.7782923   0.7149123   \n",
      "[Resample] iter 14:   0.7776883   0.8368298   \n",
      "[Resample] iter 15:   0.7779573   0.7803030   \n",
      "[Resample] iter 16:   0.7780835   0.7723810   \n",
      "[Resample] iter 17:   0.7774460   0.9250000   \n",
      "[Resample] iter 18:   0.7782874   0.7149123   \n",
      "[Resample] iter 19:   0.7783187   0.6829268   \n",
      "[Resample] iter 20:   0.7778673   0.7857143   \n",
      "[Resample] iter 21:   0.7784927   0.6361746   \n",
      "[Resample] iter 22:   0.7784156   0.6577381   \n",
      "[Resample] iter 23:   0.7773323   0.9475000   \n",
      "[Resample] iter 24:   0.7779628   0.7875000   \n",
      "[Resample] iter 25:   0.7776441   0.8403263   \n",
      "[Resample] iter 26:   0.7777088   0.8128342   \n",
      "[Resample] iter 27:   0.7780148   0.7575758   \n",
      "[Resample] iter 28:   0.7783027   0.7062937   \n",
      "[Resample] iter 29:   0.7776374   0.8578089   \n",
      "[Resample] iter 30:   0.7784896   0.6907895   \n",
      "[Resample] iter 31:   0.7778033   0.8065954   \n",
      "[Resample] iter 32:   0.7776644   0.8338870   \n",
      "[Resample] iter 33:   0.7780004   0.7837302   \n",
      "[Resample] iter 34:   0.7777036   0.8149688   \n",
      "[Resample] iter 35:   0.7775930   0.8552632   \n",
      "[Resample] iter 36:   0.7787267   0.6060606   \n",
      "[Resample] iter 37:   0.7779881   0.7631579   \n",
      "[Resample] iter 38:   0.7781483   0.7359667   \n",
      "[Resample] iter 39:   0.7782433   0.7254902   \n",
      "[Resample] iter 40:   0.7785052   0.6622807   \n",
      "[Resample] iter 41:   0.7783787   0.6700000   \n",
      "[Resample] iter 42:   0.7785428   0.6808149   \n",
      "[Resample] iter 43:   0.7788747   0.6470588   \n",
      "[Resample] iter 44:   0.7784063   0.7175000   \n",
      "[Resample] iter 45:   0.7778780   0.7707641   \n",
      "[Resample] iter 46:   0.7768778   0.9466667   \n",
      "[Resample] iter 47:   0.7783372   0.6975000   \n",
      "[Resample] iter 48:   0.7775638   0.8533333   \n",
      "[Resample] iter 49:   0.7774820   0.8768382   \n",
      "[Resample] iter 50:   0.7774182   0.9024390   \n",
      "[Resample] iter 51:   0.7778608   0.8065268   \n",
      "[Resample] iter 52:   0.7776122   0.8472222   \n",
      "[Resample] iter 53:   0.7781550   0.7452575   \n",
      "[Resample] iter 54:   0.7780807   0.7588358   \n",
      "[Resample] iter 55:   0.7779404   0.7995338   \n",
      "[Resample] iter 56:   0.7787411   0.6317016   \n",
      "[Resample] iter 57:   0.7781178   0.7425000   \n",
      "[Resample] iter 58:   0.7780540   0.7665441   \n",
      "[Resample] iter 59:   0.7781534   0.7398374   \n",
      "[Resample] iter 60:   0.7776699   0.8342857   \n",
      "[Resample] iter 61:   0.7780031   0.7234848   \n",
      "[Resample] iter 62:   0.7780714   0.7629938   \n",
      "[Resample] iter 63:   0.7784855   0.6720143   \n",
      "[Resample] iter 64:   0.7782932   0.7410714   \n",
      "[Resample] iter 65:   0.7775491   0.8881579   \n",
      "[Resample] iter 66:   0.7774141   0.9166667   \n",
      "[Resample] iter 67:   0.7776482   0.8342857   \n",
      "[Resample] iter 68:   0.7785136   0.6756757   \n",
      "[Resample] iter 69:   0.7786371   0.6456876   \n",
      "[Resample] iter 70:   0.7777517   0.8401084   \n",
      "[Resample] iter 71:   0.7784919   0.6750000   \n",
      "[Resample] iter 72:   0.7787260   0.5718157   \n",
      "[Resample] iter 73:   0.7783546   0.6458333   \n",
      "[Resample] iter 74:   0.7777682   0.8482143   \n",
      "[Resample] iter 75:   0.7774951   0.8834688   \n",
      "[Resample] iter 76:   0.7775830   0.8750000   \n",
      "[Resample] iter 77:   0.7782634   0.7086247   \n",
      "[Resample] iter 78:   0.7781320   0.7142857   \n",
      "[Resample] iter 79:   0.7782766   0.7400794   \n",
      "[Resample] iter 80:   0.7776601   0.8509485   \n",
      "[Resample] iter 81:   0.7784918   0.6713287   \n",
      "[Resample] iter 82:   0.7782731   0.7150000   \n",
      "[Resample] iter 83:   0.7779331   0.7827381   \n",
      "[Resample] iter 84:   0.7786776   0.6533333   \n",
      "[Resample] iter 85:   0.7781969   0.7359667   \n",
      "[Resample] iter 86:   0.7785456   0.6800000   \n",
      "[Resample] iter 87:   0.7782164   0.7276190   \n",
      "[Resample] iter 88:   0.7776821   0.8245614   \n",
      "[Resample] iter 89:   0.7776340   0.8263889   \n",
      "[Resample] iter 90:   0.7777247   0.8578089   \n",
      "[Resample] iter 91:   0.7774546   0.8552381   \n",
      "[Resample] iter 92:   0.7779085   0.8048246   \n",
      "[Resample] iter 93:   0.7783709   0.7200000   \n",
      "[Resample] iter 94:   0.7773772   0.8974359   \n",
      "[Resample] iter 95:   0.7777600   0.8289474   \n",
      "[Resample] iter 96:   0.7782119   0.7275000   \n",
      "[Resample] iter 97:   0.7782181   0.7400000   \n",
      "[Resample] iter 98:   0.7774873   0.8684211   \n",
      "[Resample] iter 99:   0.7780291   0.7648810   \n",
      "[Resample] iter 100:  0.7785712   0.6327986   \n",
      "[Resample] iter 101:  0.7777647   0.8050000   \n",
      "[Resample] iter 102:  0.7778772   0.8272425   \n",
      "[Resample] iter 103:  0.7780428   0.7634033   \n",
      "[Resample] iter 104:  0.7776542   0.9090909   \n",
      "[Resample] iter 105:  0.7780887   0.7960526   \n",
      "[Resample] iter 106:  0.7782859   0.6856369   \n",
      "[Resample] iter 107:  0.7771778   0.9226190   \n",
      "[Resample] iter 108:  0.7781722   0.7942857   \n",
      "[Resample] iter 109:  0.7780954   0.7648810   \n",
      "[Resample] iter 110:  0.7777886   0.8253638   \n",
      "[Resample] iter 111:  0.7781971   0.7232598   \n",
      "[Resample] iter 112:  0.7774383   0.8918919   \n",
      "[Resample] iter 113:  0.7778809   0.8039216   \n",
      "[Resample] iter 114:  0.7780204   0.7588358   \n",
      "[Resample] iter 115:  0.7780884   0.7733888   \n",
      "[Resample] iter 116:  0.7786410   0.5049834   \n",
      "[Resample] iter 117:  0.7772162   0.8805704   \n",
      "[Resample] iter 118:  0.7781865   0.7280702   \n",
      "[Resample] iter 119:  0.7783814   0.7361111   \n",
      "[Resample] iter 120:  0.7774936   0.9733333   \n",
      "[Resample] iter 121:  0.7787578   0.6070461   \n",
      "[Resample] iter 122:  0.7774594   0.9050000   \n",
      "[Resample] iter 123:  0.7786929   0.6271930   \n",
      "[Resample] iter 124:  0.7773032   0.9044289   \n",
      "[Resample] iter 125:  0.7774828   0.8731809   \n",
      "[Resample] iter 126:  0.7774229   0.8787879   \n",
      "[Resample] iter 127:  0.7790292   0.5614035   \n",
      "[Resample] iter 128:  0.7778709   0.8075000   \n",
      "[Resample] iter 129:  0.7789989   0.5987526   \n",
      "[Resample] iter 130:  0.7785352   0.6607143   \n",
      "[Resample] iter 131:  0.7779901   0.8214286   \n",
      "[Resample] iter 132:  0.7779202   0.8355556   \n",
      "[Resample] iter 133:  0.7778428   0.7794118   \n",
      "[Resample] iter 134:  0.7785972   0.6409214   \n",
      "[Resample] iter 135:  0.7778611   0.7607973   \n",
      "[Resample] iter 136:  0.7779442   0.7648810   \n",
      "[Resample] iter 137:  0.7779477   0.7615176   \n",
      "[Resample] iter 138:  0.7774248   0.9032738   \n",
      "[Resample] iter 139:  0.7771780   0.9146825   \n",
      "[Resample] iter 140:  0.7781487   0.7318087   \n",
      "[Resample] iter 141:  0.7789431   0.6112266   \n",
      "[Resample] iter 142:  0.7776245   0.8554779   \n",
      "[Resample] iter 143:  0.7783665   0.7316176   \n",
      "[Resample] iter 144:  0.7783968   0.6893382   \n",
      "[Resample] iter 145:  0.7773536   0.9158004   \n",
      "[Resample] iter 146:  0.7785445   0.6383701   \n",
      "[Resample] iter 147:  0.7786066   0.6375291   \n",
      "[Resample] iter 148:  0.7784036   0.6675000   \n",
      "[Resample] iter 149:  0.7783166   0.7180952   \n",
      "[Resample] iter 150:  0.7777265   0.8235294   \n",
      "[Resample] iter 151:  0.7779078   0.7916667   \n",
      "[Resample] iter 152:  0.7778057   0.8070175   \n",
      "[Resample] iter 153:  0.7776423   0.8807588   \n",
      "[Resample] iter 154:  0.7779152   0.8043478   \n",
      "[Resample] iter 155:  0.7781473   0.7525000   \n",
      "[Resample] iter 156:  0.7778268   0.8018648   \n",
      "[Resample] iter 157:  0.7781375   0.7236842   \n",
      "[Resample] iter 158:  0.7778574   0.8115079   \n",
      "[Resample] iter 159:  0.7775987   0.8486842   \n",
      "[Resample] iter 160:  0.7779922   0.7789661   \n",
      "[Resample] iter 161:  0.7776012   0.8440748   \n",
      "[Resample] iter 162:  0.7777004   0.8687500   \n",
      "[Resample] iter 163:  0.7781596   0.7569444   \n",
      "[Resample] iter 164:  0.7786127   0.6585366   \n",
      "[Resample] iter 165:  0.7778461   0.8157182   \n",
      "[Resample] iter 166:  0.7778005   0.7941788   \n"
     ]
    },
    {
     "name": "stderr",
     "output_type": "stream",
     "text": [
      "[Resample] iter 167:  0.7774343   0.8861789   \n",
      "[Resample] iter 168:  0.7780808   0.7500000   \n",
      "[Resample] iter 169:  0.7779570   0.7658730   \n",
      "[Resample] iter 170:  0.7779986   0.7647059   \n",
      "[Resample] iter 171:  0.7775683   0.8438095   \n",
      "[Resample] iter 172:  0.7775861   0.8675000   \n",
      "[Resample] iter 173:  0.7778627   0.7827381   \n",
      "[Resample] iter 174:  0.7784376   0.6825000   \n",
      "[Resample] iter 175:  0.7777601   0.8373984   \n",
      "[Resample] iter 176:  0.7777558   0.8075000   \n",
      "[Resample] iter 177:  0.7776608   0.9280303   \n",
      "[Resample] iter 178:  0.7777948   0.8026316   \n",
      "[Resample] iter 179:  0.7780263   0.7925408   \n",
      "[Resample] iter 180:  0.7779088   0.8018648   \n",
      "[Resample] iter 181:  0.7784474   0.6759907   \n",
      "[Resample] iter 182:  0.7775904   0.8621324   \n",
      "[Resample] iter 183:  0.7776849   0.8452381   \n",
      "[Resample] iter 184:  0.7788789   0.4223485   \n",
      "[Resample] iter 185:  0.7786252   0.6448413   \n",
      "[Resample] iter 186:  0.7777273   0.8033088   \n",
      "[Resample] iter 187:  0.7774671   0.8859649   \n",
      "[Resample] iter 188:  0.7778434   0.8004386   \n",
      "[Resample] iter 189:  0.7779848   0.7560976   \n",
      "[Resample] iter 190:  0.7787356   0.6448413   \n",
      "[Resample] iter 191:  0.7779053   0.7750678   \n",
      "[Resample] iter 192:  0.7776383   0.8289474   \n",
      "[Resample] iter 193:  0.7780756   0.7640333   \n",
      "[Resample] iter 194:  0.7777843   0.8111888   \n",
      "[Resample] iter 195:  0.7777817   0.8378378   \n",
      "[Resample] iter 196:  0.7779216   0.7941176   \n",
      "[Resample] iter 197:  0.7771511   0.9265873   \n",
      "[Resample] iter 198:  0.7775957   0.8571429   \n",
      "[Resample] iter 199:  0.7776072   0.8531469   \n",
      "[Resample] iter 200:  0.7790402   0.5614035   \n",
      "\n",
      "\n",
      "Aggregated Result: auc.test.mean=0.7735603,auc.train.mean=0.7779949\n",
      "\n",
      "\n"
     ]
    }
   ],
   "source": [
    "# Set up cross-validation\n",
    "rdesc = makeResampleDesc(\"CV\", iters=200, predict=\"both\")\n",
    "\n",
    "# Define the model\n",
    "learner <- makeLearner(\"classif.logreg\", predict.type=\"prob\", fix.factors.prediction=T)\n",
    "\n",
    "# Define the task\n",
    "train_task <- makeClassifTask(id=\"accepts_proce\", data=accepts_proce[, -1], target=\"Default_45\")\n",
    "\n",
    "# Set hyper parameter tuning\n",
    "tune_params <- makeParamSet(\n",
    ")\n",
    "ctrl = makeTuneControlGrid()\n",
    "\n",
    "# Run the hyper parameter tuning with k-fold CV\n",
    "if (length(tune_params$pars) > 0) {\n",
    "    # Run parameter tuning\n",
    "    res <- tuneParams(learner, task=train_task, resampling=rdesc,\n",
    "      par.set=tune_params, control=ctrl, measures=list(mlr::auc))\n",
    "    \n",
    "    # Extract best model\n",
    "    best_learner <- res$learner\n",
    "    \n",
    "} else {\n",
    "    # Simple cross-validation\n",
    "    res <- resample(learner, train_task, rdesc, measures=list(mlr::auc, setAggregation(mlr::auc, train.mean)))\n",
    "    \n",
    "    # No parameter for tuning, only 1 best learner\n",
    "    best_learner <- learner\n",
    "}"
   ]
  },
  {
   "cell_type": "code",
   "execution_count": 46,
   "metadata": {},
   "outputs": [],
   "source": [
    "# Retrain the model with tbe best hyper-parameters\n",
    "best_md <- mlr::train(best_learner, train_task)"
   ]
  },
  {
   "cell_type": "code",
   "execution_count": 47,
   "metadata": {},
   "outputs": [
    {
     "data": {
      "text/plain": [
       "Prediction: 5000 observations\n",
       "predict.type: prob\n",
       "threshold: 0=0.50,1=0.50\n",
       "time: 0.01\n",
       "     prob.0     prob.1 response\n",
       "1 0.6009948 0.39900522        0\n",
       "2 0.9843564 0.01564363        0\n",
       "3 0.9774504 0.02254959        0\n",
       "4 0.3693418 0.63065824        1\n",
       "5 0.9480154 0.05198463        0\n",
       "6 0.9323074 0.06769259        0\n",
       "... (#rows: 5000, #cols: 3)"
      ]
     },
     "metadata": {},
     "output_type": "display_data"
    }
   ],
   "source": [
    "# Make prediction on test data\n",
    "pred <- predict(best_md, newdata=rejects_proce[, -1])\n",
    "pred"
   ]
  },
  {
   "cell_type": "markdown",
   "metadata": {},
   "source": [
    "Once the the probabilities of default for the rejects dataset has been estimated in the previous step (prob.1), it is necessary to calculate a probability threshold in order to be able to define the class od each client, in this case, 1 = Default and 0 = No Default.\n",
    "\n",
    "Assuming that we want to have a 20% of rejection from new clients, we obtain the cutoff probability by using quantile() function, which gives us a cutoff of 0.3531. From this, now we are able to obtain the label (Default or No Default) for the customer in rejects dataset. "
   ]
  },
  {
   "cell_type": "code",
   "execution_count": 54,
   "metadata": {},
   "outputs": [
    {
     "data": {
      "text/html": [
       "<strong>80%:</strong> 0.353127810425133"
      ],
      "text/latex": [
       "\\textbf{80\\textbackslash{}\\%:} 0.353127810425133"
      ],
      "text/markdown": [
       "**80%:** 0.353127810425133"
      ],
      "text/plain": [
       "      80% \n",
       "0.3531278 "
      ]
     },
     "metadata": {},
     "output_type": "display_data"
    }
   ],
   "source": [
    "# Defining a cutoff based on 20% rejection credit strategy  \n",
    "cutoff <- quantile(pred$data$prob.1, 0.8)\n",
    "cutoff\n",
    "\n",
    "# Creating target variable (Default_45)\n",
    "Default_45 <- ifelse(pred$data$prob.1 > cutoff, 1, 0)\n",
    "\n",
    "# Stacking rejects dataset with target variable (Default_45) created in the previous step\n",
    "rejects_label <- cbind(rejects_proce, Default_45)"
   ]
  },
  {
   "cell_type": "code",
   "execution_count": 55,
   "metadata": {},
   "outputs": [
    {
     "data": {
      "text/html": [
       "<style>\n",
       ".list-inline {list-style: none; margin:0; padding: 0}\n",
       ".list-inline>li {display: inline-block}\n",
       ".list-inline>li:not(:last-child)::after {content: \"\\00b7\"; padding: 0 .5ex}\n",
       "</style>\n",
       "<ol class=list-inline><li>'ID'</li><li>'FICO_Score_binned'</li><li>'V5_binned'</li><li>'Business_channel_binned'</li><li>'Age_binned'</li><li>'V6_binned'</li><li>'V1_binned'</li><li>'V4_binned'</li><li>'V3_binned'</li><li>'V7_binned'</li><li>'V8_binned'</li><li>'V2_binned'</li><li>'Loan_amount_binned'</li><li>'Monthly_income_binned'</li><li>'Default_45'</li></ol>\n"
      ],
      "text/latex": [
       "\\begin{enumerate*}\n",
       "\\item 'ID'\n",
       "\\item 'FICO\\_Score\\_binned'\n",
       "\\item 'V5\\_binned'\n",
       "\\item 'Business\\_channel\\_binned'\n",
       "\\item 'Age\\_binned'\n",
       "\\item 'V6\\_binned'\n",
       "\\item 'V1\\_binned'\n",
       "\\item 'V4\\_binned'\n",
       "\\item 'V3\\_binned'\n",
       "\\item 'V7\\_binned'\n",
       "\\item 'V8\\_binned'\n",
       "\\item 'V2\\_binned'\n",
       "\\item 'Loan\\_amount\\_binned'\n",
       "\\item 'Monthly\\_income\\_binned'\n",
       "\\item 'Default\\_45'\n",
       "\\end{enumerate*}\n"
      ],
      "text/markdown": [
       "1. 'ID'\n",
       "2. 'FICO_Score_binned'\n",
       "3. 'V5_binned'\n",
       "4. 'Business_channel_binned'\n",
       "5. 'Age_binned'\n",
       "6. 'V6_binned'\n",
       "7. 'V1_binned'\n",
       "8. 'V4_binned'\n",
       "9. 'V3_binned'\n",
       "10. 'V7_binned'\n",
       "11. 'V8_binned'\n",
       "12. 'V2_binned'\n",
       "13. 'Loan_amount_binned'\n",
       "14. 'Monthly_income_binned'\n",
       "15. 'Default_45'\n",
       "\n",
       "\n"
      ],
      "text/plain": [
       " [1] \"ID\"                      \"FICO_Score_binned\"      \n",
       " [3] \"V5_binned\"               \"Business_channel_binned\"\n",
       " [5] \"Age_binned\"              \"V6_binned\"              \n",
       " [7] \"V1_binned\"               \"V4_binned\"              \n",
       " [9] \"V3_binned\"               \"V7_binned\"              \n",
       "[11] \"V8_binned\"               \"V2_binned\"              \n",
       "[13] \"Loan_amount_binned\"      \"Monthly_income_binned\"  \n",
       "[15] \"Default_45\"             "
      ]
     },
     "metadata": {},
     "output_type": "display_data"
    },
    {
     "data": {
      "text/html": [
       "<style>\n",
       ".list-inline {list-style: none; margin:0; padding: 0}\n",
       ".list-inline>li {display: inline-block}\n",
       ".list-inline>li:not(:last-child)::after {content: \"\\00b7\"; padding: 0 .5ex}\n",
       "</style>\n",
       "<ol class=list-inline><li>'ID'</li><li>'Default_45'</li><li>'FICO_Score_binned'</li><li>'V5_binned'</li><li>'Business_channel_binned'</li><li>'Age_binned'</li><li>'V6_binned'</li><li>'V1_binned'</li><li>'V4_binned'</li><li>'V3_binned'</li><li>'V7_binned'</li><li>'V8_binned'</li><li>'V2_binned'</li><li>'Loan_amount_binned'</li><li>'Monthly_income_binned'</li></ol>\n"
      ],
      "text/latex": [
       "\\begin{enumerate*}\n",
       "\\item 'ID'\n",
       "\\item 'Default\\_45'\n",
       "\\item 'FICO\\_Score\\_binned'\n",
       "\\item 'V5\\_binned'\n",
       "\\item 'Business\\_channel\\_binned'\n",
       "\\item 'Age\\_binned'\n",
       "\\item 'V6\\_binned'\n",
       "\\item 'V1\\_binned'\n",
       "\\item 'V4\\_binned'\n",
       "\\item 'V3\\_binned'\n",
       "\\item 'V7\\_binned'\n",
       "\\item 'V8\\_binned'\n",
       "\\item 'V2\\_binned'\n",
       "\\item 'Loan\\_amount\\_binned'\n",
       "\\item 'Monthly\\_income\\_binned'\n",
       "\\end{enumerate*}\n"
      ],
      "text/markdown": [
       "1. 'ID'\n",
       "2. 'Default_45'\n",
       "3. 'FICO_Score_binned'\n",
       "4. 'V5_binned'\n",
       "5. 'Business_channel_binned'\n",
       "6. 'Age_binned'\n",
       "7. 'V6_binned'\n",
       "8. 'V1_binned'\n",
       "9. 'V4_binned'\n",
       "10. 'V3_binned'\n",
       "11. 'V7_binned'\n",
       "12. 'V8_binned'\n",
       "13. 'V2_binned'\n",
       "14. 'Loan_amount_binned'\n",
       "15. 'Monthly_income_binned'\n",
       "\n",
       "\n"
      ],
      "text/plain": [
       " [1] \"ID\"                      \"Default_45\"             \n",
       " [3] \"FICO_Score_binned\"       \"V5_binned\"              \n",
       " [5] \"Business_channel_binned\" \"Age_binned\"             \n",
       " [7] \"V6_binned\"               \"V1_binned\"              \n",
       " [9] \"V4_binned\"               \"V3_binned\"              \n",
       "[11] \"V7_binned\"               \"V8_binned\"              \n",
       "[13] \"V2_binned\"               \"Loan_amount_binned\"     \n",
       "[15] \"Monthly_income_binned\"  "
      ]
     },
     "metadata": {},
     "output_type": "display_data"
    }
   ],
   "source": [
    "# Verifying column names in both datasets\n",
    "colnames(rejects_label)\n",
    "colnames(accepts_proce)"
   ]
  },
  {
   "cell_type": "markdown",
   "metadata": {},
   "source": [
    "## Rejection Inference "
   ]
  },
  {
   "cell_type": "markdown",
   "metadata": {},
   "source": [
    "Before training the model on the new dataset, a partition in train and test set is made with the accepts dataset. The steps are described in the next two cells.\n",
    "\n",
    "After obtaining the labels in the rejects dataset, Rejection Inference is deployed by stacking accepts train dataset from accepts with rejects dataset. This is done with the purpose of getting a more robust model and improving the ability of identification of defaulters by incorporating rejected customers with an estimated credit behavior."
   ]
  },
  {
   "cell_type": "code",
   "execution_count": 59,
   "metadata": {},
   "outputs": [],
   "source": [
    "# Set seed and create assignment \n",
    "set.seed(1)\n",
    "assignment <- sample(1:2, size = nrow(accepts_proce), prob = c(0.7, 0.30), replace = TRUE)\n",
    "\n",
    "# Creating a train and test from the original dataframe \n",
    "accepts_train <- accepts_proce[assignment == 1, ]  # subset to training indices only\n",
    "accepts_test <- accepts_proce[assignment == 2, ]   # subset to test indices only"
   ]
  },
  {
   "cell_type": "code",
   "execution_count": 64,
   "metadata": {},
   "outputs": [
    {
     "data": {
      "text/html": [
       "<table>\n",
       "<caption>A data.frame: 6 × 15</caption>\n",
       "<thead>\n",
       "\t<tr><th></th><th scope=col>ID</th><th scope=col>FICO_Score_binned</th><th scope=col>V5_binned</th><th scope=col>Business_channel_binned</th><th scope=col>Age_binned</th><th scope=col>V6_binned</th><th scope=col>V1_binned</th><th scope=col>V4_binned</th><th scope=col>V3_binned</th><th scope=col>V7_binned</th><th scope=col>V8_binned</th><th scope=col>V2_binned</th><th scope=col>Loan_amount_binned</th><th scope=col>Monthly_income_binned</th><th scope=col>Default_45</th></tr>\n",
       "\t<tr><th></th><th scope=col>&lt;chr&gt;</th><th scope=col>&lt;fct&gt;</th><th scope=col>&lt;fct&gt;</th><th scope=col>&lt;fct&gt;</th><th scope=col>&lt;fct&gt;</th><th scope=col>&lt;fct&gt;</th><th scope=col>&lt;fct&gt;</th><th scope=col>&lt;fct&gt;</th><th scope=col>&lt;fct&gt;</th><th scope=col>&lt;fct&gt;</th><th scope=col>&lt;fct&gt;</th><th scope=col>&lt;fct&gt;</th><th scope=col>&lt;fct&gt;</th><th scope=col>&lt;fct&gt;</th><th scope=col>&lt;chr&gt;</th></tr>\n",
       "</thead>\n",
       "<tbody>\n",
       "\t<tr><th scope=row>1</th><td>305932</td><td>(-0.825844367,0.2926712821]</td><td>1 + 2        </td><td>1</td><td>(-Inf,0.2086596473]</td><td>misc. level pos. + 5</td><td>misc. level pos. + 3</td><td>misc. level pos. + 4 + 3 + 2</td><td>3 + 10 + misc. level pos.</td><td>1</td><td>1 + misc. level pos.</td><td>5 + 3</td><td>(-0.6764073512,-0.323919846] </td><td>(-0.6873490569,-0.4157392887]</td><td>1</td></tr>\n",
       "\t<tr><th scope=row>2</th><td>305764</td><td>(0.2926712821, Inf]        </td><td>4 + 5 + 6 + 7</td><td>1</td><td>(0.2086596473, Inf]</td><td>4                   </td><td>1 + 2               </td><td>1                           </td><td>11 + misc. level neg.    </td><td>1</td><td>3 + 2               </td><td>4    </td><td>(0.02856765915, Inf]         </td><td>(-0.4157392887, Inf]         </td><td>0</td></tr>\n",
       "\t<tr><th scope=row>3</th><td>305971</td><td>(0.2926712821, Inf]        </td><td>4 + 5 + 6 + 7</td><td>3</td><td>(-Inf,0.2086596473]</td><td>4                   </td><td>1 + 2               </td><td>misc. level pos. + 4 + 3 + 2</td><td>3 + 10 + misc. level pos.</td><td>1</td><td>4                   </td><td>4    </td><td>(-0.8526511038,-0.6764073512]</td><td>(-0.4157392887, Inf]         </td><td>0</td></tr>\n",
       "\t<tr><th scope=row>4</th><td>305664</td><td>(-Inf,-0.825844367]        </td><td>1 + 2        </td><td>1</td><td>(-Inf,0.2086596473]</td><td>misc. level pos. + 5</td><td>1 + 2               </td><td>misc. level pos. + 4 + 3 + 2</td><td>3 + 10 + misc. level pos.</td><td>3</td><td>3 + 2               </td><td>5 + 3</td><td>(-Inf,-0.8526511038]         </td><td>(-0.6873490569,-0.4157392887]</td><td>1</td></tr>\n",
       "\t<tr><th scope=row>5</th><td>305639</td><td>(0.2926712821, Inf]        </td><td>4 + 5 + 6 + 7</td><td>2</td><td>(0.2086596473, Inf]</td><td>4                   </td><td>1 + 2               </td><td>1                           </td><td>3 + 10 + misc. level pos.</td><td>1</td><td>3 + 2               </td><td>4    </td><td>(0.02856765915, Inf]         </td><td>(-0.4157392887, Inf]         </td><td>0</td></tr>\n",
       "\t<tr><th scope=row>6</th><td>305854</td><td>(0.2926712821, Inf]        </td><td>4 + 5 + 6 + 7</td><td>1</td><td>(-Inf,0.2086596473]</td><td>misc. level pos. + 5</td><td>misc. level pos. + 3</td><td>1                           </td><td>3 + 10 + misc. level pos.</td><td>3</td><td>1 + misc. level pos.</td><td>5 + 3</td><td>(0.02856765915, Inf]         </td><td>(-0.6873490569,-0.4157392887]</td><td>0</td></tr>\n",
       "</tbody>\n",
       "</table>\n"
      ],
      "text/latex": [
       "A data.frame: 6 × 15\n",
       "\\begin{tabular}{r|lllllllllllllll}\n",
       "  & ID & FICO\\_Score\\_binned & V5\\_binned & Business\\_channel\\_binned & Age\\_binned & V6\\_binned & V1\\_binned & V4\\_binned & V3\\_binned & V7\\_binned & V8\\_binned & V2\\_binned & Loan\\_amount\\_binned & Monthly\\_income\\_binned & Default\\_45\\\\\n",
       "  & <chr> & <fct> & <fct> & <fct> & <fct> & <fct> & <fct> & <fct> & <fct> & <fct> & <fct> & <fct> & <fct> & <fct> & <chr>\\\\\n",
       "\\hline\n",
       "\t1 & 305932 & (-0.825844367,0.2926712821{]} & 1 + 2         & 1 & (-Inf,0.2086596473{]} & misc. level pos. + 5 & misc. level pos. + 3 & misc. level pos. + 4 + 3 + 2 & 3 + 10 + misc. level pos. & 1 & 1 + misc. level pos. & 5 + 3 & (-0.6764073512,-0.323919846{]}  & (-0.6873490569,-0.4157392887{]} & 1\\\\\n",
       "\t2 & 305764 & (0.2926712821, Inf{]}         & 4 + 5 + 6 + 7 & 1 & (0.2086596473, Inf{]} & 4                    & 1 + 2                & 1                            & 11 + misc. level neg.     & 1 & 3 + 2                & 4     & (0.02856765915, Inf{]}          & (-0.4157392887, Inf{]}          & 0\\\\\n",
       "\t3 & 305971 & (0.2926712821, Inf{]}         & 4 + 5 + 6 + 7 & 3 & (-Inf,0.2086596473{]} & 4                    & 1 + 2                & misc. level pos. + 4 + 3 + 2 & 3 + 10 + misc. level pos. & 1 & 4                    & 4     & (-0.8526511038,-0.6764073512{]} & (-0.4157392887, Inf{]}          & 0\\\\\n",
       "\t4 & 305664 & (-Inf,-0.825844367{]}         & 1 + 2         & 1 & (-Inf,0.2086596473{]} & misc. level pos. + 5 & 1 + 2                & misc. level pos. + 4 + 3 + 2 & 3 + 10 + misc. level pos. & 3 & 3 + 2                & 5 + 3 & (-Inf,-0.8526511038{]}          & (-0.6873490569,-0.4157392887{]} & 1\\\\\n",
       "\t5 & 305639 & (0.2926712821, Inf{]}         & 4 + 5 + 6 + 7 & 2 & (0.2086596473, Inf{]} & 4                    & 1 + 2                & 1                            & 3 + 10 + misc. level pos. & 1 & 3 + 2                & 4     & (0.02856765915, Inf{]}          & (-0.4157392887, Inf{]}          & 0\\\\\n",
       "\t6 & 305854 & (0.2926712821, Inf{]}         & 4 + 5 + 6 + 7 & 1 & (-Inf,0.2086596473{]} & misc. level pos. + 5 & misc. level pos. + 3 & 1                            & 3 + 10 + misc. level pos. & 3 & 1 + misc. level pos. & 5 + 3 & (0.02856765915, Inf{]}          & (-0.6873490569,-0.4157392887{]} & 0\\\\\n",
       "\\end{tabular}\n"
      ],
      "text/markdown": [
       "\n",
       "A data.frame: 6 × 15\n",
       "\n",
       "| <!--/--> | ID &lt;chr&gt; | FICO_Score_binned &lt;fct&gt; | V5_binned &lt;fct&gt; | Business_channel_binned &lt;fct&gt; | Age_binned &lt;fct&gt; | V6_binned &lt;fct&gt; | V1_binned &lt;fct&gt; | V4_binned &lt;fct&gt; | V3_binned &lt;fct&gt; | V7_binned &lt;fct&gt; | V8_binned &lt;fct&gt; | V2_binned &lt;fct&gt; | Loan_amount_binned &lt;fct&gt; | Monthly_income_binned &lt;fct&gt; | Default_45 &lt;chr&gt; |\n",
       "|---|---|---|---|---|---|---|---|---|---|---|---|---|---|---|---|\n",
       "| 1 | 305932 | (-0.825844367,0.2926712821] | 1 + 2         | 1 | (-Inf,0.2086596473] | misc. level pos. + 5 | misc. level pos. + 3 | misc. level pos. + 4 + 3 + 2 | 3 + 10 + misc. level pos. | 1 | 1 + misc. level pos. | 5 + 3 | (-0.6764073512,-0.323919846]  | (-0.6873490569,-0.4157392887] | 1 |\n",
       "| 2 | 305764 | (0.2926712821, Inf]         | 4 + 5 + 6 + 7 | 1 | (0.2086596473, Inf] | 4                    | 1 + 2                | 1                            | 11 + misc. level neg.     | 1 | 3 + 2                | 4     | (0.02856765915, Inf]          | (-0.4157392887, Inf]          | 0 |\n",
       "| 3 | 305971 | (0.2926712821, Inf]         | 4 + 5 + 6 + 7 | 3 | (-Inf,0.2086596473] | 4                    | 1 + 2                | misc. level pos. + 4 + 3 + 2 | 3 + 10 + misc. level pos. | 1 | 4                    | 4     | (-0.8526511038,-0.6764073512] | (-0.4157392887, Inf]          | 0 |\n",
       "| 4 | 305664 | (-Inf,-0.825844367]         | 1 + 2         | 1 | (-Inf,0.2086596473] | misc. level pos. + 5 | 1 + 2                | misc. level pos. + 4 + 3 + 2 | 3 + 10 + misc. level pos. | 3 | 3 + 2                | 5 + 3 | (-Inf,-0.8526511038]          | (-0.6873490569,-0.4157392887] | 1 |\n",
       "| 5 | 305639 | (0.2926712821, Inf]         | 4 + 5 + 6 + 7 | 2 | (0.2086596473, Inf] | 4                    | 1 + 2                | 1                            | 3 + 10 + misc. level pos. | 1 | 3 + 2                | 4     | (0.02856765915, Inf]          | (-0.4157392887, Inf]          | 0 |\n",
       "| 6 | 305854 | (0.2926712821, Inf]         | 4 + 5 + 6 + 7 | 1 | (-Inf,0.2086596473] | misc. level pos. + 5 | misc. level pos. + 3 | 1                            | 3 + 10 + misc. level pos. | 3 | 1 + misc. level pos. | 5 + 3 | (0.02856765915, Inf]          | (-0.6873490569,-0.4157392887] | 0 |\n",
       "\n"
      ],
      "text/plain": [
       "  ID     FICO_Score_binned           V5_binned     Business_channel_binned\n",
       "1 305932 (-0.825844367,0.2926712821] 1 + 2         1                      \n",
       "2 305764 (0.2926712821, Inf]         4 + 5 + 6 + 7 1                      \n",
       "3 305971 (0.2926712821, Inf]         4 + 5 + 6 + 7 3                      \n",
       "4 305664 (-Inf,-0.825844367]         1 + 2         1                      \n",
       "5 305639 (0.2926712821, Inf]         4 + 5 + 6 + 7 2                      \n",
       "6 305854 (0.2926712821, Inf]         4 + 5 + 6 + 7 1                      \n",
       "  Age_binned          V6_binned            V1_binned           \n",
       "1 (-Inf,0.2086596473] misc. level pos. + 5 misc. level pos. + 3\n",
       "2 (0.2086596473, Inf] 4                    1 + 2               \n",
       "3 (-Inf,0.2086596473] 4                    1 + 2               \n",
       "4 (-Inf,0.2086596473] misc. level pos. + 5 1 + 2               \n",
       "5 (0.2086596473, Inf] 4                    1 + 2               \n",
       "6 (-Inf,0.2086596473] misc. level pos. + 5 misc. level pos. + 3\n",
       "  V4_binned                    V3_binned                 V7_binned\n",
       "1 misc. level pos. + 4 + 3 + 2 3 + 10 + misc. level pos. 1        \n",
       "2 1                            11 + misc. level neg.     1        \n",
       "3 misc. level pos. + 4 + 3 + 2 3 + 10 + misc. level pos. 1        \n",
       "4 misc. level pos. + 4 + 3 + 2 3 + 10 + misc. level pos. 3        \n",
       "5 1                            3 + 10 + misc. level pos. 1        \n",
       "6 1                            3 + 10 + misc. level pos. 3        \n",
       "  V8_binned            V2_binned Loan_amount_binned           \n",
       "1 1 + misc. level pos. 5 + 3     (-0.6764073512,-0.323919846] \n",
       "2 3 + 2                4         (0.02856765915, Inf]         \n",
       "3 4                    4         (-0.8526511038,-0.6764073512]\n",
       "4 3 + 2                5 + 3     (-Inf,-0.8526511038]         \n",
       "5 3 + 2                4         (0.02856765915, Inf]         \n",
       "6 1 + misc. level pos. 5 + 3     (0.02856765915, Inf]         \n",
       "  Monthly_income_binned         Default_45\n",
       "1 (-0.6873490569,-0.4157392887] 1         \n",
       "2 (-0.4157392887, Inf]          0         \n",
       "3 (-0.4157392887, Inf]          0         \n",
       "4 (-0.6873490569,-0.4157392887] 1         \n",
       "5 (-0.4157392887, Inf]          0         \n",
       "6 (-0.6873490569,-0.4157392887] 0         "
      ]
     },
     "metadata": {},
     "output_type": "display_data"
    }
   ],
   "source": [
    "# Stacking both datasets (accepts_train and rejects with default label) \n",
    "full <- rbind(rejects_label, accepts_train)\n",
    "head(full)"
   ]
  },
  {
   "cell_type": "markdown",
   "metadata": {},
   "source": [
    "The next step is to fit and test again the selected model (Logistic Regression) on the dataset that incorporates Rejection Inference described above."
   ]
  },
  {
   "cell_type": "markdown",
   "metadata": {},
   "source": [
    "### Logistic Regression 2"
   ]
  },
  {
   "cell_type": "code",
   "execution_count": 65,
   "metadata": {},
   "outputs": [
    {
     "name": "stderr",
     "output_type": "stream",
     "text": [
      "Warning message in makeTask(type = type, data = data, weights = weights, blocking = blocking, :\n",
      "\"Empty factor levels were dropped for columns: FICO_Score_binned,V5_binned,Business_channel_binned,Age_binned,V6_binned,V1_binned,V4_binned,V3_binned,V7_binned,V8_binned,V2_binned,Loan_amount_binned,Monthly_income_binned\"Resampling: cross-validation\n",
      "Measures:             auc.train   auc.test    \n",
      "[Resample] iter 1:    0.8647428   0.8090278   \n",
      "[Resample] iter 2:    0.8643438   0.8822751   \n",
      "[Resample] iter 3:    0.8642648   0.9150327   \n",
      "[Resample] iter 4:    0.8647418   0.8202824   \n",
      "[Resample] iter 5:    0.8641677   0.9114907   \n",
      "[Resample] iter 6:    0.8643834   0.8940972   \n",
      "[Resample] iter 7:    0.8644851   0.8562092   \n",
      "[Resample] iter 8:    0.8645645   0.8563686   \n",
      "[Resample] iter 9:    0.8644436   0.8998145   \n",
      "[Resample] iter 10:   0.8641566   0.9748428   \n",
      "[Resample] iter 11:   0.8643802   0.8776455   \n",
      "[Resample] iter 12:   0.8646972   0.8307453   \n",
      "[Resample] iter 13:   0.8648335   0.8166939   \n",
      "[Resample] iter 14:   0.8645153   0.8544974   \n",
      "[Resample] iter 15:   0.8641836   0.9567308   \n",
      "[Resample] iter 16:   0.8644546   0.8618331   \n",
      "[Resample] iter 17:   0.8644443   0.8589981   \n",
      "[Resample] iter 18:   0.8640580   0.9303977   \n",
      "[Resample] iter 19:   0.8641284   0.9083851   \n",
      "[Resample] iter 20:   0.8641712   0.9595687   \n",
      "[Resample] iter 21:   0.8643712   0.8906250   \n",
      "[Resample] iter 22:   0.8639984   0.9556738   \n",
      "[Resample] iter 23:   0.8648461   0.7855974   \n",
      "[Resample] iter 24:   0.8645028   0.8293269   \n",
      "[Resample] iter 25:   0.8646453   0.8420000   \n",
      "[Resample] iter 26:   0.8646555   0.8224490   \n",
      "[Resample] iter 27:   0.8646696   0.8162879   \n",
      "[Resample] iter 28:   0.8643288   0.8977778   \n",
      "[Resample] iter 29:   0.8645440   0.8436658   \n",
      "[Resample] iter 30:   0.8644869   0.8477905   \n",
      "[Resample] iter 31:   0.8644573   0.8756957   \n",
      "[Resample] iter 32:   0.8653408   0.7433862   \n",
      "[Resample] iter 33:   0.8644439   0.8719852   \n",
      "[Resample] iter 34:   0.8644369   0.8718519   \n",
      "[Resample] iter 35:   0.8643187   0.9097222   \n",
      "[Resample] iter 36:   0.8641068   0.9324128   \n",
      "[Resample] iter 37:   0.8640659   0.9407407   \n",
      "[Resample] iter 38:   0.8646445   0.8431373   \n",
      "[Resample] iter 39:   0.8643925   0.8741135   \n",
      "[Resample] iter 40:   0.8647587   0.7921440   \n",
      "[Resample] iter 41:   0.8645212   0.8633540   \n",
      "[Resample] iter 42:   0.8639106   0.9616402   \n",
      "[Resample] iter 43:   0.8643455   0.8796296   \n",
      "[Resample] iter 44:   0.8636469   0.9971591   \n",
      "[Resample] iter 45:   0.8644334   0.8510911   \n",
      "[Resample] iter 46:   0.8641361   0.9270186   \n",
      "[Resample] iter 47:   0.8644656   0.8757764   \n",
      "[Resample] iter 48:   0.8648274   0.7918367   \n",
      "[Resample] iter 49:   0.8647607   0.7916667   \n",
      "[Resample] iter 50:   0.8642220   0.9331597   \n",
      "[Resample] iter 51:   0.8641652   0.9340278   \n",
      "[Resample] iter 52:   0.8645331   0.8527005   \n",
      "[Resample] iter 53:   0.8641353   0.9037500   \n",
      "[Resample] iter 54:   0.8646457   0.8453159   \n",
      "[Resample] iter 55:   0.8647881   0.7921440   \n",
      "[Resample] iter 56:   0.8651583   0.6816327   \n",
      "[Resample] iter 57:   0.8644085   0.8877841   \n",
      "[Resample] iter 58:   0.8640743   0.9138167   \n",
      "[Resample] iter 59:   0.8647287   0.8156028   \n",
      "[Resample] iter 60:   0.8650512   0.7528642   \n",
      "[Resample] iter 61:   0.8643880   0.8601645   \n",
      "[Resample] iter 62:   0.8649679   0.7272727   \n",
      "[Resample] iter 63:   0.8642287   0.9202128   \n",
      "[Resample] iter 64:   0.8643823   0.9130435   \n",
      "[Resample] iter 65:   0.8641040   0.9536178   \n",
      "[Resample] iter 66:   0.8642942   0.9067103   \n",
      "[Resample] iter 67:   0.8649462   0.7755102   \n",
      "[Resample] iter 68:   0.8645302   0.8540741   \n",
      "[Resample] iter 69:   0.8642771   0.8866667   \n",
      "[Resample] iter 70:   0.8648661   0.7189542   \n",
      "[Resample] iter 71:   0.8650524   0.7798295   \n",
      "[Resample] iter 72:   0.8642052   0.9145963   \n",
      "[Resample] iter 73:   0.8643377   0.9016698   \n",
      "[Resample] iter 74:   0.8646796   0.8540670   \n",
      "[Resample] iter 75:   0.8645473   0.8485237   \n",
      "[Resample] iter 76:   0.8644563   0.8524306   \n",
      "[Resample] iter 77:   0.8645379   0.8682746   \n",
      "[Resample] iter 78:   0.8642857   0.9122596   \n",
      "[Resample] iter 79:   0.8643932   0.8796296   \n",
      "[Resample] iter 80:   0.8644392   0.8693182   \n",
      "[Resample] iter 81:   0.8643209   0.9035250   \n",
      "[Resample] iter 82:   0.8647380   0.8317373   \n",
      "[Resample] iter 83:   0.8646225   0.8461538   \n",
      "[Resample] iter 84:   0.8645676   0.8548148   \n",
      "[Resample] iter 85:   0.8643525   0.8859259   \n",
      "[Resample] iter 86:   0.8644805   0.8696296   \n",
      "[Resample] iter 87:   0.8641457   0.9204545   \n",
      "[Resample] iter 88:   0.8641829   0.9236111   \n",
      "[Resample] iter 89:   0.8645274   0.8612440   \n",
      "[Resample] iter 90:   0.8645530   0.8657938   \n",
      "[Resample] iter 91:   0.8644426   0.8671053   \n",
      "[Resample] iter 92:   0.8647225   0.8142857   \n",
      "[Resample] iter 93:   0.8643230   0.8923611   \n",
      "[Resample] iter 94:   0.8644829   0.8611111   \n",
      "[Resample] iter 95:   0.8642459   0.9131944   \n",
      "[Resample] iter 96:   0.8643882   0.8902116   \n",
      "[Resample] iter 97:   0.8646997   0.8080000   \n",
      "[Resample] iter 98:   0.8641953   0.9656863   \n",
      "[Resample] iter 99:   0.8646174   0.8426813   \n",
      "[Resample] iter 100:  0.8645433   0.8640000   \n",
      "[Resample] iter 101:  0.8643661   0.8849206   \n",
      "[Resample] iter 102:  0.8646518   0.8380952   \n",
      "[Resample] iter 103:  0.8642315   0.9109848   \n",
      "[Resample] iter 104:  0.8641006   0.9460000   \n",
      "[Resample] iter 105:  0.8642825   0.8948864   \n",
      "[Resample] iter 106:  0.8643883   0.8836806   \n",
      "[Resample] iter 107:  0.8641687   0.9254658   \n",
      "[Resample] iter 108:  0.8642936   0.8977778   \n",
      "[Resample] iter 109:  0.8647367   0.7888889   \n",
      "[Resample] iter 110:  0.8646774   0.8305520   \n",
      "[Resample] iter 111:  0.8651735   0.7288360   \n",
      "[Resample] iter 112:  0.8641851   0.9254658   \n",
      "[Resample] iter 113:  0.8646691   0.8059006   \n",
      "[Resample] iter 114:  0.8642472   0.9100000   \n",
      "[Resample] iter 115:  0.8651737   0.7715458   \n",
      "[Resample] iter 116:  0.8647735   0.8214286   \n",
      "[Resample] iter 117:  0.8645048   0.8603175   \n",
      "[Resample] iter 118:  0.8645535   0.8102041   \n",
      "[Resample] iter 119:  0.8651432   0.7420635   \n",
      "[Resample] iter 120:  0.8645062   0.8472222   \n",
      "[Resample] iter 121:  0.8643069   0.9100000   \n",
      "[Resample] iter 122:  0.8649782   0.7421150   \n",
      "[Resample] iter 123:  0.8645274   0.8382353   \n",
      "[Resample] iter 124:  0.8646074   0.8358413   \n",
      "[Resample] iter 125:  0.8648373   0.7912698   \n",
      "[Resample] iter 126:  0.8645766   0.8366013   \n",
      "[Resample] iter 127:  0.8643267   0.8855820   \n",
      "[Resample] iter 128:  0.8644173   0.8664193   \n",
      "[Resample] iter 129:  0.8642358   0.9114583   \n",
      "[Resample] iter 130:  0.8643329   0.8891929   \n",
      "[Resample] iter 131:  0.8642619   0.9709091   \n",
      "[Resample] iter 132:  0.8650123   0.7458256   \n",
      "[Resample] iter 133:  0.8647090   0.7937807   \n",
      "[Resample] iter 134:  0.8644108   0.8755556   \n",
      "[Resample] iter 135:  0.8645070   0.8412698   \n",
      "[Resample] iter 136:  0.8653120   0.7007407   \n",
      "[Resample] iter 137:  0.8647871   0.7253086   \n",
      "[Resample] iter 138:  0.8641524   0.9477124   \n",
      "[Resample] iter 139:  0.8647327   0.8125926   \n",
      "[Resample] iter 140:  0.8644176   0.8687943   \n",
      "[Resample] iter 141:  0.8648741   0.7693878   \n",
      "[Resample] iter 142:  0.8645369   0.8439394   \n",
      "[Resample] iter 143:  0.8642334   0.9500000   \n",
      "[Resample] iter 144:  0.8645246   0.8576389   \n",
      "[Resample] iter 145:  0.8646368   0.8385093   \n",
      "[Resample] iter 146:  0.8644077   0.8841270   \n",
      "[Resample] iter 147:  0.8650364   0.7500000   \n",
      "[Resample] iter 148:  0.8647251   0.8162879   \n",
      "[Resample] iter 149:  0.8643483   0.9016698   \n",
      "[Resample] iter 150:  0.8642063   0.9218750   \n",
      "[Resample] iter 151:  0.8647747   0.8074074   \n",
      "[Resample] iter 152:  0.8643776   0.8812709   \n",
      "[Resample] iter 153:  0.8650816   0.7481481   \n",
      "[Resample] iter 154:  0.8643601   0.8988868   \n",
      "[Resample] iter 155:  0.8643486   0.8850000   \n",
      "[Resample] iter 156:  0.8648756   0.7965839   \n",
      "[Resample] iter 157:  0.8646434   0.8330606   \n",
      "[Resample] iter 158:  0.8650418   0.7500000   \n",
      "[Resample] iter 159:  0.8646434   0.8257212   \n",
      "[Resample] iter 160:  0.8638026   0.9576720   \n",
      "[Resample] iter 161:  0.8645608   0.8330241   \n",
      "[Resample] iter 162:  0.8649328   0.7712418   \n",
      "[Resample] iter 163:  0.8638853   0.9860248   \n",
      "[Resample] iter 164:  0.8644464   0.8844673   \n",
      "[Resample] iter 165:  0.8637962   1.0000000   \n",
      "[Resample] iter 166:  0.8643131   0.9063181   \n"
     ]
    },
    {
     "name": "stderr",
     "output_type": "stream",
     "text": [
      "[Resample] iter 167:  0.8642428   0.9007407   \n",
      "[Resample] iter 168:  0.8642447   0.9062500   \n",
      "[Resample] iter 169:  0.8645693   0.8209877   \n",
      "[Resample] iter 170:  0.8642540   0.9192708   \n",
      "[Resample] iter 171:  0.8639550   0.9660000   \n",
      "[Resample] iter 172:  0.8640624   0.9409722   \n",
      "[Resample] iter 173:  0.8645727   0.8543417   \n",
      "[Resample] iter 174:  0.8641996   0.9028728   \n",
      "[Resample] iter 175:  0.8651498   0.7414075   \n",
      "[Resample] iter 176:  0.8643112   0.8959627   \n",
      "[Resample] iter 177:  0.8644781   0.8711111   \n",
      "[Resample] iter 178:  0.8651090   0.7372159   \n",
      "[Resample] iter 179:  0.8643178   0.8984848   \n",
      "[Resample] iter 180:  0.8640736   0.9218750   \n",
      "[Resample] iter 181:  0.8641600   0.9320786   \n",
      "[Resample] iter 182:  0.8643121   0.8979933   \n",
      "[Resample] iter 183:  0.8643752   0.8770370   \n",
      "[Resample] iter 184:  0.8641694   0.9433551   \n",
      "[Resample] iter 185:  0.8645912   0.8426813   \n",
      "[Resample] iter 186:  0.8641271   0.9456522   \n",
      "[Resample] iter 187:  0.8644112   0.8829787   \n",
      "[Resample] iter 188:  0.8640793   0.9451852   \n",
      "[Resample] iter 189:  0.8645553   0.8487216   \n",
      "[Resample] iter 190:  0.8647251   0.7668269   \n",
      "[Resample] iter 191:  0.8645949   0.8366013   \n",
      "[Resample] iter 192:  0.8649123   0.7894737   \n",
      "[Resample] iter 193:  0.8647921   0.7961696   \n",
      "[Resample] iter 194:  0.8646477   0.8296296   \n",
      "[Resample] iter 195:  0.8645673   0.8237477   \n",
      "[Resample] iter 196:  0.8647697   0.7924242   \n",
      "[Resample] iter 197:  0.8643969   0.8877841   \n",
      "[Resample] iter 198:  0.8646777   0.8340000   \n",
      "[Resample] iter 199:  0.8646630   0.8311688   \n",
      "[Resample] iter 200:  0.8639499   0.9672668   \n",
      "\n",
      "\n",
      "Aggregated Result: auc.test.mean=0.8622581,auc.train.mean=0.8644846\n",
      "\n",
      "\n"
     ]
    }
   ],
   "source": [
    "# Set up cross-validation\n",
    "rdesc = makeResampleDesc(\"CV\", iters=200, predict=\"both\")\n",
    "\n",
    "# Define the model\n",
    "learner <- makeLearner(\"classif.logreg\", predict.type=\"prob\", fix.factors.prediction=T)\n",
    "\n",
    "# Define the task\n",
    "train_task <- makeClassifTask(id=\"full\", data=full[, -1], target=\"Default_45\")\n",
    "\n",
    "# Set hyper parameter tuning\n",
    "tune_params <- makeParamSet(\n",
    ")\n",
    "ctrl = makeTuneControlGrid()\n",
    "\n",
    "# Run the hyper parameter tuning with k-fold CV\n",
    "if (length(tune_params$pars) > 0) {\n",
    "    # Run parameter tuning\n",
    "    res <- tuneParams(learner, task=train_task, resampling=rdesc,\n",
    "      par.set=tune_params, control=ctrl, measures=list(mlr::auc))\n",
    "    \n",
    "    # Extract best model\n",
    "    best_learner <- res$learner\n",
    "    \n",
    "} else {\n",
    "    # Simple cross-validation\n",
    "    res <- resample(learner, train_task, rdesc, measures=list(mlr::auc, setAggregation(mlr::auc, train.mean)))\n",
    "    \n",
    "    # No parameter for tuning, only 1 best learner\n",
    "    best_learner <- learner\n",
    "}"
   ]
  },
  {
   "cell_type": "code",
   "execution_count": 66,
   "metadata": {},
   "outputs": [],
   "source": [
    "# Retrain the model with tbe best hyper-parameters\n",
    "best_md <- mlr::train(best_learner, train_task)"
   ]
  },
  {
   "cell_type": "code",
   "execution_count": 67,
   "metadata": {},
   "outputs": [
    {
     "data": {
      "text/plain": [
       "Prediction: 3036 observations\n",
       "predict.type: prob\n",
       "threshold: 0=0.50,1=0.50\n",
       "time: 0.02\n",
       "   truth    prob.0     prob.1 response\n",
       "4      1 0.7066936 0.29330642        0\n",
       "6      0 0.7501581 0.24984190        0\n",
       "7      0 0.9772944 0.02270562        0\n",
       "15     0 0.9788763 0.02112372        0\n",
       "17     0 0.9044681 0.09553192        0\n",
       "18     0 0.9459238 0.05407620        0\n",
       "... (#rows: 3036, #cols: 4)"
      ]
     },
     "metadata": {},
     "output_type": "display_data"
    }
   ],
   "source": [
    "# Make prediction on test data\n",
    "pred <- predict(best_md, newdata=accepts_test[, -1])\n",
    "pred"
   ]
  },
  {
   "cell_type": "code",
   "execution_count": 82,
   "metadata": {},
   "outputs": [
    {
     "data": {
      "text/html": [
       "<strong>80%:</strong> 0.431671369275482"
      ],
      "text/latex": [
       "\\textbf{80\\textbackslash{}\\%:} 0.431671369275482"
      ],
      "text/markdown": [
       "**80%:** 0.431671369275482"
      ],
      "text/plain": [
       "      80% \n",
       "0.4316714 "
      ]
     },
     "metadata": {},
     "output_type": "display_data"
    }
   ],
   "source": [
    "# Defining a cutoff based on 20% rejection credit strategy  \n",
    "cutoff1 <- quantile(pred$data$prob.1, 0.8)\n",
    "cutoff1\n",
    "\n",
    "# Creating target variable (Default_pred)\n",
    "Default_pred <- ifelse(pred$data$prob.1 > cutoff1, 1, 0)"
   ]
  },
  {
   "cell_type": "markdown",
   "metadata": {},
   "source": [
    "## Evaluation "
   ]
  },
  {
   "cell_type": "markdown",
   "metadata": {},
   "source": [
    "Finally, we evaluate the performance of the model by computing ROC, AUC, sensitivity, specificity and confusion matrix. The metrics are described below.\n",
    "\n",
    "AUC = 0.7767\n",
    "sensitivity = 0.4465\n",
    "specificity = 0.8749"
   ]
  },
  {
   "cell_type": "code",
   "execution_count": 90,
   "metadata": {},
   "outputs": [
    {
     "data": {
      "image/png": "[encoded data removed]",
      "text/plain": [
       "plot without title"
      ]
     },
     "metadata": {},
     "output_type": "display_data"
    }
   ],
   "source": [
    "# Plotting ROC\n",
    "plotROC(accepts_test$Default_45, pred$data$prob.1)"
   ]
  },
  {
   "cell_type": "code",
   "execution_count": 92,
   "metadata": {},
   "outputs": [
    {
     "data": {
      "text/html": [
       "0.446478873239437"
      ],
      "text/latex": [
       "0.446478873239437"
      ],
      "text/markdown": [
       "0.446478873239437"
      ],
      "text/plain": [
       "[1] 0.4464789"
      ]
     },
     "metadata": {},
     "output_type": "display_data"
    },
    {
     "data": {
      "text/html": [
       "0.874892519346518"
      ],
      "text/latex": [
       "0.874892519346518"
      ],
      "text/markdown": [
       "0.874892519346518"
      ],
      "text/plain": [
       "[1] 0.8748925"
      ]
     },
     "metadata": {},
     "output_type": "display_data"
    }
   ],
   "source": [
    "# Computing sensitivity\n",
    "sensitivity(accepts_test$Default_45, pred$data$prob.1, threshold = cutoff1)\n",
    "\n",
    "# Computing specificity\n",
    "specificity(accepts_test$Default_45, pred$data$prob.1, threshold = cutoff1)"
   ]
  },
  {
   "cell_type": "code",
   "execution_count": 93,
   "metadata": {},
   "outputs": [
    {
     "data": {
      "text/html": [
       "<table>\n",
       "<caption>A data.frame: 2 × 2</caption>\n",
       "<thead>\n",
       "\t<tr><th></th><th scope=col>0</th><th scope=col>1</th></tr>\n",
       "\t<tr><th></th><th scope=col>&lt;int&gt;</th><th scope=col>&lt;int&gt;</th></tr>\n",
       "</thead>\n",
       "<tbody>\n",
       "\t<tr><th scope=row>0</th><td>2035</td><td>393</td></tr>\n",
       "\t<tr><th scope=row>1</th><td> 291</td><td>317</td></tr>\n",
       "</tbody>\n",
       "</table>\n"
      ],
      "text/latex": [
       "A data.frame: 2 × 2\n",
       "\\begin{tabular}{r|ll}\n",
       "  & 0 & 1\\\\\n",
       "  & <int> & <int>\\\\\n",
       "\\hline\n",
       "\t0 & 2035 & 393\\\\\n",
       "\t1 &  291 & 317\\\\\n",
       "\\end{tabular}\n"
      ],
      "text/markdown": [
       "\n",
       "A data.frame: 2 × 2\n",
       "\n",
       "| <!--/--> | 0 &lt;int&gt; | 1 &lt;int&gt; |\n",
       "|---|---|---|\n",
       "| 0 | 2035 | 393 |\n",
       "| 1 |  291 | 317 |\n",
       "\n"
      ],
      "text/plain": [
       "  0    1  \n",
       "0 2035 393\n",
       "1  291 317"
      ]
     },
     "metadata": {},
     "output_type": "display_data"
    }
   ],
   "source": [
    "# Calculating Confusion Matrix\n",
    "\n",
    "confusionMatrix(accepts_test$Default_45, pred$data$prob.1, threshold = cutoff1)\n",
    "# The columns are actuals, while rows are predicteds"
   ]
  }
 ],
 "metadata": {
  "kernelspec": {
   "display_name": "R",
   "language": "R",
   "name": "ir"
  },
  "language_info": {
   "codemirror_mode": "r",
   "file_extension": ".r",
   "mimetype": "text/x-r-source",
   "name": "R",
   "pygments_lexer": "r",
   "version": "3.6.1"
  }
 },
 "nbformat": 4,
 "nbformat_minor": 2
}
